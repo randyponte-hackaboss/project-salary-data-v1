{
 "cells": [
  {
   "cell_type": "markdown",
   "id": "408e2315",
   "metadata": {},
   "source": [
    "### Extracción archivos .json de la API"
   ]
  },
  {
   "cell_type": "code",
   "execution_count": null,
   "id": "111bbc6a",
   "metadata": {},
   "outputs": [],
   "source": [
    "import pandas as pd\n",
    "import requests \n",
    "\n",
    "from bs4 import BeautifulSoup\n",
    "\n",
    "from selenium import webdriver\n",
    "from selenium.webdriver.common.by import By\n",
    "from selenium.webdriver.chrome.options import Options\n",
    "from selenium.webdriver.chrome.service import Service\n",
    "import helium\n",
    "\n",
    "from time import sleep\n",
    "import numpy as np\n",
    "import json"
   ]
  },
  {
   "cell_type": "code",
   "execution_count": null,
   "id": "4198f37f",
   "metadata": {},
   "outputs": [],
   "source": [
    "# WebDriver\n",
    "chrome_driver = \"chromedriver.exe\" # PATH del .exe"
   ]
  },
  {
   "cell_type": "code",
   "execution_count": null,
   "id": "a89d9f9d",
   "metadata": {},
   "outputs": [],
   "source": [
    "service = Service(executable_path = chrome_driver)\n",
    "options = webdriver.ChromeOptions()\n",
    "\n",
    "# Abrimos navegador con serpapi.com\n",
    "browser = webdriver.Chrome(service = service, options = options)\n",
    "\n",
    "browser.get(\"https://serpapi.com/users/sign_in\")\n",
    "\n",
    "browser.maximize_window()\n",
    "sleep(3)\n",
    "\n",
    "# Escribimos el mail de google y hacemos click en siguiente para logearnos en serpiapi.com\n",
    "mail = browser.find_element(By.CSS_SELECTOR, value = \"#user_email\")\n",
    "password = browser.find_element(By.CSS_SELECTOR, value = \"#user_password\")\n",
    "\n",
    "mail.send_keys(\"MAIL\") # Poner tu mail de serpapi.com\n",
    "sleep(1)\n",
    "password.send_keys(\"PASSWORD\") # Poner tu pass de serpapi.com\n",
    "sleep(1)\n",
    "\n",
    "browser.find_element(By.CSS_SELECTOR, value = \"#new_user > div.form-group.login-submit > input\").click()\n",
    "sleep(3)\n",
    "browser.find_element(By.CSS_SELECTOR, value = \"#header > div > div > div > nav > div > div > div > a:nth-child(1) > span\").click()\n",
    "sleep(3)\n",
    "\n",
    "# Seleccionamos Google Jobs y vamos a nuestras búsquedas\n",
    "browser.find_element(By.CSS_SELECTOR, value = \"#dashboard-nav > ul > li:nth-child(11) > a > div > span\").click()\n",
    "sleep(3)\n",
    "browser.find_element(By.CSS_SELECTOR, value = \"#dashboard-nav > ul > li:nth-child(4) > a > div > span\").click()\n",
    "sleep(3)\n",
    "\n",
    "# Guardamos todos los .json de todas las páginas en una lista\n",
    "searches = list()\n",
    "ids = list()\n",
    "\n",
    "cont = 0\n",
    "\n",
    "paginas_totales = 298 # Número total de tus páginas de búsquedas en serpapi.com\n",
    "\n",
    "for pagina in range(paginas_totales):\n",
    "\n",
    "        for i in range(1, 101):\n",
    "\n",
    "            cont += 1\n",
    "            \n",
    "            try:\n",
    "                url = browser.find_element(By.CSS_SELECTOR, value = f\"#user > div.box-wrapper.overflow-hidden.mb-4.mt-5 > div > table > tbody > tr:nth-child({i}) > td:nth-child(4) > a:nth-child(1)\").get_attribute(\"href\")\n",
    "                search_id = browser.find_element(By.CSS_SELECTOR, value = f\"#user > div.box-wrapper.overflow-hidden.mb-4.mt-5 > div > table > tbody > tr:nth-child({i}) > td:nth-child(1) > a\").text\n",
    "\n",
    "                searches.append(url)\n",
    "                ids.append(search_id)\n",
    "                \n",
    "            except:\n",
    "                pass\n",
    "\n",
    "            if cont == 100:\n",
    "                try:\n",
    "                    browser.find_element(By.CSS_SELECTOR, value = \"#user > a:nth-child(5)\").click()\n",
    "                    sleep(7) # Aumentar sleep si la página demora en cargarse\n",
    "                    cont = 0\n",
    "                \n",
    "                except:\n",
    "                    browser.find_element(By.CSS_SELECTOR, value = \"#user > a\").click()\n",
    "                    sleep(7) # Aumentar sleep si la página demora en cargarse\n",
    "                    cont = 0\n",
    "                    \n",
    "            else:\n",
    "                pass\n",
    "\n",
    "# Descargamos los archivos .json a partir de las urls de la lista\n",
    "for url, id_ in zip(searches, ids):\n",
    "    \n",
    "    response = requests.get(url)\n",
    "    \n",
    "    if response.status_code == 200:\n",
    "        \n",
    "        with open(f\"searches_id/{id_}.json\", \"bw\") as file: # Ajustar tu PATH para guardar los .json\n",
    "            file.write(response.content)\n",
    "                \n",
    "    else:\n",
    "        print(\"Error.\")"
   ]
  },
  {
   "cell_type": "code",
   "execution_count": null,
   "id": "6999bcd9",
   "metadata": {},
   "outputs": [],
   "source": [
    "################################################################################################################################"
   ]
  }
 ],
 "metadata": {
  "kernelspec": {
   "display_name": "tf",
   "language": "python",
   "name": "tf"
  },
  "language_info": {
   "codemirror_mode": {
    "name": "ipython",
    "version": 3
   },
   "file_extension": ".py",
   "mimetype": "text/x-python",
   "name": "python",
   "nbconvert_exporter": "python",
   "pygments_lexer": "ipython3",
   "version": "3.9.17"
  }
 },
 "nbformat": 4,
 "nbformat_minor": 5
}
