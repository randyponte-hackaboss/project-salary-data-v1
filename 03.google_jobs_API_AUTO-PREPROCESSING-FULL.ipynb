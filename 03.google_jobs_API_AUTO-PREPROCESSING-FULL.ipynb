{
 "cells": [
  {
   "cell_type": "markdown",
   "id": "9792b8ae",
   "metadata": {},
   "source": [
    "### Pipeline preprocesamiento de datos"
   ]
  },
  {
   "cell_type": "code",
   "execution_count": null,
   "id": "a1e3ee8a",
   "metadata": {},
   "outputs": [],
   "source": [
    "import pandas as pd\n",
    "\n",
    "# Omitir warnings\n",
    "import warnings\n",
    "warnings.filterwarnings(\"ignore\")\n",
    "\n",
    "# Librería creada\n",
    "from libraries.preprocess import preprocess\n",
    "from libraries.preprocess import pipeline"
   ]
  },
  {
   "cell_type": "code",
   "execution_count": null,
   "id": "0eab9974",
   "metadata": {},
   "outputs": [],
   "source": [
    "%%time\n",
    "\n",
    "df = pipeline.pipeline(funciones = pipeline.funciones)"
   ]
  },
  {
   "cell_type": "code",
   "execution_count": null,
   "id": "b705d1dd",
   "metadata": {},
   "outputs": [],
   "source": [
    "df = df.rename(columns = {\"experience_level\" : \"experience_levels\",\n",
    "                          \"job_specialization\" : \"Especialidad\",\n",
    "                          \"job_profile\" : \"Perfil\"})\n",
    "\n",
    "df"
   ]
  },
  {
   "cell_type": "code",
   "execution_count": null,
   "id": "aba0a711",
   "metadata": {},
   "outputs": [],
   "source": [
    "df.to_csv(\"data/full_cleaned_data.csv\", index = False, sep = \",\")"
   ]
  },
  {
   "cell_type": "code",
   "execution_count": null,
   "id": "1350dbe6",
   "metadata": {},
   "outputs": [],
   "source": [
    "################################################################################################################################"
   ]
  }
 ],
 "metadata": {
  "kernelspec": {
   "display_name": "tf",
   "language": "python",
   "name": "tf"
  },
  "language_info": {
   "codemirror_mode": {
    "name": "ipython",
    "version": 3
   },
   "file_extension": ".py",
   "mimetype": "text/x-python",
   "name": "python",
   "nbconvert_exporter": "python",
   "pygments_lexer": "ipython3",
   "version": "3.9.17"
  }
 },
 "nbformat": 4,
 "nbformat_minor": 5
}
