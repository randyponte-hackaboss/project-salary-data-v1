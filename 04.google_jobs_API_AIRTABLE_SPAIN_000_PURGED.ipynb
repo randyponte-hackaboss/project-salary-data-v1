{
 "cells": [
  {
   "cell_type": "code",
   "execution_count": null,
   "id": "57c1e77c",
   "metadata": {},
   "outputs": [],
   "source": [
    "import pandas as pd\n",
    "import requests\n",
    "import numpy as np\n",
    "\n",
    "# Librería creada\n",
    "from libraries.preprocess import airtable"
   ]
  },
  {
   "cell_type": "code",
   "execution_count": null,
   "id": "861c7de8",
   "metadata": {
    "scrolled": false
   },
   "outputs": [],
   "source": [
    "# Cargamos DataFrame de los datos limpios de España\n",
    "df = pd.read_csv(\"data/spain_cleaned_data.csv\")"
   ]
  },
  {
   "cell_type": "code",
   "execution_count": null,
   "id": "afe48521",
   "metadata": {
    "scrolled": true
   },
   "outputs": [],
   "source": [
    "airtable.airtable_post_spain(df)"
   ]
  },
  {
   "cell_type": "code",
   "execution_count": null,
   "id": "f51b9fe8",
   "metadata": {},
   "outputs": [],
   "source": [
    "################################################################################################################################"
   ]
  }
 ],
 "metadata": {
  "kernelspec": {
   "display_name": "tf",
   "language": "python",
   "name": "tf"
  },
  "language_info": {
   "codemirror_mode": {
    "name": "ipython",
    "version": 3
   },
   "file_extension": ".py",
   "mimetype": "text/x-python",
   "name": "python",
   "nbconvert_exporter": "python",
   "pygments_lexer": "ipython3",
   "version": "3.9.17"
  }
 },
 "nbformat": 4,
 "nbformat_minor": 5
}
