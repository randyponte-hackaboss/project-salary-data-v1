{
 "cells": [
  {
   "cell_type": "markdown",
   "id": "8151e518",
   "metadata": {},
   "source": [
    "### EXTRACCIÓN"
   ]
  },
  {
   "cell_type": "code",
   "execution_count": 1,
   "id": "fc73efca",
   "metadata": {},
   "outputs": [],
   "source": [
    "import numpy as np\n",
    "import pandas as pd\n",
    "from datetime import datetime\n",
    "from time import sleep\n",
    "import pickle as pkl\n",
    "from pprint import pprint\n",
    "import requests\n",
    "\n",
    "from libraries.serpapi import serpapi\n",
    "from libraries.preprocess import preprocess\n",
    "from libraries.preprocess import pipeline\n",
    "from libraries.preprocess import airtable"
   ]
  },
  {
   "cell_type": "code",
   "execution_count": null,
   "id": "e9e2498d",
   "metadata": {},
   "outputs": [],
   "source": [
    "# Cargamos los puestos y nuestra API_KEY\n",
    "today = datetime.now().strftime(\"%Y-%m-%d\")\n",
    "    \n",
    "api_key = str(input(\"Introduce tu API_KEY de SerpApi: \"))\n",
    "\n",
    "lista_puestos = pd.read_excel(\"data/lista_puestos.xlsx\", header = None)\n",
    "lista_puestos.columns = [\"jobs\"]\n",
    "\n",
    "with open(\"data/lista_puestos_ingles.txt\", \"r\") as file:\n",
    "    lista_puestos_ingles = file.read()\n",
    "    \n",
    "lista_puestos_ingles = lista_puestos_ingles.split(\"\\n\")\n",
    "\n",
    "lista_puestos_ingles = [x for x in [x.replace(\"Developer\", \"\") for x in lista_puestos_ingles] if len(x.split()) > 1]"
   ]
  },
  {
   "cell_type": "code",
   "execution_count": null,
   "id": "880c6ca4",
   "metadata": {},
   "outputs": [],
   "source": [
    "# Ajustamos España como país de búsqueda\n",
    "spain = [[\".es\", \"Spain\"]]\n",
    "\n",
    "# Ajustamos Latino-américa como países de búsqueda\n",
    "latam = [[\"com.ar\", \"Argentina\"]         ,\n",
    "         [\"com.bo\", \"Bolivia\"]           ,\n",
    "         [\"com.br\", \"Brazil\"]            ,\n",
    "         [\"cl\", \"Chile\"]             ,\n",
    "         [\"com.co\", \"Colombia\"]          ,\n",
    "         [\"co.cr\", \"Costa Rica\"]        ,\n",
    "         [\"com.cu\", \"Cuba\"]              ,\n",
    "         [\"com.do\", \"Dominican Republic\"],\n",
    "         [\"com.ec\", \"Ecuador\"]           ,\n",
    "         [\"com.sv\", \"El Salvador\"]       ,\n",
    "         [\"com.gt\", \"Guatemala\"]         ,\n",
    "         [\"hn\", \"Honduras\"]          ,\n",
    "         [\"com.mx\", \"Mexico\"]            ,\n",
    "         [\"com.ni\", \"Nicaragua\"]         ,\n",
    "         [\"com.pa\", \"Panama\"]            ,\n",
    "         [\"com.py\", \"Paraguay\"]          ,\n",
    "         [\"com.pe\", \"Peru\"]              ,\n",
    "         [\"com.pr\", \"Puerto Rico\"]       ,\n",
    "         [\"com.uy\", \"Uruguay\"]]\n",
    "\n",
    "paises = str(input(\"¿Dónde quieres hacer búsquedas de empleo? Para España: spain, para Latinoamérica: latam \"))\n",
    "\n",
    "if paises == \"spain\":\n",
    "    paises = spain\n",
    "    puestos = lista_puestos\n",
    "    pais = \"spain\"\n",
    "\n",
    "elif paises == \"latam\":\n",
    "    paises = latam\n",
    "    puestos = lista_puestos_ingles\n",
    "    pais = \"latam\""
   ]
  },
  {
   "cell_type": "code",
   "execution_count": null,
   "id": "83aabca6",
   "metadata": {},
   "outputs": [],
   "source": [
    "%%time\n",
    "\n",
    "df = pd.DataFrame()\n",
    "\n",
    "for abr, country in paises:\n",
    "    \n",
    "    for q in puestos:\n",
    "\n",
    "        try:\n",
    "            \n",
    "            for pagination in range(100):\n",
    "                \n",
    "                print(f\"{q:60}{pagination}\")\n",
    "\n",
    "                q_params = {\"q\"             : q,\n",
    "                            \"api_key\"       : api_key,\n",
    "                            \"location\"      : country.title(),\n",
    "                            \"start\"         : pagination*10\n",
    "                            }\n",
    "\n",
    "                response = serpapi.job_search(**q_params)\n",
    "\n",
    "\n",
    "                if (\"error\" in response) or (response.get(\"jobs_results\") == None) or (len(response.get(\"jobs_results\")) < 10):\n",
    "                    break\n",
    "\n",
    "                df_response = pd.json_normalize(response[\"jobs_results\"])\n",
    "\n",
    "                df_response.columns = [x.split(\".\")[0] if len(x.split(\".\")) == 1 else x.split(\".\")[-1] for x in df_response.columns]\n",
    "\n",
    "                df_response[\"country_search\"] = country.title()\n",
    "                \n",
    "                df = pd.concat(objs = [df, df_response], ignore_index = True)\n",
    "                \n",
    "        except:\n",
    "            \n",
    "            print(f\"Error {q} ***************************************************************\")\n",
    "                 \n",
    "df = df.drop_duplicates(subset = \"job_id\").reset_index(drop = True)\n",
    "df[\"date_posted\"] = datetime.strptime(today, \"%Y-%m-%d\").date()\n",
    "\n",
    "df.to_csv(f\"data/extraction_{today}_{pais}.csv\", index = False)"
   ]
  },
  {
   "cell_type": "markdown",
   "id": "8d3f346e",
   "metadata": {},
   "source": [
    "### PROCESAMIENTO"
   ]
  },
  {
   "cell_type": "code",
   "execution_count": null,
   "id": "4bc90867",
   "metadata": {},
   "outputs": [],
   "source": [
    "%%time\n",
    "\n",
    "df = pipeline.pipeline(funciones = pipeline.funciones, \n",
    "                       df = df)\n",
    "\n",
    "df = df.rename(columns = {\"experience_level\" : \"experience_levels\",\n",
    "                          \"job_specialization\" : \"Especialidad\",\n",
    "                          \"job_profile\" : \"Perfil\"})\n",
    "\n",
    "df.to_csv(f\"data/{pais}_cleaned_data_{today}.csv\", index = False)"
   ]
  },
  {
   "cell_type": "markdown",
   "id": "53738705",
   "metadata": {},
   "source": [
    "### SUBIDA AIRTABLE"
   ]
  },
  {
   "cell_type": "code",
   "execution_count": null,
   "id": "b51e7404",
   "metadata": {},
   "outputs": [],
   "source": [
    "%%time\n",
    "\n",
    "airtable_key = str(input(\"Introduce tu API_KEY de airtable: \"))\n",
    "base = str(input(\"Introduce la base de la tabla destino: \"))\n",
    "table = str(input(\"Introduce la tabla destino: \"))\n",
    "\n",
    "airtable.airtable_post_spain(df = df, \n",
    "                             airtable_key = airtable_key, \n",
    "                             base = base, \n",
    "                             table = table)"
   ]
  }
 ],
 "metadata": {
  "kernelspec": {
   "display_name": "tf",
   "language": "python",
   "name": "tf"
  },
  "language_info": {
   "codemirror_mode": {
    "name": "ipython",
    "version": 3
   },
   "file_extension": ".py",
   "mimetype": "text/x-python",
   "name": "python",
   "nbconvert_exporter": "python",
   "pygments_lexer": "ipython3",
   "version": "3.9.17"
  }
 },
 "nbformat": 4,
 "nbformat_minor": 5
}
