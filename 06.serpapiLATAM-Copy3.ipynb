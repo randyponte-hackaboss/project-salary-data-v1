{
 "cells": [
  {
   "cell_type": "code",
   "execution_count": null,
   "id": "6f6dc39e",
   "metadata": {},
   "outputs": [],
   "source": [
    "import numpy as np\n",
    "import pandas as pd\n",
    "\n",
    "from datetime import datetime\n",
    "from time import sleep\n",
    "\n",
    "import pickle\n",
    "\n",
    "from pprint import pprint\n",
    "\n",
    "from hab.airtable.airtable import AirtableHAB\n",
    "from hab.serpapi import serpapi, locations\n",
    "from hab.clean_functions import clean"
   ]
  },
  {
   "cell_type": "code",
   "execution_count": null,
   "id": "b228e55d",
   "metadata": {},
   "outputs": [],
   "source": [
    "today = datetime.now().strftime(\"%Y%m%d\")\n",
    "# print(today)\n",
    "\n",
    "with open(file = \"serpapi_key.txt\", mode = \"r\") as file:\n",
    "    api_key = file.read()\n",
    "    \n",
    "# print(api_key)\n",
    "\n",
    "lista_puestos = pd.read_excel(\"Lista_Puestos.xlsx\", header = None)\n",
    "\n",
    "lista_puestos.columns = [\"jobs\"]"
   ]
  },
  {
   "cell_type": "code",
   "execution_count": null,
   "id": "88d564fa",
   "metadata": {},
   "outputs": [],
   "source": [
    "lista_puestos"
   ]
  },
  {
   "cell_type": "code",
   "execution_count": null,
   "id": "0fceb177",
   "metadata": {},
   "outputs": [],
   "source": [
    "with open(\"lista_puestos_ingles.txt\", \"r\") as file:\n",
    "    lista_puestos_ingles = file.read()\n",
    "    \n",
    "lista_puestos_ingles = lista_puestos_ingles.split(\"\\n\")\n",
    "\n",
    "lista_puestos_ingles"
   ]
  },
  {
   "cell_type": "code",
   "execution_count": null,
   "id": "367d76a3",
   "metadata": {},
   "outputs": [],
   "source": [
    "[x for x in [x.replace(\"Developer\", \"\") for x in lista_puestos_ingles] if len(x.split()) > 1]"
   ]
  },
  {
   "cell_type": "code",
   "execution_count": null,
   "id": "f54fbe54",
   "metadata": {},
   "outputs": [],
   "source": [
    "latam = [[\"com.ar\", \"Argentina\"]         ,\n",
    "         [\"com.bo\", \"Bolivia\"]           ,\n",
    "         [\"com.br\", \"Brazil\"]            ,\n",
    "         [\"ca\", \"Canada\"]            ,\n",
    "         [\"cl\", \"Chile\"]             ,\n",
    "         [\"com.co\", \"Colombia\"]          ,\n",
    "         [\"co.cr\", \"Costa Rica\"]        ,\n",
    "         [\"com.cu\", \"Cuba\"]              ,\n",
    "         [\"com.do\", \"Dominican Republic\"],\n",
    "         [\"com.ec\", \"Ecuador\"]           ,\n",
    "         [\"com.sv\", \"El Salvador\"]       ,\n",
    "         [\"com.gt\", \"Guatemala\"]         ,\n",
    "#          [\"gy\", \"Guyana\"]            ,\n",
    "#          [\"ht\", \"Haiti\"]             ,\n",
    "         [\"hn\", \"Honduras\"]          ,\n",
    "#          [\"jm\", \"Jamaica\"]           ,\n",
    "         [\"com.mx\", \"Mexico\"]            ,\n",
    "         [\"com.ni\", \"Nicaragua\"]         ,\n",
    "         [\"com.pa\", \"Panama\"]            ,\n",
    "         [\"com.py\", \"Paraguay\"]          ,\n",
    "         [\"com.pe\", \"Peru\"]              ,\n",
    "         [\"com.pr\", \"Puerto Rico\"]       ,\n",
    "         [\"com.uy\", \"Uruguay\"]           ,\n",
    "#          [\"ve\", \"Venezuela\"]\n",
    "        ]\n",
    "\n",
    "latam"
   ]
  },
  {
   "cell_type": "code",
   "execution_count": null,
   "id": "cc731a4c",
   "metadata": {
    "scrolled": true
   },
   "outputs": [],
   "source": [
    "%%time\n",
    "\n",
    "df = pd.DataFrame()\n",
    "\n",
    "for abr, country in latam[::-1]:\n",
    "    \n",
    "    for q in lista_puestos_ingles:\n",
    "\n",
    "        try:\n",
    "            for pagination in range(100):\n",
    "                \n",
    "#                 sleep(0.3)\n",
    "\n",
    "                print(f\"{q:60}{pagination}\")\n",
    "\n",
    "                q_params = {\"q\"             : q,\n",
    "                            \"api_key\"       : api_key,\n",
    "                            \"location\"      : country.title(),\n",
    "                            \"start\"         : pagination*10,\n",
    "#                             \"gl\"            : abr,\n",
    "#                             \"hl\"            : \"es\",\n",
    "#                             \"google_domain\" : f\"google.{abr}\",\n",
    "#                             \"chips\"         : \"date_posted:year\"\n",
    "                            }\n",
    "\n",
    "                response = serpapi.job_search(**q_params)\n",
    "\n",
    "\n",
    "                if (\"error\" in response) or (response.get(\"jobs_results\") == None) or (len(response.get(\"jobs_results\")) < 10):\n",
    "                    break\n",
    "                \n",
    "                now = datetime.now()\n",
    "                \n",
    "                with open(file = f\"json_searches_latam/{str(now.timestamp()).replace('.', '')}.pkl\", mode = \"bw\") as file:\n",
    "                    pickle.dump(response, file)\n",
    "\n",
    "                df_response = pd.json_normalize(response[\"jobs_results\"])\n",
    "\n",
    "                df_response.columns = [x.split(\".\")[0] if len(x.split(\".\")) == 1 else x.split(\".\")[-1] for x in df_response.columns]\n",
    "\n",
    "                df_response[\"country_search\"] = country.title()\n",
    "            #     df_response = df_response[[\"job_id\", \"title\", \"company_name\", \"location\", \"source\", \"description\", \"country\", \"date_posted\", \"contract_type\", \"remote_work\"]]\n",
    "\n",
    "                df = pd.concat(objs = [df, df_response], ignore_index = True)\n",
    "        except:\n",
    "            print(f\"Error {q} ***************************************************************\")\n",
    "            \n",
    "        \n",
    "            \n",
    "            \n",
    "df = df.drop_duplicates(subset = \"job_id\").reset_index(drop = True)\n",
    "\n",
    "df.to_csv(f\"extraccion_{today}_latam2.csv\", index = False)\n",
    "df.to_pickle(f\"extraccion_{today}_latam2.pkl\")"
   ]
  },
  {
   "cell_type": "code",
   "execution_count": null,
   "id": "a88974b5",
   "metadata": {},
   "outputs": [],
   "source": [
    "response"
   ]
  },
  {
   "cell_type": "code",
   "execution_count": null,
   "id": "58a0d6db",
   "metadata": {},
   "outputs": [],
   "source": [
    "df_new = df.copy()\n",
    "df_new.drop_duplicates(subset = \"description\", inplace = True)\n",
    "df_new.reset_index(drop = True, inplace = True)\n",
    "\n",
    "df_new.shape"
   ]
  },
  {
   "cell_type": "code",
   "execution_count": null,
   "id": "f1faff86",
   "metadata": {},
   "outputs": [],
   "source": []
  },
  {
   "cell_type": "code",
   "execution_count": null,
   "id": "156ddcfc",
   "metadata": {},
   "outputs": [],
   "source": [
    "df_new[\"date_posted\"] = datetime.strptime(\"2023-08-02\", \"%Y-%m-%d\").date()\n",
    "df_new"
   ]
  },
  {
   "cell_type": "code",
   "execution_count": null,
   "id": "f4baf000",
   "metadata": {},
   "outputs": [],
   "source": [
    "%%time\n",
    "\n",
    "job_types = [\"Full-time\", \"Part-time\", \"Contractor\", \"Internship\"]\n",
    "\n",
    "# Drops Duplicates\n",
    "df_new = df_new.drop_duplicates(\"job_id\").reset_index(drop = True) \n",
    "\n",
    "# Cleans \"via\"\n",
    "df_new[\"via\"] = df_new[\"via\"].apply(lambda x : clean.clean_source(x) if not pd.isna(x) else x)\n",
    "\n",
    "# Cleans \"location\"\n",
    "df_new[\"location\"] = df_new[\"location\"].apply(lambda x : clean.clean_location(x))\n",
    "\n",
    "# Cleans \"contract_type\"\n",
    "# df_new[\"schedule_type\"] = df_new[\"schedule_type\"].apply(lambda x : clean.clean_contract_type(x) if x not in job_types else x)\n",
    "\n",
    "# Cleans \"created_date\"\n",
    "df_new[\"posted_at\"] = df_new[\"posted_at\"].apply(lambda x : clean.transform_date(x))\n",
    "\n",
    "df_new[\"date_posted\"] = [clean.get_date(x, y) for x, y in df_new[[\"date_posted\", \"posted_at\"]].values]\n",
    "\n",
    "# Creates \"tech_skills\"\n",
    "df_new[\"tech_skills\"] = df_new[\"description\"].apply(lambda x : clean.get_skills(x) if not pd.isna(x) else x)"
   ]
  },
  {
   "cell_type": "code",
   "execution_count": null,
   "id": "f8b8eebf",
   "metadata": {},
   "outputs": [],
   "source": [
    "df_new.to_csv(\"latam 004.csv\", index = False)"
   ]
  },
  {
   "cell_type": "code",
   "execution_count": null,
   "id": "129104b5",
   "metadata": {},
   "outputs": [],
   "source": []
  },
  {
   "cell_type": "code",
   "execution_count": null,
   "id": "e72c242a",
   "metadata": {},
   "outputs": [],
   "source": []
  },
  {
   "cell_type": "code",
   "execution_count": null,
   "id": "b4d7ccaa",
   "metadata": {},
   "outputs": [],
   "source": []
  },
  {
   "cell_type": "code",
   "execution_count": null,
   "id": "994db484",
   "metadata": {},
   "outputs": [],
   "source": []
  },
  {
   "cell_type": "code",
   "execution_count": null,
   "id": "be99a7e0",
   "metadata": {},
   "outputs": [],
   "source": []
  }
 ],
 "metadata": {
  "kernelspec": {
   "display_name": "Python 3 (ipykernel)",
   "language": "python",
   "name": "python3"
  },
  "language_info": {
   "codemirror_mode": {
    "name": "ipython",
    "version": 3
   },
   "file_extension": ".py",
   "mimetype": "text/x-python",
   "name": "python",
   "nbconvert_exporter": "python",
   "pygments_lexer": "ipython3",
   "version": "3.9.12"
  }
 },
 "nbformat": 4,
 "nbformat_minor": 5
}
