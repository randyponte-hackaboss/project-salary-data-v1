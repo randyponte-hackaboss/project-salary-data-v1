{
 "cells": [
  {
   "cell_type": "markdown",
   "id": "2bcc7025",
   "metadata": {},
   "source": [
    "## RESUMEN GLOBAL"
   ]
  },
  {
   "cell_type": "markdown",
   "id": "29722ae1",
   "metadata": {},
   "source": [
    "### EXTRACCIÓN"
   ]
  },
  {
   "attachments": {},
   "cell_type": "markdown",
   "id": "9dd90b9b",
   "metadata": {},
   "source": [
    "![SerpApi](https://images.squarespace-cdn.com/content/v1/5a01100f692ebe0459a1859f/1645130897305-HRHJUHGB0CWO0E0952IX/serpapi-logo.png)\n",
    "\n",
    "Utilizamos [SerpApi](https://serpapi.com) como motor de búsqueda de empleos.\n",
    "\n",
    "Para ello creamos una [función](https://github.com/randyponte-hackaboss/project-salary-data-v1/blob/dev-gfernandez/libraries/serpapi/serpapi.py) para dicha búsqueda, basándonos en la documentación de la propia API con [Google Jobs](https://serpapi.com/google-jobs-api). Además, usamos una [lista](https://github.com/randyponte-hackaboss/project-salary-data-v1/blob/dev-gfernandez/data/lista_puestos_ingles.txt) con trabajos del sector IT con la que iteramos para abarcar más en dichas búsquedas.\n",
    "\n",
    "Finalmente tras lanzar el código obtenemos un dataset con los **datos en bruto**.\n",
    "\n",
    "Notebook con todo el código de extracción ------> [Extracción](https://github.com/randyponte-hackaboss/project-salary-data-v1/blob/dev-gfernandez/01.google_jobs_API_SEARCH.ipynb)"
   ]
  },
  {
   "cell_type": "markdown",
   "id": "8f68bc7c",
   "metadata": {},
   "source": [
    "### PREPROCESAMIENTO Y CLASIFICACIÓN"
   ]
  },
  {
   "cell_type": "markdown",
   "id": "3da230f2",
   "metadata": {},
   "source": [
    "Para el **preprocesamiento** de datos utilizamos una [librería](https://github.com/randyponte-hackaboss/project-salary-data-v1/tree/dev-gfernandez/libraries/preprocess/preprocess.py) que creamos en función de la limpieza necesaria que necesitan los datos que nos devuelven las búsquedas.\n",
    "\n",
    "Necesitamos además distintos [datasets](https://github.com/randyponte-hackaboss/project-salary-data-v1/tree/dev-gfernandez/data) que encontramos en distintas webs para obtener, por ejemplo: la **provincia** dónde se ubica la oferta de empleo, **las competencias técnicas** que se tienen en cuenta en cada oferta de empleo y la **especialidad** del perfil que se oferta.\n",
    "\n",
    "Como resumen de todo el procesamiento de datos:\n",
    "\n",
    "- Corregir la **``fuente``** de la que provenía la oferta. \n",
    "- Obtener el **``país``** y limpiarlo. \n",
    "- Obtener la **``provincia``** y limpiarla.\n",
    "- Corregir la **``fecha``** en la que se publicó la oferta.\n",
    "- Encontrar los **``años de experiencia``** y, en función de los años que obtuviésemos, clasificar si solicitaban un **``Junior, un Semi-Senior o un Senior``**. Además de esto, sino se encontraba información en la descripción, pasábamos al título de la oferta, y si contiene dicha información, extraer la experiencia requerida.\n",
    "- Ver si el empleo es en **``remoto, presencial o híbrido``**.\n",
    "- Encontrar en base a la descripción del empleo, que **``competencias técnicas``** requiere."
   ]
  },
  {
   "cell_type": "markdown",
   "id": "ec3f3b50",
   "metadata": {},
   "source": [
    "#### AUTO-PREPROCESAMIENTO"
   ]
  },
  {
   "cell_type": "markdown",
   "id": "1f6d88b2",
   "metadata": {},
   "source": [
    "Una vez afinada la limpieza y clasificación, decidimos crear un [pipeline](https://github.com/randyponte-hackaboss/project-salary-data-v1/blob/dev-gfernandez/libraries/preprocess/pipeline.py) con todas las funciones, y que **automáticamente** ejecute de principio a fin todo el proceso de limpieza y devuelva un dataset con todos los **datos limpios**.\n",
    "\n",
    "Notebook con todo el código de autopreprocesamiento ------> [Autopreprocesamiento](https://github.com/randyponte-hackaboss/project-salary-data-v1/blob/dev-gfernandez/03.google_jobs_API_AUTO-PREPROCESSING-SPAIN.ipynb)"
   ]
  },
  {
   "cell_type": "markdown",
   "id": "c825204e",
   "metadata": {},
   "source": [
    "### SUBIDA A AIRTABLE"
   ]
  },
  {
   "attachments": {
    "airtable_215.png": {
     "image/png": "[encoded data removed]"
    }
   },
   "cell_type": "markdown",
   "id": "a849f09c",
   "metadata": {},
   "source": [
    "![airtable_215.png](attachment:airtable_215.png)\n",
    "\n",
    "Finalmente, con los datos limpios, subimos a **Airtable** el dataset.\n",
    "\n",
    "Creamos una nueva librería con el [proceso de subida](https://github.com/randyponte-hackaboss/project-salary-data-v1/blob/dev-gfernandez/libraries/preprocess/airtable.py) de la API de Airtable.\n",
    "\n",
    "Necesitamos corregir alguna que otra columna de datos por problemas con la subida de Airtable pero finalmente los archivos se alojan en la web."
   ]
  }
 ],
 "metadata": {
  "kernelspec": {
   "display_name": "tf",
   "language": "python",
   "name": "tf"
  },
  "language_info": {
   "codemirror_mode": {
    "name": "ipython",
    "version": 3
   },
   "file_extension": ".py",
   "mimetype": "text/x-python",
   "name": "python",
   "nbconvert_exporter": "python",
   "pygments_lexer": "ipython3",
   "version": "3.9.17"
  }
 },
 "nbformat": 4,
 "nbformat_minor": 5
}
