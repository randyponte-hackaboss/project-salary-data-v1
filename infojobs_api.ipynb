{
 "cells": [
  {
   "cell_type": "code",
   "execution_count": 1,
   "id": "3ca06112",
   "metadata": {},
   "outputs": [],
   "source": [
    "import numpy as np\n",
    "import pandas as pd\n",
    "import requests\n",
    "\n",
    "import json\n",
    "from pprint import pprint"
   ]
  },
  {
   "cell_type": "code",
   "execution_count": 2,
   "id": "23ca1977",
   "metadata": {},
   "outputs": [],
   "source": [
    "dictionaryId = \"category\"\n",
    "\n",
    "endpoint = f\"https://api.infojobs.net/api/1/dictionary/{dictionaryId}\"\n",
    "\n",
    "response = requests.get(endpoint)"
   ]
  },
  {
   "cell_type": "code",
   "execution_count": 3,
   "id": "c9d7a5aa",
   "metadata": {},
   "outputs": [
    {
     "data": {
      "text/plain": [
       "<Response [401]>"
      ]
     },
     "execution_count": 3,
     "metadata": {},
     "output_type": "execute_result"
    }
   ],
   "source": [
    "response"
   ]
  },
  {
   "cell_type": "code",
   "execution_count": 12,
   "id": "a0bd5fa6",
   "metadata": {},
   "outputs": [
    {
     "name": "stdout",
     "output_type": "stream",
     "text": [
      "https://api.infojobs.net/api/7/offer?q=data+science\n",
      "500\n"
     ]
    }
   ],
   "source": [
    "base_offer = \"https://api.infojobs.net/api/7/offer\"\n",
    "\n",
    "API_KEY = \"QWxhZGRpbjpvcGVuIHNlc2FtZQ==\"\n",
    "\n",
    "params = {\"q\" : \"data science\"}\n",
    "\n",
    "headers = {\"Content-Type\" : \"application/json\",\n",
    "           \"Authorization\" : f\"Basic {API_KEY}\"}\n",
    "\n",
    "response = requests.get(url = base_offer, params = params, headers = headers)\n",
    "\n",
    "print(response.url)\n",
    "print(response.status_code)"
   ]
  },
  {
   "cell_type": "code",
   "execution_count": null,
   "id": "07dce120",
   "metadata": {},
   "outputs": [],
   "source": []
  }
 ],
 "metadata": {
  "kernelspec": {
   "display_name": "Python 3 (ipykernel)",
   "language": "python",
   "name": "python3"
  },
  "language_info": {
   "codemirror_mode": {
    "name": "ipython",
    "version": 3
   },
   "file_extension": ".py",
   "mimetype": "text/x-python",
   "name": "python",
   "nbconvert_exporter": "python",
   "pygments_lexer": "ipython3",
   "version": "3.9.12"
  }
 },
 "nbformat": 4,
 "nbformat_minor": 5
}
