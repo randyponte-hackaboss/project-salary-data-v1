{
 "cells": [
  {
   "cell_type": "code",
   "execution_count": 1,
   "id": "50948798",
   "metadata": {},
   "outputs": [],
   "source": [
    "import numpy as np\n",
    "import pandas as pd\n",
    "\n",
    "import requests\n",
    "\n",
    "import json\n",
    "from pprint import pprint"
   ]
  },
  {
   "cell_type": "code",
   "execution_count": null,
   "id": "c6e195cd",
   "metadata": {},
   "outputs": [],
   "source": [
    "infojob_url = \"https://www.infojobs.net/\""
   ]
  },
  {
   "cell_type": "code",
   "execution_count": 12,
   "id": "f5fe4b42",
   "metadata": {},
   "outputs": [
    {
     "data": {
      "text/plain": [
       "98"
      ]
     },
     "execution_count": 12,
     "metadata": {},
     "output_type": "execute_result"
    }
   ],
   "source": [
    "string = \"\"\"\n",
    "Greetings Professor,\n",
    "\n",
    "I am reaching out to you due to the fact that I will no longer be able to continue with the UX/UI Subject.\n",
    "\n",
    "The main reason for me to not be taking the UX/UI Subject is my impossibility to attend classes in the indicated hours. I am participating in a group project for another university subject at the same time as this subject’s hours and it is not possible for me to not attend the project or skip it at all.\n",
    "\n",
    "I was thinking about a solution to this problem, and a solution can be if you agree on letting me take this subject without attending classes, I will be taking part in the assignments and projects for this subject as normal, but I will be using just the online material and some help from my classmates but I first would like to know if you agree with this request.\n",
    "\n",
    "Thank you for taking the time to read this email and reach out to me as soon as you can. I am looking forward to discussing this matter with you in the near future.\n",
    "\n",
    "Kind regards,\n",
    "\n",
    "Daniel Tümmler.\n",
    "\n",
    "\"\"\"\n",
    "\n",
    "len([i for i in string.split() if len(i) >= 4])"
   ]
  },
  {
   "cell_type": "code",
   "execution_count": null,
   "id": "1921d4a0",
   "metadata": {},
   "outputs": [],
   "source": []
  }
 ],
 "metadata": {
  "kernelspec": {
   "display_name": "Python 3 (ipykernel)",
   "language": "python",
   "name": "python3"
  },
  "language_info": {
   "codemirror_mode": {
    "name": "ipython",
    "version": 3
   },
   "file_extension": ".py",
   "mimetype": "text/x-python",
   "name": "python",
   "nbconvert_exporter": "python",
   "pygments_lexer": "ipython3",
   "version": "3.9.12"
  }
 },
 "nbformat": 4,
 "nbformat_minor": 5
}
