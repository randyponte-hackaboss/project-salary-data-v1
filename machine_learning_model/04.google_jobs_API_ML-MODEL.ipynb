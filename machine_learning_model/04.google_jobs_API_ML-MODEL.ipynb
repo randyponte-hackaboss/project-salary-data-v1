{
 "cells": [
  {
   "cell_type": "code",
   "execution_count": 1,
   "id": "29ffa25c",
   "metadata": {},
   "outputs": [
    {
     "name": "stderr",
     "output_type": "stream",
     "text": [
      "[nltk_data] Downloading package stopwords to\n",
      "[nltk_data]     C:\\Users\\germa\\AppData\\Roaming\\nltk_data...\n",
      "[nltk_data]   Package stopwords is already up-to-date!\n"
     ]
    }
   ],
   "source": [
    "import requests\n",
    "import pandas as pd\n",
    "import os\n",
    "from tqdm.auto import tqdm\n",
    "import json\n",
    "import math\n",
    "import numpy as np\n",
    "\n",
    "from src.textprocessing.preprocess import normalize_text, remove_punctuation"
   ]
  },
  {
   "cell_type": "markdown",
   "id": "0a35483a",
   "metadata": {},
   "source": [
    "### Extracción"
   ]
  },
  {
   "cell_type": "code",
   "execution_count": 2,
   "id": "a545e8bd",
   "metadata": {},
   "outputs": [],
   "source": [
    "df = pd.read_csv(\"../data/cleaned/spain_cleaned_data_2023-11-21.csv\")\n",
    "# df = df.sample(frac = 0.1).reset_index(drop = True)\n",
    "\n",
    "df[[\"salary_min_form\", \"salary_max_form\", \"currency_form\", \"time_lapse_form\"]] = \"\""
   ]
  },
  {
   "cell_type": "code",
   "execution_count": 3,
   "id": "2f3e3837",
   "metadata": {},
   "outputs": [],
   "source": [
    "def extract_salary(description, job_id, location):\n",
    "    response = requests.post('http://localhost:3000/predict',\n",
    "                             data = json.dumps({\"description\" : description,\n",
    "                                                \"jobid\" : job_id,\n",
    "                                                \"location\" : location\n",
    "                                               }),\n",
    "                             headers = {\"Content-Type\" : \"application/json\"})\n",
    "\n",
    "    if response.status_code == 200:\n",
    "        return response.json()\n",
    "    \n",
    "    return {'max': 0, 'min': 0, 'error_status_code': response.status_code}"
   ]
  },
  {
   "cell_type": "code",
   "execution_count": 4,
   "id": "91bc9d76",
   "metadata": {
    "scrolled": true
   },
   "outputs": [
    {
     "data": {
      "application/vnd.jupyter.widget-view+json": {
       "model_id": "781c5f85399448dca33c3164986525c2",
       "version_major": 2,
       "version_minor": 0
      },
      "text/plain": [
       "  0%|          | 0/2029 [00:00<?, ?it/s]"
      ]
     },
     "metadata": {},
     "output_type": "display_data"
    },
    {
     "name": "stdout",
     "output_type": "stream",
     "text": [
      "[output salary: {'cost': 0.00101, 'currency': ' ', 'max': 0.0, 'min': 0.0, 'reduce_description': 'medicos (iso 62304). la persona software (iso 62304). the ideal minimo de 5 anos de minimum of 5 years of result of 10 years of minimo de 5 anos de minimum of 5 years of spain', 'source': 'Chat-Gpt', 'time_lapse': ' ', 'token_count_sent_chat_gpt': 664}]\n",
      "[------- Full Description -------]\n",
      "(Spanish)\n",
      "\n",
      "NEWRO – Desarrollador/a de Software\n",
      "\n",
      "NEWRO emerge como una spin-off de Tecnalia, resultado de una década de colaboración entre este centro y las Universidades de Berkeley, EE.UU., y Tübingen, Alemania. La misión de NEWRO es llevar la tecnología de rehabilitación motora basada en una interfaz cerebro-máquina híbrida a pacientes de ictus con parálisis de miembro superior. NEWRO ya cuenta con un prototipo funcional y evidencia científica extensa sobre el potencial de esta tecnología para la neurorrehabilitación de pacientes de ictus en cualquier nivel de discapacidad y cronicidad.\n",
      "\n",
      "Trabajar en NEWRO te permitirá ser parte de la misión de llevar esta innovadora tecnología al mercado y finalmente proporcionar una solución a los millones de pacientes afectados por un ictus.\n",
      "\n",
      "Descripción de la oferta\n",
      "\n",
      "En NEWRO, estamos buscando un/a Ingeniero/a de Software para desempeñar un papel crítico en la industrialización del software de la tecnología NEWRO para la neurorrehabilitación de... ictus, lo que brindará la oportunidad de acceder a terapias efectivas y eficientes para aquellos pacientes con parálisis del miembro superior.\n",
      "\n",
      "Qué harás\n",
      "\n",
      "Como el/la principal contribuyente al desarrollo de software de NEWRO, algunas de las tareas que llevarás a cabo incluyen:\n",
      "• Diseñar la arquitectura de software para soportar una interfaz de usuario para proveedores de atención médica, software de control del exoesqueleto y procesamiento de señales sofisticado para inferir señales de control del exoesqueleto a partir de las señales neurales del paciente.\n",
      "• Desarrollar y probar el software con el exoesqueleto y posteriormente con individuos sanos.\n",
      "• Verificar la implementación del software en base a la arquitectura y requisitos definidos, y de acuerdo con la regulación aplicable para software de dispositivos médicos (ISO 62304).\n",
      "\n",
      "La persona ideal estará involucrada en el ciclo de vida completo del software para su certificación como dispositivo médico y su posterior mantenimiento y mejora. Las responsabilidades incluyen estar a la vanguardia de las tecnologías existentes para saber cómo elegir las adecuadas y poder adaptarse a cada caso de uso cuando sea necesario.\n",
      "\n",
      "Qué te ofrecemos\n",
      "• Contrato indefinido y a tiempo completo\n",
      "• Ubicación: Donostia- San Sebastián (España)\n",
      "• Modalidad de trabajo: Híbrida\n",
      "\n",
      "Requisitos\n",
      "\n",
      "Experiencia y habilidades clave\n",
      "• Grado en Ingeniería Informática, Telecomunicaciones o campo similar.\n",
      "• Mínimo de 5 años de experiencia como desarrollador/a de software.\n",
      "• Experiencia en programación en Python y C/C++.\n",
      "• Experiencia en desarrollo de software en sistemas operativos Windows y Linux.\n",
      "• Experiencia en el desarrollo e implementación de sistemas de dispositivos conectados: comunicación de dispositivo a dispositivo (Wifi, Bluetooth, UDP, TCPIP, etc.), bases de datos (SQLite), marco PyQt para interfaz gráfica, etc.\n",
      "• Experiencia en la creación de código probable y la implementación de pruebas unitarias, de integración y funcionales automatizadas como parte del desarrollo de nuevos productos.\n",
      "• Experiencia en la aplicación de prácticas DevOps, así como herramientas asociadas (GitLab CI/CD, Jenkins, Docker, etc.).\n",
      "• Experiencia en desarrollo de software con metodologías ágiles.\n",
      "• Capacidad para resolver problemas mediante el análisis de retos técnicos complejos y proponer soluciones innovadoras.\n",
      "• Excelentes habilidades de comunicación y colaboración, con la capacidad de trabajar de manera efectiva en equipo.\n",
      "• Dominio del inglés y el español.\n",
      "\n",
      "Se valorará\n",
      "• Experiencia en la aplicación de algoritmos de Machine Learning/Inteligencia Artificial para el análisis y tratamiento de señales electrofisiológicas.\n",
      "• Experiencia en el desarrollo de software de dispositivos médicos de acuerdo con estándares de calidad y regulaciones aplicables.\n",
      "• Experiencia en desarrollo de firmware.\n",
      "• Conocimientos de ciberseguridad.\n",
      "• Experiencia en control de sistemas robóticos.\n",
      "\n",
      "(English)\n",
      "\n",
      "NEWRO - Software Engineer\n",
      "\n",
      "NEWRO arises as a spin-off from Tecnalia, the result of 10 years of collaboration between this center and the Universities of Berkeley, USA, and Tübingen, Germany. NEWRO’s mission is to bring motor rehabilitation technology based on a hybrid brain-machine interface to stroke patients with upper limb paralysis. NEWRO already has a functional prototype and extensive scientific evidence of the potential of this technology for the neurorehabilitation of stroke patients at any level of disability and chronicity. Working at NEWRO will allow you to be part of the mission to bring this innovative technology to market and finally provide a solution to the millions of patients affected by a stroke.\n",
      "\n",
      "Job Description\n",
      "\n",
      "At NEWRO, we are looking for a Software Engineer to play a critical role in the industrialization of the NEWRO technology software for stroke neuro-rehabilitation, which will provide an opportunity to access effective and efficient therapy for those patients with upper limb paralysis.\n",
      "\n",
      "What You'll Do\n",
      "\n",
      "As the key contributor to the NEWRO software development, some of the tasks you will perform include:\n",
      "• Designing the software architecture to support a user interface for health care providers, exoskeleton control software, and sophisticated signal processing to infer exoskeleton control signals from the patient’s neural signals.\n",
      "• Developing and testing the software on the benchtop with the exoskeleton and subsequently with healthy individuals\n",
      "• Verify the software implementation based on the defined architecture and requirements, and in accordance with the applicable regulation for medical device software (ISO 62304).\n",
      "\n",
      "The ideal candidate will be involved with the complete software lifecycle for its certification as a medical device and subsequent maintenance and improvement. Responsibilities include staying at the forefront of existing technologies to know how to choose the right ones and being able to adapt to each use case when necessary.\n",
      "\n",
      "What We Offer\n",
      "• Permanent and full-time contract\n",
      "• Location: Donostia-San Sebastián (Spain)\n",
      "• Work Modality: Hybrid\n",
      "\n",
      "Requirements\n",
      "\n",
      "Experience and Key Skills\n",
      "• Bachelor’s degree in Computer Science, Electrical Engineering or similar field\n",
      "• Minimum of 5 years of experience as a software developer.\n",
      "• Expertise programming in Python and C/C++.\n",
      "• Experience with software development on OS Windows and Linux.\n",
      "• Experience in the development and deployment of connected device systems: device-to-device communication (Wifi, Bluetooth, UDP, TCPIP, etc.), databases (SQLite), PyQt framework for graphical interface, etc.\n",
      "• Experience in creating testable code and implementing automated unit, integration, and functional tests as part of new product development.\n",
      "• Experience in applying DevOps practices, as well as associated tools (GitLab CI/CD, Jenkins, Docker, etc.).\n",
      "• Experience in software development with agile methodologies.\n",
      "• Ability to solve problems by analyzing complex technical challenges and proposing innovative solutions.\n",
      "• Excellent communication and collaboration skills, with the ability to work effectively in a team.\n",
      "• Proficiency in English and Spanish.\n",
      "\n",
      "Preferred\n",
      "• Experience in applying Machine Learning/Artificial Intelligence algorithms for the analysis and treatment of electrophysiological signals.\n",
      "• Experience in developing medical device software in accordance with quality standards and applicable regulation.\n",
      "• Experience in firmware development.\n",
      "• Cybersecurity knowledge.\n",
      "• Experience in control of robotic systems\n",
      "[------- Reduce description -------]\n",
      "medicos (iso 62304). la persona software (iso 62304). the ideal minimo de 5 anos de minimum of 5 years of result of 10 years of minimo de 5 anos de minimum of 5 years of spain\n",
      "==== Tokens sent for this JD:664 - Total sent tokens: 664 - tokens in complete description:1023 = Ratio sent/original description so far:0.03519061583577713 | Cost for this JD:0.00101 - Total cost so far: 0.00101 ====\n"
     ]
    },
    {
     "name": "stdout",
     "output_type": "stream",
     "text": [
      "[output salary: {'cost': 0.0010495, 'currency': '', 'max': 0.0, 'min': 0.0, 'reduce_description': 'mas de 19 anos en . desde 1998. en sirt mas de 20 anos mejorando un perfil n2 de redes. de carrera 2.-ubicacion: bilbao 3.- los beneficios; 1.- contrato indefinido 2.-ubicacion: bilbao 3.- posibilidad de de trabajo 4.- unirte a ambiente laboral 5.- plan formativo minima de 5 anos en spain', 'source': 'Chat-Gpt', 'time_lapse': 'year', 'token_count_sent_chat_gpt': 694}]\n",
      "[------- Full Description -------]\n",
      "Sirt es una empresa con más de 19 años en el sector de las telecomunicaciones con clientes en el ámbito nacional. . Desde 1998. En SIRT llevamos más de 20 años mejorando los procesos de negocio en organizaciones líderes de todos los sectores de actividad: industria, hoteles, organismos públicos, banca, retail, farma, laboratorios, logística, ayuntamientos, educación, ocio, servicios... Contamos con capacidad para ofrecer servicios y desarrollar proyectos tecnológicos de primer orden y a nivel global.\n",
      "\n",
      "Actualmente precisamos la incorporación de un perfil N2 de Redes.\n",
      "\n",
      "Funciones\n",
      "\n",
      "Perfil ingeniero/a especialista en redes CISCO con experiencia demostrable en el trabajo de redes LAN/WAN. Así como conocimientos y experiencia en redes wifi (preferiblemente ARUBA). Se valorará conocimiento de otras tecnologías (HUAWEI).\n",
      "\n",
      "Funciones de:\n",
      "\n",
      "Administrador Red LAN/WAN/WIFI.\n",
      "\n",
      "Soporte a la Infraestructura de cliente.\n",
      "\n",
      "Desarrollo de Proyectos de Red de cliente.\n",
      "\n",
      "Valoraremos todas las... candidaturas.\n",
      "\n",
      "Disponemos de ofertas formativas tanto on line como presencial. Aunque no tengas todos los\n",
      "\n",
      "conocimientos mencionados nos encantará conocerte\n",
      "\n",
      "Únete a nosotros y disfruta de los beneficios;\n",
      "\n",
      "1.- Contrato indefinido con proyección de carrera\n",
      "\n",
      "2.-Ubicación: Bilbao\n",
      "\n",
      "3.- Posibilidad de acogerse a un modelo híbrido de trabajo\n",
      "\n",
      "4.- Unirte a un excelente equipo y ambiente laboral\n",
      "\n",
      "5.- Plan formativo\n",
      "\n",
      "Te estamos esperando\n",
      "\n",
      "Requisitos:\n",
      "\n",
      "Requisitos deseados\n",
      "\n",
      "Ingeniería Telecomunicaciones o Informática.\n",
      "\n",
      "Certificación Cisco CCNP// Aruba ACMP/ACSP\n",
      "\n",
      "Conocimientos Redes (LAN/WAN/WIFI) Cisco/Aruba\n",
      "\n",
      "Experiencia mínima de 5 años en puestos similares\n",
      "[------- Reduce description -------]\n",
      "mas de 19 anos en . desde 1998. en sirt mas de 20 anos mejorando un perfil n2 de redes. de carrera 2.-ubicacion: bilbao 3.- los beneficios; 1.- contrato indefinido 2.-ubicacion: bilbao 3.- posibilidad de de trabajo 4.- unirte a ambiente laboral 5.- plan formativo minima de 5 anos en spain\n",
      "==== Tokens sent for this JD:694 - Total sent tokens: 183841.0 - tokens in complete description:202 = Ratio sent/original description so far:0.2524752475247525 | Cost for this JD:0.0010495 - Total cost so far: 0.27857649999999995 ====\n",
      "[output salary: {'cost': 0.0009075, 'currency': ' ', 'max': 0.0, 'min': 0.0, 'reduce_description': 'para trabajar 100% remoto. se siniestros - ifrs17 - contabilidad spain', 'source': 'Chat-Gpt', 'time_lapse': ' ', 'token_count_sent_chat_gpt': 605}]\n",
      "[------- Full Description -------]\n",
      "En Abalia estamos buscando Analistas Funcionales con experiencia en el sector seguros para trabajar 100% remoto.\n",
      "\n",
      "Se requiere experiencia en alguna de las siguientes áreas funcionales:\n",
      "\n",
      "- Automóviles\n",
      "\n",
      "- Siniestros\n",
      "\n",
      "- IFRS17\n",
      "\n",
      "- Contabilidad\n",
      "\n",
      "- Modelos fiscales\n",
      "\n",
      "- Reaseguro\n",
      "\n",
      "- Ahorro e inversión\n",
      "\n",
      "- Protection\n",
      "\n",
      "- Ramos de emisión (vida o no vida)\n",
      "\n",
      "- Procesos de seguros relacionados con la gestión de clientes\n",
      "\n",
      "Si te encuentras en búsqueda de nuevos retos y proyectos innovadores. Abalia ¡Es tu lugar! Inscríbete en nuestra oferta, y anímate a trabajar de una manera diferente.\n",
      "[------- Reduce description -------]\n",
      "para trabajar 100% remoto. se siniestros - ifrs17 - contabilidad spain\n",
      "==== Tokens sent for this JD:605 - Total sent tokens: 365928.0 - tokens in complete description:78 = Ratio sent/original description so far:0.14102564102564102 | Cost for this JD:0.0009075 - Total cost so far: 0.5543509999999997 ====\n",
      "[output salary: {'cost': 0.001057, 'currency': ' ', 'max': 0.0, 'min': 0.0, 'reduce_description': 'mas de 60.000 profesionales en servicios en 90 paises. que soporte nivel 3 incidencias de mas de 3 meses de conocimientos de f5. otras necesidades mas de 3 meses de te apasiona (+15.000 cursos online) remedy, bgp,ospf e217116452560344a24a spain', 'source': 'Chat-Gpt', 'time_lapse': ' ', 'token_count_sent_chat_gpt': 693}]\n",
      "[------- Full Description -------]\n",
      "Administrador de redes en Madrid.\n",
      "CDS a Hewlett Packard Enterprise Company es una compañia del sector tecnológico que forma parte de HPE. Contamos con los proyectos y clientes más destacados del sector. Con HPE CDS podrás desarrollar tu carrera profesional\n",
      "\n",
      "CDSisGreen #HPEisGreen\n",
      "\n",
      "WeDeliverTheDifference.\n",
      "\n",
      "CDS a Hewlett Packard Enterprise company es el proveedor preferente para el desarrollo y suministro de servicios tecnológicos a los clientes de la multinacional HPE.\n",
      "Actualmente HPE cuenta con más de 60.000 profesionales en todo el mundo.\n",
      "\n",
      "HPE es una empresa de plataforma como servicio global desde el extremo hasta la nube creada para transformar tu empresa.\n",
      "Su sede central está Houston Texas (EEUU) y comercializa sus productos y servicios en 90 países.\n",
      "\n",
      "Qué buscamos?\n",
      "Un Administrador de redes con\n",
      "\n",
      "Conocimientos a nível de CCNP de Cisco.\n",
      "Conocimientos de Wireless.\n",
      "Nível avanzado de Routing (BGP OSPF)\n",
      "Nível avanzado de switching\n",
      "Comprensión de estructuras y mapas de red... complejos.\n",
      "Cuáles serían tus funciones?\n",
      "\n",
      "Soporte nível 3 incidencias de redes y comunicaciones.\n",
      "Proyectos de redes e infraestructuras.\n",
      "Mejora continua de la red del cliente.\n",
      "Iniciación de proyectos de SDN.\n",
      "Gestión de incidencias (Remedy o similar) y peticiones de servicio con cumplimiento de SLA.\n",
      "Deseable conocimientos de F5.\n",
      "Otras necesidades\n",
      "\n",
      "Guardias de servicio.\n",
      "Intervenciones programadas.\n",
      "\n",
      "En función del proyecto te ofrecemos\n",
      "\n",
      "Flexibilidad horaria en la entrada y en la salida\n",
      "\n",
      "Jornada intensiva los viernes (en funcion del proyecto)\n",
      "\n",
      "Más de 3 meses de jornada intensiva al año (en funcion del proyecto)\n",
      "\n",
      "Retribución Flexible (Ticket guardería seguro médico privado tarjeta de transporte público...)\n",
      "\n",
      "Tarjeta Restaurant y Seguro de Vida (segun politica de Compañia)\n",
      "\n",
      "Descuentos exclusivos para empleados\n",
      "\n",
      "Flexi-work (en funcion del proyecto)\n",
      "\n",
      "WeDeliverTheDifference\n",
      "\n",
      "Gracias a que tú das un servicio de calidad CDS cumple sus objetivos. Porque en CDS sentirás que tú marcas la diferencia\n",
      "\n",
      "En tu tiempo laboral podrás\n",
      "\n",
      "Formarte en lo que te apasiona (+15.000 cursos online) más subvención mensual adicional para idiomas\n",
      "\n",
      "Disponer de un plan de desarrollo profesional personalizado\n",
      "\n",
      "Adaptar tus compromisos profesionales a tus necesidades\n",
      "\n",
      "Disfrutar de un ambiente de trabajo fantástico en unas instalaciones de vanguardia\n",
      "\n",
      "Rodearte de las últimas tecnologías\n",
      "\n",
      "¿Te vienes a trabajar con nosotros?\n",
      "Si te apetece formar parte de un proyecto estable y dinámico anímate y contacta con nosotros\n",
      "\n",
      "Además contamos con un programa de beneficios sociales y flexibilidad que harán que tu trayectoria con CDS sea lo que estabas buscando.\n",
      "Te estamos esperando.\n",
      "\n",
      "Visita nuestra política de privacidad aquí\n",
      "\n",
      "Y aquí tendrás acceso a nuestra política de protección de datos\n",
      "\n",
      "redes, CCNP, CCNA, SDN, remedy, BGP,OSPF\n",
      "e217116452560344a24a\n",
      "[------- Reduce description -------]\n",
      "mas de 60.000 profesionales en servicios en 90 paises. que soporte nivel 3 incidencias de mas de 3 meses de conocimientos de f5. otras necesidades mas de 3 meses de te apasiona (+15.000 cursos online) remedy, bgp,ospf e217116452560344a24a spain\n",
      "==== Tokens sent for this JD:693 - Total sent tokens: 549533.0 - tokens in complete description:369 = Ratio sent/original description so far:0.10569105691056911 | Cost for this JD:0.001057 - Total cost so far: 0.8326514999999993 ====\n",
      "[output salary: {'cost': 0.000932, 'currency': ' ', 'max': 0.0, 'min': 0.0, 'reduce_description': 'sap co, 0c63zaf9el997x513919 spain', 'source': 'Chat-Gpt', 'time_lapse': ' ', 'token_count_sent_chat_gpt': 616}]\n",
      "[------- Full Description -------]\n",
      "Consultor SAP FI-CO (inglés) en Madrid.\n",
      "De cara a proyecto internacional demandamos un Consultor SAP con el siguiente perfil profesional\n",
      "• Experiência en varios ciclos de implantación de SAP FI-CO.\n",
      "• Experiência en proyectos internacionales\n",
      "• Nível de inglés alto.\n",
      "\n",
      "Valorable\n",
      "- Disponibilidad para realizar algunos desplazamientos en función de la fase de implantación del proyecto.\n",
      "\n",
      "sap, sap fi, sap co,\n",
      "0c63zaf9el997x513919\n",
      "[------- Reduce description -------]\n",
      "sap co, 0c63zaf9el997x513919 spain\n",
      "==== Tokens sent for this JD:616 - Total sent tokens: 731018.0 - tokens in complete description:54 = Ratio sent/original description so far:0.07407407407407407 | Cost for this JD:0.000932 - Total cost so far: 1.1077439999999987 ====\n"
     ]
    },
    {
     "name": "stdout",
     "output_type": "stream",
     "text": [
      "[output salary: {'cost': 0.0, 'currency': ' ', 'max': 0.0, 'min': 0.0, 'reduce_description': ' ', 'source': 'Not-sent-to-chat-gpt', 'time_lapse': ' ', 'token_count_sent_chat_gpt': 0.0}]\n",
      "[------- Full Description -------]\n",
      "¿Quieres formar parte de las firmas consultoras más importantes e influyentes de España?\n",
      "\n",
      "¿Buscas una carrera con proyección internacional?\n",
      "\n",
      "¿Te interesan las nuevas tecnologías?\n",
      "Si eres recién graduado o quieres reorientar tu carrera profesional eres la persona que estamos buscando impulsa tu carrera en el mundo de la consultoría y los negocios, en grandes multinacionales como Accenture, Axis, Deloitte, EY, IBM, KPMG, Minsait, NTT Data, PWC, CAPGEMINI, SOPRA, AUREN; en BCSM te estamos esperando\n",
      "\n",
      "¿QUÉ BUSCAMOS?\n",
      "Talento con motivación para asumir grandes retos, ambición para crecer profesionalmente y que tengan o quiera desarrollar habilidades como:\n",
      "• Conocimientos especializados en Consultoría y Negocio\n",
      "• Alto nivel de comunicación\n",
      "• Trabajo en equipo\n",
      "• Capacidad analítica y de síntesis\n",
      "• Liderazgo, capacidad de dirección y toma de decisiones\n",
      "• Ser proactivo y resolutivo\n",
      "\n",
      "¿QUÉ TE OFRECEMOS?\n",
      "• Incorpórate, después de tu entrenamiento, contractualmente a una empresa de primer nivel... donde desarrollarás tu carrera en consultoría de negocio y transformación empresarial\n",
      "• Entrenamiento de alto rendimiento previo a la incorporación al puesto de trabajo\n",
      "• Sé un profesional a la vanguardia de las últimas tecnologías\n",
      "• Desarrolla tu marca personal como elemento clave de diferenciación\n",
      "• Realiza proyectos innovadores, con mentores y expertos de sector\n",
      "Con BCSM, obtendrás, de forma garantizada un puesto de trabajo*. Además, desarrollarás las habilidades y capacidades que requiere la profesión mediante nuestra metodología HighTraining, basada en la realización de simulaciones de proyectos reales\n",
      "\n",
      "Envíanos el CV y reescribe tu futuro\n",
      "• BCSM garantiza la empleabilidad del candidato una vez haya cursado con éxito el programa y la certificación. Esto se establece en un contrato de garantía entre BCSM y el candidato al momento de su matrícula\n",
      "[------- Reduce description -------]\n",
      " \n",
      "==== Tokens sent for this JD:0.0 - Total sent tokens: 913625.0 - tokens in complete description:258 = Ratio sent/original description so far:0.007751937984496124 | Cost for this JD:0.0 - Total cost so far: 1.3843939999999977 ====\n",
      "[output salary: {'cost': 0.000998, 'currency': ' ', 'max': 0.0, 'min': 0.0, 'reduce_description': 'torno a 4-6 anos en o iso 27000, power bi powerpoint, iso 27000 gestion de seguridad, office 365, excel, etl/powercenter, spain', 'source': 'Chat-Gpt', 'time_lapse': ' ', 'token_count_sent_chat_gpt': 655}]\n",
      "[------- Full Description -------]\n",
      "**Descripción**:En Grupo NS incorporamos un Consultor GRC / Ciberseguridad, para importante proyecto.Grupo NS, es una empresa donde se valora tanto el perfil profesional tecnológico de los trabajadores, como el interés y la aptitud que demuestren a la hora de desarrollar nuevos proyectos**Requisitos**: Funciones: Alinear los objetivos de negocio con los de ciberseguridad, así como asegurarse de su cumplimiento. Experiência de en torno a 4-6 años en empresa en empresa/posiciones relacionadas con IT, preferiblemente en el ámbito de la ciberseguridad. Skills: Nível intermedio de inglés e independencia para asistir a reuniones con distintos países, muy valorado alguna certificación tipo ISACA o ISO 27000, Power BI Básico, Compliance y SOX Básico, PowerPoint, ISO 27000 Gestión de Seguridad, Office 365, Excel, ETL/PowerCenter, Qlik Sense.\n",
      "[------- Reduce description -------]\n",
      "torno a 4-6 anos en o iso 27000, power bi powerpoint, iso 27000 gestion de seguridad, office 365, excel, etl/powercenter, spain\n",
      "==== Tokens sent for this JD:655 - Total sent tokens: 1081970.0 - tokens in complete description:121 = Ratio sent/original description so far:0.17355371900826447 | Cost for this JD:0.000998 - Total cost so far: 1.6394559999999994 ====\n",
      "estimated_cost: 1.8203419999999975 per: 2029 jobs description | Total sent tokens: 1201431.0\n"
     ]
    }
   ],
   "source": [
    "salary_info = list()\n",
    "total_tokens = 0\n",
    "accumulate_cost = 0\n",
    "progress_steps = math.ceil(df.shape[0]*0.15)\n",
    "\n",
    "for index, row in tqdm(df.iterrows(), total = df.shape[0]):\n",
    "    \n",
    "    try:\n",
    "        \n",
    "        salary_output = extract_salary(description = row.description, job_id = row.job_id, location = row.country)\n",
    "        sent_tokens = salary_output[\"token_count_sent_chat_gpt\"]\n",
    "        total_tokens += sent_tokens\n",
    "\n",
    "        cost = float(salary_output[\"cost\"])\n",
    "        accumulate_cost += cost\n",
    "\n",
    "        orignal_description_tokens = len(row.description.split(\" \"))\n",
    "        reduce_description_len = len(salary_output[\"reduce_description\"].split(\" \"))\n",
    "        ratio_sent_original_description = reduce_description_len/orignal_description_tokens\n",
    "\n",
    "        salary_info.append((row.job_id, salary_output[\"reduce_description\"], salary_output[\"min\"], salary_output[\"max\"], salary_output[\"currency\"], salary_output[\"time_lapse\"], salary_output[\"source\"], sent_tokens, orignal_description_tokens, ratio_sent_original_description, cost))\n",
    "\n",
    "        if (index%progress_steps) == 0:\n",
    "            \n",
    "            print(f\"[output salary: {salary_output}]\")\n",
    "            print(\"[------- Full Description -------]\")\n",
    "            print(row.description)\n",
    "            print(\"[------- Reduce description -------]\")\n",
    "            print(salary_output[\"reduce_description\"])\n",
    "            print(f\"==== Tokens sent for this JD:{sent_tokens} - Total sent tokens: {total_tokens} - tokens in complete description:{orignal_description_tokens} = Ratio sent/original description so far:{ratio_sent_original_description} | Cost for this JD:{cost} - Total cost so far: {accumulate_cost} ====\")\n",
    "\n",
    "    except Exception as e:\n",
    "        \n",
    "        print(f\"error: {e}\")\n",
    "\n",
    "print(f\"estimated_cost: {accumulate_cost} per: {df.shape[0]} jobs description | Total sent tokens: {total_tokens}\")"
   ]
  },
  {
   "cell_type": "code",
   "execution_count": 5,
   "id": "65414242",
   "metadata": {},
   "outputs": [],
   "source": [
    "salary_df = pd.DataFrame(salary_info,\n",
    "                         columns=[\n",
    "                                    \"job_id\",\n",
    "                                    \"reduce_description\",\n",
    "                                    \"salary_min_gpt\",\n",
    "                                    \"salary_max_gpt\",\n",
    "                                    \"currency_gpt\",\n",
    "                                    \"time_lapse_gpt\",\n",
    "                                    \"source\",\n",
    "                                    \"token_count_sent_chat_gpt\",\n",
    "                                    \"token_count_original_description\",\n",
    "                                    \"token_rate_sent_original_description\",\n",
    "                                    \"gpt_cost\"\n",
    "                                ])"
   ]
  },
  {
   "cell_type": "markdown",
   "id": "870b948e",
   "metadata": {},
   "source": [
    "#### Agregamos faltantes"
   ]
  },
  {
   "cell_type": "code",
   "execution_count": 6,
   "id": "e0f5a3fa",
   "metadata": {},
   "outputs": [],
   "source": [
    "jobs_with_salary = pd.merge(df, salary_df, on = \"job_id\", how = \"left\")"
   ]
  },
  {
   "cell_type": "markdown",
   "id": "5187bd01",
   "metadata": {},
   "source": [
    "#### ¿Cuántas ofertas de empleo con salarios tenemos?"
   ]
  },
  {
   "cell_type": "code",
   "execution_count": 7,
   "id": "2ae5c0bf",
   "metadata": {},
   "outputs": [
    {
     "name": "stdout",
     "output_type": "stream",
     "text": [
      "Salary jobs count: 2029 | 267 - jobs with salary 0.132%\n"
     ]
    }
   ],
   "source": [
    "all_jobs_count = jobs_with_salary.shape[0]\n",
    "jobs_with_salary_count = jobs_with_salary[jobs_with_salary[f\"salary_min_gpt\"] > 0].shape[0]\n",
    "\n",
    "print(f\"Salary jobs count: {all_jobs_count} | {jobs_with_salary_count} - jobs with salary {round(jobs_with_salary_count/all_jobs_count, 3)}%\")"
   ]
  },
  {
   "cell_type": "code",
   "execution_count": 8,
   "id": "befade14",
   "metadata": {},
   "outputs": [
    {
     "data": {
      "text/html": [
       "<div>\n",
       "<style scoped>\n",
       "    .dataframe tbody tr th:only-of-type {\n",
       "        vertical-align: middle;\n",
       "    }\n",
       "\n",
       "    .dataframe tbody tr th {\n",
       "        vertical-align: top;\n",
       "    }\n",
       "\n",
       "    .dataframe thead th {\n",
       "        text-align: right;\n",
       "    }\n",
       "</style>\n",
       "<table border=\"1\" class=\"dataframe\">\n",
       "  <thead>\n",
       "    <tr style=\"text-align: right;\">\n",
       "      <th></th>\n",
       "      <th>country</th>\n",
       "      <th>count_all</th>\n",
       "    </tr>\n",
       "  </thead>\n",
       "  <tbody>\n",
       "    <tr>\n",
       "      <th>0</th>\n",
       "      <td>Spain</td>\n",
       "      <td>2029</td>\n",
       "    </tr>\n",
       "  </tbody>\n",
       "</table>\n",
       "</div>"
      ],
      "text/plain": [
       "  country  count_all\n",
       "0   Spain       2029"
      ]
     },
     "execution_count": 8,
     "metadata": {},
     "output_type": "execute_result"
    }
   ],
   "source": [
    "all_jobs_by_country = df.groupby(by = [\"country\"]).size().sort_values(ascending=False).reset_index(name = \"count_all\")\n",
    "\n",
    "all_jobs_by_country"
   ]
  },
  {
   "cell_type": "code",
   "execution_count": 9,
   "id": "ce7b30ff",
   "metadata": {},
   "outputs": [
    {
     "data": {
      "text/html": [
       "<div>\n",
       "<style scoped>\n",
       "    .dataframe tbody tr th:only-of-type {\n",
       "        vertical-align: middle;\n",
       "    }\n",
       "\n",
       "    .dataframe tbody tr th {\n",
       "        vertical-align: top;\n",
       "    }\n",
       "\n",
       "    .dataframe thead th {\n",
       "        text-align: right;\n",
       "    }\n",
       "</style>\n",
       "<table border=\"1\" class=\"dataframe\">\n",
       "  <thead>\n",
       "    <tr style=\"text-align: right;\">\n",
       "      <th></th>\n",
       "      <th>job_id</th>\n",
       "      <th>country</th>\n",
       "      <th>experience</th>\n",
       "      <th>experience_levels</th>\n",
       "      <th>description</th>\n",
       "      <th>email</th>\n",
       "      <th>Especialidad</th>\n",
       "      <th>Perfil</th>\n",
       "      <th>remote_work</th>\n",
       "      <th>tech_skills</th>\n",
       "      <th>title</th>\n",
       "      <th>company_name</th>\n",
       "      <th>location</th>\n",
       "      <th>source_x</th>\n",
       "      <th>date_posted</th>\n",
       "      <th>contract_type</th>\n",
       "      <th>salary_min</th>\n",
       "      <th>salary_max</th>\n",
       "      <th>currency</th>\n",
       "      <th>time_lapse</th>\n",
       "    </tr>\n",
       "  </thead>\n",
       "  <tbody>\n",
       "    <tr>\n",
       "      <th>0</th>\n",
       "      <td>eyJqb2JfdGl0bGUiOiJEZXNhcnJvbGxhZG9yL2EgZGUgU2...</td>\n",
       "      <td>Spain</td>\n",
       "      <td>5.0</td>\n",
       "      <td>Senior</td>\n",
       "      <td>(Spanish)\\n\\nNEWRO – Desarrollador/a de Softwa...</td>\n",
       "      <td>NaN</td>\n",
       "      <td>['Seguridad', 'Redes y Comunicaciones', 'Base ...</td>\n",
       "      <td>['Desarrollador', 'Infraestructura', 'Devops']</td>\n",
       "      <td>['Hibrido']</td>\n",
       "      <td>['Python', 'Engineering']</td>\n",
       "      <td>Desarrollador/a de Software / Software Engineer</td>\n",
       "      <td>Newro (New Rehabilitation Opportunities)</td>\n",
       "      <td>NaN</td>\n",
       "      <td>LinkedIn</td>\n",
       "      <td>2023-11-21</td>\n",
       "      <td>Full-time</td>\n",
       "      <td>0.0</td>\n",
       "      <td>0.0</td>\n",
       "      <td>NaN</td>\n",
       "      <td>NaN</td>\n",
       "    </tr>\n",
       "    <tr>\n",
       "      <th>1</th>\n",
       "      <td>eyJqb2JfdGl0bGUiOiJEZXNhcnJvbGxhZG9yL2EgZGUgU2...</td>\n",
       "      <td>Spain</td>\n",
       "      <td>3.0</td>\n",
       "      <td>Semi-Senior</td>\n",
       "      <td>Power Electronics es el líder mundial de almac...</td>\n",
       "      <td>NaN</td>\n",
       "      <td>['Mantenimiento y Soporte', 'Mobile', 'Backend...</td>\n",
       "      <td>['Desarrollador', 'Infraestructura']</td>\n",
       "      <td>['Hibrido']</td>\n",
       "      <td>['Linux', 'Electronics']</td>\n",
       "      <td>Desarrollador/a de Software Embebido</td>\n",
       "      <td>Power Electronics</td>\n",
       "      <td>NaN</td>\n",
       "      <td>LinkedIn</td>\n",
       "      <td>2023-11-20</td>\n",
       "      <td>Full-time</td>\n",
       "      <td>0.0</td>\n",
       "      <td>0.0</td>\n",
       "      <td>EUR</td>\n",
       "      <td></td>\n",
       "    </tr>\n",
       "    <tr>\n",
       "      <th>2</th>\n",
       "      <td>eyJqb2JfdGl0bGUiOiJEZXNhcnJvbGxhZG9yIGRlIGJhY2...</td>\n",
       "      <td>Spain</td>\n",
       "      <td>5.0</td>\n",
       "      <td>Senior</td>\n",
       "      <td>Precisamos incorporar un Programador Senior Ba...</td>\n",
       "      <td>NaN</td>\n",
       "      <td>['Full Stack', 'Backend']</td>\n",
       "      <td>['Desarrollador']</td>\n",
       "      <td>['Presencial']</td>\n",
       "      <td>['PHP']</td>\n",
       "      <td>Desarrollador de back-end</td>\n",
       "      <td>I3E It Resources</td>\n",
       "      <td>Barcelona</td>\n",
       "      <td>LinkedIn</td>\n",
       "      <td>2023-11-20</td>\n",
       "      <td>Full-time</td>\n",
       "      <td>0.0</td>\n",
       "      <td>0.0</td>\n",
       "      <td>NaN</td>\n",
       "      <td>NaN</td>\n",
       "    </tr>\n",
       "    <tr>\n",
       "      <th>3</th>\n",
       "      <td>eyJqb2JfdGl0bGUiOiJEZXNhcnJvbGxhZG9yIGRlIGZyb2...</td>\n",
       "      <td>Spain</td>\n",
       "      <td>6.0</td>\n",
       "      <td>Senior</td>\n",
       "      <td>En IDEOS nos apasiona la tecnología, trabajamo...</td>\n",
       "      <td>NaN</td>\n",
       "      <td>['Integración', 'Backend', 'Frontend Web', 'Mo...</td>\n",
       "      <td>['Desarrollador']</td>\n",
       "      <td>['Hibrido']</td>\n",
       "      <td>['Angular']</td>\n",
       "      <td>Desarrollador de front-end (Angular)</td>\n",
       "      <td>Ideos It Solutions</td>\n",
       "      <td>NaN</td>\n",
       "      <td>LinkedIn</td>\n",
       "      <td>2023-11-21</td>\n",
       "      <td>Full-time</td>\n",
       "      <td>0.0</td>\n",
       "      <td>0.0</td>\n",
       "      <td>NaN</td>\n",
       "      <td>NaN</td>\n",
       "    </tr>\n",
       "    <tr>\n",
       "      <th>4</th>\n",
       "      <td>eyJqb2JfdGl0bGUiOiJERVNBUlJPTExBRE9SL0EgRlJPTl...</td>\n",
       "      <td>Spain</td>\n",
       "      <td>2.0</td>\n",
       "      <td>Semi-Senior</td>\n",
       "      <td>Soltel Group continúa creciendo. Somos una com...</td>\n",
       "      <td>NaN</td>\n",
       "      <td>['Backend', 'Full Stack', 'Frontend Web', 'Mob...</td>\n",
       "      <td>['Desarrollador', 'Gestión Operativa']</td>\n",
       "      <td>['Hibrido']</td>\n",
       "      <td>['Jenkins']</td>\n",
       "      <td>DESARROLLADOR/A FRONTEND Y BACKEND (HIBRIDO)</td>\n",
       "      <td>Soltel Group</td>\n",
       "      <td>Málaga</td>\n",
       "      <td>LinkedIn</td>\n",
       "      <td>2023-11-21</td>\n",
       "      <td>Full-time</td>\n",
       "      <td>0.0</td>\n",
       "      <td>0.0</td>\n",
       "      <td>NaN</td>\n",
       "      <td>NaN</td>\n",
       "    </tr>\n",
       "    <tr>\n",
       "      <th>...</th>\n",
       "      <td>...</td>\n",
       "      <td>...</td>\n",
       "      <td>...</td>\n",
       "      <td>...</td>\n",
       "      <td>...</td>\n",
       "      <td>...</td>\n",
       "      <td>...</td>\n",
       "      <td>...</td>\n",
       "      <td>...</td>\n",
       "      <td>...</td>\n",
       "      <td>...</td>\n",
       "      <td>...</td>\n",
       "      <td>...</td>\n",
       "      <td>...</td>\n",
       "      <td>...</td>\n",
       "      <td>...</td>\n",
       "      <td>...</td>\n",
       "      <td>...</td>\n",
       "      <td>...</td>\n",
       "      <td>...</td>\n",
       "    </tr>\n",
       "    <tr>\n",
       "      <th>2024</th>\n",
       "      <td>eyJqb2JfdGl0bGUiOiJEYmEgUmFjIE9yYWNsZSwgTWFkcm...</td>\n",
       "      <td>Spain</td>\n",
       "      <td>5.0</td>\n",
       "      <td>Senior</td>\n",
       "      <td>DBA RAC Oracle en Madrid.\\nCas Training empres...</td>\n",
       "      <td>NaN</td>\n",
       "      <td>['Full Stack', 'Mobile', 'Base de datos']</td>\n",
       "      <td>['Desarrollador']</td>\n",
       "      <td>NaN</td>\n",
       "      <td>['Oracle', 'CRM', 'SAP', 'Training']</td>\n",
       "      <td>Dba Rac Oracle, Madrid</td>\n",
       "      <td>CAS Training</td>\n",
       "      <td>Madrid</td>\n",
       "      <td>Trabajo.org</td>\n",
       "      <td>2023-11-18</td>\n",
       "      <td>Full-time</td>\n",
       "      <td>0.0</td>\n",
       "      <td>0.0</td>\n",
       "      <td>NaN</td>\n",
       "      <td>NaN</td>\n",
       "    </tr>\n",
       "    <tr>\n",
       "      <th>2025</th>\n",
       "      <td>eyJqb2JfdGl0bGUiOiJEQkEgT3JhY2xlIFJlbW90byIsIm...</td>\n",
       "      <td>Spain</td>\n",
       "      <td>NaN</td>\n",
       "      <td>NaN</td>\n",
       "      <td>**Descripción**:\\nEn Infortec Consultores Cont...</td>\n",
       "      <td>NaN</td>\n",
       "      <td>['Base de datos']</td>\n",
       "      <td>['Desarrollador']</td>\n",
       "      <td>NaN</td>\n",
       "      <td>['Oracle']</td>\n",
       "      <td>DBA Oracle Remoto</td>\n",
       "      <td>Infortec Consultores</td>\n",
       "      <td>Madrid</td>\n",
       "      <td>Trabajo.org</td>\n",
       "      <td>2023-11-19</td>\n",
       "      <td>Full-time</td>\n",
       "      <td>0.0</td>\n",
       "      <td>0.0</td>\n",
       "      <td>NaN</td>\n",
       "      <td>NaN</td>\n",
       "    </tr>\n",
       "    <tr>\n",
       "      <th>2026</th>\n",
       "      <td>eyJqb2JfdGl0bGUiOiJEQkEgT3JhY2xlIiwiaHRpZG9jaW...</td>\n",
       "      <td>Spain</td>\n",
       "      <td>NaN</td>\n",
       "      <td>NaN</td>\n",
       "      <td>Volver a la página principal\\n\\nDBA Oracle\\nMa...</td>\n",
       "      <td>NaN</td>\n",
       "      <td>['Base de datos']</td>\n",
       "      <td>['Desarrollador']</td>\n",
       "      <td>NaN</td>\n",
       "      <td>['Oracle']</td>\n",
       "      <td>DBA Oracle</td>\n",
       "      <td>Grupo Ns</td>\n",
       "      <td>Madrid</td>\n",
       "      <td>BeBee</td>\n",
       "      <td>2023-11-19</td>\n",
       "      <td>Full-time</td>\n",
       "      <td>0.0</td>\n",
       "      <td>0.0</td>\n",
       "      <td>NaN</td>\n",
       "      <td>NaN</td>\n",
       "    </tr>\n",
       "    <tr>\n",
       "      <th>2027</th>\n",
       "      <td>eyJqb2JfdGl0bGUiOiJTd2lmdCBEZXZlbG9wZXIgSMOtYn...</td>\n",
       "      <td>Spain</td>\n",
       "      <td>4.0</td>\n",
       "      <td>Semi-Senior</td>\n",
       "      <td>Desde Hays nos encontramos en búsqueda de un/u...</td>\n",
       "      <td>NaN</td>\n",
       "      <td>['Mobile', 'Seguridad', 'Integración']</td>\n",
       "      <td>['Desarrollador', 'Infraestructura']</td>\n",
       "      <td>['Hibrido']</td>\n",
       "      <td>['SOLID', 'Swift']</td>\n",
       "      <td>Swift Developer Híbrido en Valencia</td>\n",
       "      <td>Hays</td>\n",
       "      <td>NaN</td>\n",
       "      <td>Hays</td>\n",
       "      <td>2023-11-19</td>\n",
       "      <td>Full-time</td>\n",
       "      <td>0.0</td>\n",
       "      <td>0.0</td>\n",
       "      <td>NaN</td>\n",
       "      <td>NaN</td>\n",
       "    </tr>\n",
       "    <tr>\n",
       "      <th>2028</th>\n",
       "      <td>eyJqb2JfdGl0bGUiOiJpT1MgKFNXSUZUKSBEZXZlbG9wZX...</td>\n",
       "      <td>Spain</td>\n",
       "      <td>4.0</td>\n",
       "      <td>Semi-Senior</td>\n",
       "      <td>Desde Hays nos encontramos en búsqueda de un/u...</td>\n",
       "      <td>NaN</td>\n",
       "      <td>['Mobile', 'Seguridad', 'Integración']</td>\n",
       "      <td>['Desarrollador', 'Infraestructura']</td>\n",
       "      <td>['Hibrido']</td>\n",
       "      <td>['SOLID', 'Swift']</td>\n",
       "      <td>iOS (SWIFT) Developer</td>\n",
       "      <td>Hays</td>\n",
       "      <td>NaN</td>\n",
       "      <td>Jobquire.com</td>\n",
       "      <td>2023-11-19</td>\n",
       "      <td>Full-time</td>\n",
       "      <td>0.0</td>\n",
       "      <td>0.0</td>\n",
       "      <td>NaN</td>\n",
       "      <td>NaN</td>\n",
       "    </tr>\n",
       "  </tbody>\n",
       "</table>\n",
       "<p>2029 rows × 20 columns</p>\n",
       "</div>"
      ],
      "text/plain": [
       "                                                 job_id country  experience  \\\n",
       "0     eyJqb2JfdGl0bGUiOiJEZXNhcnJvbGxhZG9yL2EgZGUgU2...   Spain         5.0   \n",
       "1     eyJqb2JfdGl0bGUiOiJEZXNhcnJvbGxhZG9yL2EgZGUgU2...   Spain         3.0   \n",
       "2     eyJqb2JfdGl0bGUiOiJEZXNhcnJvbGxhZG9yIGRlIGJhY2...   Spain         5.0   \n",
       "3     eyJqb2JfdGl0bGUiOiJEZXNhcnJvbGxhZG9yIGRlIGZyb2...   Spain         6.0   \n",
       "4     eyJqb2JfdGl0bGUiOiJERVNBUlJPTExBRE9SL0EgRlJPTl...   Spain         2.0   \n",
       "...                                                 ...     ...         ...   \n",
       "2024  eyJqb2JfdGl0bGUiOiJEYmEgUmFjIE9yYWNsZSwgTWFkcm...   Spain         5.0   \n",
       "2025  eyJqb2JfdGl0bGUiOiJEQkEgT3JhY2xlIFJlbW90byIsIm...   Spain         NaN   \n",
       "2026  eyJqb2JfdGl0bGUiOiJEQkEgT3JhY2xlIiwiaHRpZG9jaW...   Spain         NaN   \n",
       "2027  eyJqb2JfdGl0bGUiOiJTd2lmdCBEZXZlbG9wZXIgSMOtYn...   Spain         4.0   \n",
       "2028  eyJqb2JfdGl0bGUiOiJpT1MgKFNXSUZUKSBEZXZlbG9wZX...   Spain         4.0   \n",
       "\n",
       "     experience_levels                                        description  \\\n",
       "0               Senior  (Spanish)\\n\\nNEWRO – Desarrollador/a de Softwa...   \n",
       "1          Semi-Senior  Power Electronics es el líder mundial de almac...   \n",
       "2               Senior  Precisamos incorporar un Programador Senior Ba...   \n",
       "3               Senior  En IDEOS nos apasiona la tecnología, trabajamo...   \n",
       "4          Semi-Senior  Soltel Group continúa creciendo. Somos una com...   \n",
       "...                ...                                                ...   \n",
       "2024            Senior  DBA RAC Oracle en Madrid.\\nCas Training empres...   \n",
       "2025               NaN  **Descripción**:\\nEn Infortec Consultores Cont...   \n",
       "2026               NaN  Volver a la página principal\\n\\nDBA Oracle\\nMa...   \n",
       "2027       Semi-Senior  Desde Hays nos encontramos en búsqueda de un/u...   \n",
       "2028       Semi-Senior  Desde Hays nos encontramos en búsqueda de un/u...   \n",
       "\n",
       "     email                                       Especialidad  \\\n",
       "0      NaN  ['Seguridad', 'Redes y Comunicaciones', 'Base ...   \n",
       "1      NaN  ['Mantenimiento y Soporte', 'Mobile', 'Backend...   \n",
       "2      NaN                          ['Full Stack', 'Backend']   \n",
       "3      NaN  ['Integración', 'Backend', 'Frontend Web', 'Mo...   \n",
       "4      NaN  ['Backend', 'Full Stack', 'Frontend Web', 'Mob...   \n",
       "...    ...                                                ...   \n",
       "2024   NaN          ['Full Stack', 'Mobile', 'Base de datos']   \n",
       "2025   NaN                                  ['Base de datos']   \n",
       "2026   NaN                                  ['Base de datos']   \n",
       "2027   NaN             ['Mobile', 'Seguridad', 'Integración']   \n",
       "2028   NaN             ['Mobile', 'Seguridad', 'Integración']   \n",
       "\n",
       "                                              Perfil     remote_work  \\\n",
       "0     ['Desarrollador', 'Infraestructura', 'Devops']     ['Hibrido']   \n",
       "1               ['Desarrollador', 'Infraestructura']     ['Hibrido']   \n",
       "2                                  ['Desarrollador']  ['Presencial']   \n",
       "3                                  ['Desarrollador']     ['Hibrido']   \n",
       "4             ['Desarrollador', 'Gestión Operativa']     ['Hibrido']   \n",
       "...                                              ...             ...   \n",
       "2024                               ['Desarrollador']             NaN   \n",
       "2025                               ['Desarrollador']             NaN   \n",
       "2026                               ['Desarrollador']             NaN   \n",
       "2027            ['Desarrollador', 'Infraestructura']     ['Hibrido']   \n",
       "2028            ['Desarrollador', 'Infraestructura']     ['Hibrido']   \n",
       "\n",
       "                               tech_skills  \\\n",
       "0                ['Python', 'Engineering']   \n",
       "1                 ['Linux', 'Electronics']   \n",
       "2                                  ['PHP']   \n",
       "3                              ['Angular']   \n",
       "4                              ['Jenkins']   \n",
       "...                                    ...   \n",
       "2024  ['Oracle', 'CRM', 'SAP', 'Training']   \n",
       "2025                            ['Oracle']   \n",
       "2026                            ['Oracle']   \n",
       "2027                    ['SOLID', 'Swift']   \n",
       "2028                    ['SOLID', 'Swift']   \n",
       "\n",
       "                                                title  \\\n",
       "0     Desarrollador/a de Software / Software Engineer   \n",
       "1                Desarrollador/a de Software Embebido   \n",
       "2                           Desarrollador de back-end   \n",
       "3                Desarrollador de front-end (Angular)   \n",
       "4        DESARROLLADOR/A FRONTEND Y BACKEND (HIBRIDO)   \n",
       "...                                               ...   \n",
       "2024                           Dba Rac Oracle, Madrid   \n",
       "2025                                DBA Oracle Remoto   \n",
       "2026                                       DBA Oracle   \n",
       "2027              Swift Developer Híbrido en Valencia   \n",
       "2028                            iOS (SWIFT) Developer   \n",
       "\n",
       "                                  company_name   location      source_x  \\\n",
       "0     Newro (New Rehabilitation Opportunities)        NaN      LinkedIn   \n",
       "1                            Power Electronics        NaN      LinkedIn   \n",
       "2                             I3E It Resources  Barcelona      LinkedIn   \n",
       "3                           Ideos It Solutions        NaN      LinkedIn   \n",
       "4                                 Soltel Group     Málaga      LinkedIn   \n",
       "...                                        ...        ...           ...   \n",
       "2024                              CAS Training     Madrid   Trabajo.org   \n",
       "2025                      Infortec Consultores     Madrid   Trabajo.org   \n",
       "2026                                  Grupo Ns     Madrid         BeBee   \n",
       "2027                                      Hays        NaN          Hays   \n",
       "2028                                      Hays        NaN  Jobquire.com   \n",
       "\n",
       "     date_posted contract_type  salary_min  salary_max currency time_lapse  \n",
       "0     2023-11-21     Full-time         0.0         0.0      NaN        NaN  \n",
       "1     2023-11-20     Full-time         0.0         0.0      EUR             \n",
       "2     2023-11-20     Full-time         0.0         0.0      NaN        NaN  \n",
       "3     2023-11-21     Full-time         0.0         0.0      NaN        NaN  \n",
       "4     2023-11-21     Full-time         0.0         0.0      NaN        NaN  \n",
       "...          ...           ...         ...         ...      ...        ...  \n",
       "2024  2023-11-18     Full-time         0.0         0.0      NaN        NaN  \n",
       "2025  2023-11-19     Full-time         0.0         0.0      NaN        NaN  \n",
       "2026  2023-11-19     Full-time         0.0         0.0      NaN        NaN  \n",
       "2027  2023-11-19     Full-time         0.0         0.0      NaN        NaN  \n",
       "2028  2023-11-19     Full-time         0.0         0.0      NaN        NaN  \n",
       "\n",
       "[2029 rows x 20 columns]"
      ]
     },
     "execution_count": 9,
     "metadata": {},
     "output_type": "execute_result"
    }
   ],
   "source": [
    "try:\n",
    "    jobs_with_salary = jobs_with_salary[[\"job_id\", \"country\", \"experience\", \"experience_levels\", \"description\", \"email\",\n",
    "                                        \"Especialidad\", \"Perfil\", \"remote_work\", \"tech_skills\", \"title\", \"company_name\",\n",
    "                                        \"location\", \"source\", \"date_posted\", \"contract_type\", \"salary_min_gpt\",\n",
    "                                        \"salary_max_gpt\", \"currency_gpt\", \"time_lapse_gpt\"]]\n",
    "except:\n",
    "    jobs_with_salary = jobs_with_salary[[\"job_id\", \"country\", \"experience\", \"experience_levels\", \"description\", \"email\",\n",
    "                                        \"Especialidad\", \"Perfil\", \"remote_work\", \"tech_skills\", \"title\", \"company_name\",\n",
    "                                        \"location\", \"source_x\", \"date_posted\", \"contract_type\", \"salary_min_gpt\",\n",
    "                                        \"salary_max_gpt\", \"currency_gpt\", \"time_lapse_gpt\"]]\n",
    "try:\n",
    "    jobs_with_salary = jobs_with_salary.rename(columns = {\"salary_min_gpt\" : \"salary_min\",\n",
    "                                                        \"salary_max_gpt\" : \"salary_max\",\n",
    "                                                        \"currency_gpt\" : \"currency\",\n",
    "                                                        \"time_lapse_gpt\" : \"time_lapse\"})\n",
    "\n",
    "except:\n",
    "    jobs_with_salary = jobs_with_salary.rename(columns = {\"salary_min_gpt\" : \"salary_min\",\n",
    "                                                        \"salary_max_gpt\" : \"salary_max\",\n",
    "                                                        \"currency_gpt\" : \"currency\",\n",
    "                                                        \"time_lapse_gpt\" : \"time_lapse\",\n",
    "                                                        \"source_x\" : \"source\"})\n",
    "\n",
    "jobs_with_salary[\"currency\"].replace(\" \", np.nan, inplace = True)\n",
    "jobs_with_salary[\"time_lapse\"].replace(\" \", np.nan, inplace = True)\n",
    "\n",
    "jobs_with_salary"
   ]
  },
  {
   "cell_type": "code",
   "execution_count": 10,
   "id": "59e575ed",
   "metadata": {},
   "outputs": [],
   "source": [
    "jobs_with_salary.to_csv(\"../data/with_salaries/spain_cleaned_data_2023-11-21_with_salaries.csv\", index = False, sep = \",\")"
   ]
  },
  {
   "cell_type": "markdown",
   "id": "ca6d6ea2",
   "metadata": {},
   "source": [
    "### Limpieza"
   ]
  },
  {
   "cell_type": "code",
   "execution_count": null,
   "id": "1d70b0a8",
   "metadata": {},
   "outputs": [],
   "source": [
    "# Set up chatgpt model\n",
    "# My token\n",
    "\n",
    "with open(file = \"openai_key.txt\", mode = \"r\") as file:\n",
    "    os.environ['CHAT_GPT_API_KEY'] = file.read()\n",
    "\n",
    "from src.api import process_request\n",
    "\n",
    "NGRAMS = 5\n",
    "OVERLAP = 0.3"
   ]
  },
  {
   "cell_type": "code",
   "execution_count": null,
   "id": "f7dc6e23",
   "metadata": {},
   "outputs": [],
   "source": [
    "def create_job_rerun_id(row):\n",
    "    return \"rerun_\" + row.job_id"
   ]
  },
  {
   "cell_type": "code",
   "execution_count": null,
   "id": "e9911931",
   "metadata": {},
   "outputs": [],
   "source": [
    "EXPORT_NAME = \"spain_000\"\n",
    "HEADERS = [\"reduce_description\", \n",
    "           f\"salary_min_gpt_{VERSION_MODEL_0}\", \n",
    "           f\"salary_max_gpt_{VERSION_MODEL_0}\", \n",
    "           f\"currency_gpt_{VERSION_MODEL_0}\", \n",
    "           f\"time_lapse_gpt_{VERSION_MODEL_0}\"]\n",
    "\n",
    "# Para concatenar\n",
    "discarted_rows_list = list()"
   ]
  },
  {
   "cell_type": "code",
   "execution_count": null,
   "id": "e7f8080e",
   "metadata": {},
   "outputs": [],
   "source": [
    "processed_df = pd.read_csv(\"../data/with_salaries/spain_cleaned_data_2023-10-31_with_salaries.csv\")\n",
    "\n",
    "processed_df = processed_df.dropna(subset = \"job_id\")\n",
    "processed_df = processed_df.dropna(subset = \"description\")\n",
    "processed_df[\"description_normalized\"] = processed_df.description.apply(normalize_text)\n",
    "processed_df[\"description_normalized\"] = processed_df.description.apply(remove_punctuation)\n",
    "processed_df = processed_df.drop_duplicates(subset=[\"description_normalized\"])\n",
    "print(f\"Preprocessed jobs: \", processed_df.shape[0])\n",
    "\n",
    "OG_SIZE = processed_df.shape[0]"
   ]
  },
  {
   "cell_type": "code",
   "execution_count": null,
   "id": "b7c135ed",
   "metadata": {},
   "outputs": [],
   "source": [
    "processed_df[processed_df[F\"salary_min_gpt_{VERSION_MODEL_0}\"] != 0].shape"
   ]
  },
  {
   "cell_type": "code",
   "execution_count": null,
   "id": "6aabde3c",
   "metadata": {},
   "outputs": [],
   "source": [
    "INIT_PERCENTAJE_JOBS_WITH_SALARIES = processed_df[processed_df[f\"salary_min_gpt_{VERSION_MODEL_0}\"] != 0].shape[0] / processed_df.shape[0]"
   ]
  },
  {
   "cell_type": "code",
   "execution_count": null,
   "id": "93d40b67",
   "metadata": {},
   "outputs": [],
   "source": [
    "processed_df.columns"
   ]
  },
  {
   "cell_type": "code",
   "execution_count": null,
   "id": "1872c7bf",
   "metadata": {},
   "outputs": [],
   "source": [
    "processed_df[f\"currency_gpt_{VERSION_MODEL_0}\"].unique()"
   ]
  },
  {
   "cell_type": "markdown",
   "id": "bb463f81",
   "metadata": {},
   "source": [
    "#### El modelo entiende currency como una unidad de cantidad"
   ]
  },
  {
   "cell_type": "code",
   "execution_count": null,
   "id": "a637f620",
   "metadata": {},
   "outputs": [],
   "source": [
    "processed_df[processed_df[f\"currency_gpt_{VERSION_MODEL_0}\"] == \"UTC\"].head()[HEADERS]"
   ]
  },
  {
   "cell_type": "code",
   "execution_count": null,
   "id": "a9049269",
   "metadata": {},
   "outputs": [],
   "source": [
    "processed_df[processed_df[f\"currency_gpt_{VERSION_MODEL_0}\"] == \"REQ\"].head()[HEADERS]"
   ]
  },
  {
   "cell_type": "code",
   "execution_count": null,
   "id": "ad7fdc17",
   "metadata": {},
   "outputs": [],
   "source": [
    "processed_df[processed_df[f\"currency_gpt_{VERSION_MODEL_0}\"] == \"Percentage\"].head()[HEADERS]"
   ]
  },
  {
   "cell_type": "code",
   "execution_count": null,
   "id": "fe25d54b",
   "metadata": {},
   "outputs": [],
   "source": [
    "processed_df[processed_df[f\"currency_gpt_{VERSION_MODEL_0}\"] == \"Salarios mínimos\"].head()[HEADERS]"
   ]
  },
  {
   "cell_type": "code",
   "execution_count": null,
   "id": "af95d297",
   "metadata": {},
   "outputs": [],
   "source": [
    "processed_df[processed_df[f\"currency_gpt_{VERSION_MODEL_0}\"] == \"PLN\"].head()[HEADERS]"
   ]
  },
  {
   "cell_type": "code",
   "execution_count": null,
   "id": "935dee11",
   "metadata": {},
   "outputs": [],
   "source": [
    "processed_df[processed_df[f\"currency_gpt_{VERSION_MODEL_0}\"] == \"preferred\"].head()[HEADERS]"
   ]
  },
  {
   "cell_type": "code",
   "execution_count": null,
   "id": "2b145e16",
   "metadata": {},
   "outputs": [],
   "source": [
    "processed_df[processed_df[f\"currency_gpt_{VERSION_MODEL_0}\"] == \"Unknown\"].head()[HEADERS]"
   ]
  },
  {
   "cell_type": "markdown",
   "id": "84ee84ce",
   "metadata": {},
   "source": [
    "#### currencies"
   ]
  },
  {
   "cell_type": "code",
   "execution_count": null,
   "id": "0c1139c3",
   "metadata": {},
   "outputs": [],
   "source": [
    "# El primer filtro deberían ser con las currencies que representan dinero\n",
    "allowed_currencies = ['MXN', 'CLP', 'USD', 'COP', 'MVC', 'DOP', 'EUR', 'GTQ', 'CRC', 'KRW', 'SVC', 'HNL', 'UYU', 'PEN',\n",
    "                     'BRL', 'ARS', 'NTQ', 'HRS', 'QAR', 'GBP', 'PHP', 'CAD', 'JMD', 'BMD', 'MMK',\n",
    "                     'ZAR', 'NIO', 'PAB', 'PYG', 'MYR', 'PLN', 'AED', 'INR', 'CST', 'CHF', 'BOB']"
   ]
  },
  {
   "cell_type": "code",
   "execution_count": null,
   "id": "b904a3a0",
   "metadata": {},
   "outputs": [],
   "source": [
    "processed_df = processed_df[processed_df[f\"currency_gpt_{VERSION_MODEL_0}\"].isin(allowed_currencies)]\n",
    "\n",
    "print(processed_df.shape)"
   ]
  },
  {
   "cell_type": "code",
   "execution_count": null,
   "id": "dc162fcd",
   "metadata": {},
   "outputs": [],
   "source": [
    "def create_discarted_df(discarted_rows_list):\n",
    "    return pd.concat([pd.DataFrame(df) for df in discarted_rows_list])\n",
    "\n",
    "def get_discarted_sample(discarted_df, HEADERS):\n",
    "    return discarted_df[discarted_df[f\"salary_min_gpt_{VERSION_MODEL_0}\"] != 0].sample(n = 10)[HEADERS]"
   ]
  },
  {
   "cell_type": "code",
   "execution_count": null,
   "id": "b278a52e",
   "metadata": {},
   "outputs": [],
   "source": [
    "# Ejemplo para visualizar\n",
    "processed_df.sample(n = 0)[[\"reduce_description\", f\"salary_min_gpt_{VERSION_MODEL_0}\", f\"salary_max_gpt_{VERSION_MODEL_0}\", f\"currency_gpt_{VERSION_MODEL_0}\", f\"time_lapse_gpt_{VERSION_MODEL_0}\"]]"
   ]
  },
  {
   "cell_type": "markdown",
   "id": "394ec126",
   "metadata": {},
   "source": [
    "#### time_lapse"
   ]
  },
  {
   "cell_type": "code",
   "execution_count": null,
   "id": "faceae76",
   "metadata": {},
   "outputs": [],
   "source": [
    "# El segundo filtro sería time_lapse para reducir alguna incoherencia\n",
    "processed_df[f\"time_lapse_gpt_{VERSION_MODEL_0}\"].unique()"
   ]
  },
  {
   "cell_type": "code",
   "execution_count": null,
   "id": "81f568db",
   "metadata": {},
   "outputs": [],
   "source": [
    "valid_time_lapses = ['month','year', 'hour', 'annual']"
   ]
  },
  {
   "cell_type": "code",
   "execution_count": null,
   "id": "79d93b54",
   "metadata": {},
   "outputs": [],
   "source": [
    "discarted_rows_list.append(processed_df[~processed_df[f\"time_lapse_gpt_{VERSION_MODEL_0}\"].isin(valid_time_lapses)])\n",
    "\n",
    "processed_df = processed_df[processed_df[f\"time_lapse_gpt_{VERSION_MODEL_0}\"].isin(valid_time_lapses)]\n",
    "\n",
    "print(processed_df.shape)"
   ]
  },
  {
   "cell_type": "code",
   "execution_count": null,
   "id": "519787e8",
   "metadata": {},
   "outputs": [],
   "source": [
    "# Ejemplo para visualizar\n",
    "processed_df.sample(n = 10)[HEADERS]"
   ]
  },
  {
   "cell_type": "markdown",
   "id": "b0833733",
   "metadata": {},
   "source": [
    "#### General"
   ]
  },
  {
   "cell_type": "code",
   "execution_count": null,
   "id": "a6aad017",
   "metadata": {},
   "outputs": [],
   "source": [
    "processed_df = processed_df.astype({f\"salary_min_gpt_{VERSION_MODEL_0}\": \"float64\", f\"salary_max_gpt_{VERSION_MODEL_0}\":\"float64\"})"
   ]
  },
  {
   "cell_type": "code",
   "execution_count": null,
   "id": "939d0f01",
   "metadata": {},
   "outputs": [],
   "source": [
    "processed_df = processed_df[processed_df[f\"salary_min_gpt_{VERSION_MODEL_0}\"] > 0]\n",
    "\n",
    "print(processed_df.shape)"
   ]
  },
  {
   "cell_type": "code",
   "execution_count": null,
   "id": "b8fd613b",
   "metadata": {},
   "outputs": [],
   "source": [
    "# 40 o 45 horas a la semana\n",
    "for week_hours in [25, 40, 45]:\n",
    "    week_hours = processed_df[(processed_df[\"reduce_description\"].str.contains(f\"{week_hours} hours\"))&((processed_df[f\"salary_min_gpt_{VERSION_MODEL_0}\"] == week_hours)|(processed_df[f\"salary_max_gpt_{VERSION_MODEL_0}\"] == week_hours))]\n",
    "    processed_df = processed_df[~processed_df.job_id.isin(week_hours.job_id)]\n",
    "\n",
    "# años\n",
    "for age in range(50):\n",
    "    years_context = processed_df[(processed_df[\"reduce_description\"].str.contains(f\"{age} years\"))&((processed_df[f\"salary_min_gpt_{VERSION_MODEL_0}\"] == age)|(processed_df[f\"salary_max_gpt_{VERSION_MODEL_0}\"] == age))]\n",
    "    processed_df = processed_df[~processed_df.job_id.isin(years_context.job_id)]\n",
    "\n",
    "for age in range(5000):\n",
    "    years_context = processed_df[(processed_df[\"reduce_description\"].str.contains(f\"{age} fastest\"))&((processed_df[f\"salary_min_gpt_{VERSION_MODEL_0}\"] == age)|(processed_df[f\"salary_max_gpt_{VERSION_MODEL_0}\"] == age))]\n",
    "    processed_df = processed_df[~processed_df.job_id.isin(years_context.job_id)]"
   ]
  },
  {
   "cell_type": "markdown",
   "id": "25f7ae94",
   "metadata": {},
   "source": [
    "#### Números que representan ganancias u otras cosas"
   ]
  },
  {
   "cell_type": "code",
   "execution_count": null,
   "id": "932fdc97",
   "metadata": {},
   "outputs": [],
   "source": [
    "processed_df[processed_df[f\"salary_min_gpt_{VERSION_MODEL_0}\"] >= 1000000000].head()[HEADERS]"
   ]
  },
  {
   "cell_type": "code",
   "execution_count": null,
   "id": "f45ff4eb",
   "metadata": {},
   "outputs": [],
   "source": [
    "processed_df = processed_df[processed_df[f\"salary_min_gpt_{VERSION_MODEL_0}\"] < 1000000000]\n",
    "\n",
    "print(processed_df.shape)"
   ]
  },
  {
   "cell_type": "code",
   "execution_count": null,
   "id": "d0ae8993",
   "metadata": {},
   "outputs": [],
   "source": [
    "try:\n",
    "    processed_df[processed_df[f\"salary_min_gpt_{VERSION_MODEL_0}\"] >= 50000000].sample(n = 10)[HEADERS]\n",
    "    \n",
    "except:\n",
    "    pass"
   ]
  },
  {
   "cell_type": "code",
   "execution_count": null,
   "id": "99a5a618",
   "metadata": {},
   "outputs": [],
   "source": [
    "processed_df = processed_df[processed_df[f\"salary_min_gpt_{VERSION_MODEL_0}\"] < 50000000]\n",
    "\n",
    "print(processed_df.shape)"
   ]
  },
  {
   "cell_type": "code",
   "execution_count": null,
   "id": "a1ad8588",
   "metadata": {},
   "outputs": [],
   "source": [
    "processed_df = processed_df[processed_df[f\"salary_min_gpt_{VERSION_MODEL_0}\"] < 10000000]\n",
    "\n",
    "print(processed_df.shape)"
   ]
  },
  {
   "cell_type": "code",
   "execution_count": null,
   "id": "7a460b44",
   "metadata": {},
   "outputs": [],
   "source": [
    "# Ejemplo para visualizar\n",
    "processed_df.sample(n = 10)[HEADERS + [\"location\"]]"
   ]
  },
  {
   "cell_type": "markdown",
   "id": "a660e0f1",
   "metadata": {},
   "source": [
    "#### Filtros finales"
   ]
  },
  {
   "cell_type": "code",
   "execution_count": null,
   "id": "547aed7a",
   "metadata": {},
   "outputs": [],
   "source": [
    "# Si contiene \"osde 210\", \"osde 310\", \"osde 410\"\n",
    "osde_df = processed_df[(processed_df[\"reduce_description\"].str.contains(\"osde\")) & ((processed_df[f\"salary_min_gpt_{VERSION_MODEL_0}\"] == 310)|(processed_df[f\"salary_min_gpt_{VERSION_MODEL_0}\"] == 210)|(processed_df[f\"salary_min_gpt_{VERSION_MODEL_0}\"] == 410))]"
   ]
  },
  {
   "cell_type": "code",
   "execution_count": null,
   "id": "ca137595",
   "metadata": {},
   "outputs": [],
   "source": [
    "osde_df[HEADERS + [\"location\"]]"
   ]
  },
  {
   "cell_type": "code",
   "execution_count": null,
   "id": "aa1e8236",
   "metadata": {},
   "outputs": [],
   "source": [
    "processed_df = processed_df[~processed_df.job_id.isin(osde_df.job_id)]"
   ]
  },
  {
   "cell_type": "code",
   "execution_count": null,
   "id": "a3de59e7",
   "metadata": {},
   "outputs": [],
   "source": [
    "# Ejemplo para visualizar\n",
    "processed_df[processed_df[\"reduce_description\"].str.contains(\"osde\")][HEADERS + [\"location\"]]"
   ]
  },
  {
   "cell_type": "code",
   "execution_count": null,
   "id": "0a16270f",
   "metadata": {},
   "outputs": [],
   "source": [
    "exclude_jobs_id = processed_df[(processed_df[\"reduce_description\"].str.contains(\"6 months to months to 1 year\")) & (processed_df[f\"salary_min_gpt_{VERSION_MODEL_0}\"] == 6) & (processed_df[f\"salary_max_gpt_{VERSION_MODEL_0}\"] == 12)].job_id"
   ]
  },
  {
   "cell_type": "code",
   "execution_count": null,
   "id": "b9d425be",
   "metadata": {},
   "outputs": [],
   "source": [
    "exclude_jobs_list = list()\n",
    "\n",
    "for range_min, range_max in [(9, 18), (9, 5), (3, 5), (6, 1), (6, 12), (3, 4)]:\n",
    "    exclude_jobs_list.append(processed_df[(((processed_df[\"reduce_description\"].str.contains(str(range_min))) & (processed_df[\"reduce_description\"].str.contains(str(range_max))))\n",
    "                                           ) & (processed_df[f\"salary_min_gpt_{VERSION_MODEL_0}\"] == range_min) & (processed_df[f\"salary_max_gpt_{VERSION_MODEL_0}\"] == range_max)])"
   ]
  },
  {
   "cell_type": "code",
   "execution_count": null,
   "id": "cc68b11b",
   "metadata": {},
   "outputs": [],
   "source": [
    "# Añade todos los trabajos excluidos, OSDE y rango horario\n",
    "exclude_jobs_df = pd.concat(exclude_jobs_list)\n",
    "\n",
    "discarted_rows_list.append(exclude_jobs_list)"
   ]
  },
  {
   "cell_type": "code",
   "execution_count": null,
   "id": "26004150",
   "metadata": {},
   "outputs": [],
   "source": [
    "exclude_jobs_df[HEADERS+[\"location\"]]"
   ]
  },
  {
   "cell_type": "code",
   "execution_count": null,
   "id": "42058a7e",
   "metadata": {},
   "outputs": [],
   "source": [
    "processed_df = processed_df[~processed_df.job_id.isin(exclude_jobs_df.job_id)]"
   ]
  },
  {
   "cell_type": "markdown",
   "id": "ce863d5e",
   "metadata": {},
   "source": [
    "##### Salarios de 1$ mensual o anual"
   ]
  },
  {
   "cell_type": "code",
   "execution_count": null,
   "id": "133ecc3e",
   "metadata": {},
   "outputs": [],
   "source": [
    "try:\n",
    "    processed_df[(processed_df[f\"salary_min_gpt_{VERSION_MODEL_0}\"] <= 1) & (processed_df[f\"salary_min_gpt_{VERSION_MODEL_0}\"] != \"hour\")].sample(n = 10)[HEADERS+[\"location\"]]\n",
    "\n",
    "except:\n",
    "    pass"
   ]
  },
  {
   "cell_type": "code",
   "execution_count": null,
   "id": "1d0cc3b8",
   "metadata": {},
   "outputs": [],
   "source": [
    "exclude = processed_df[(processed_df[f\"salary_min_gpt_{VERSION_MODEL_0}\"] <= 1) & (processed_df[f\"time_lapse_gpt_{VERSION_MODEL_0}\"] != \"hour\")]"
   ]
  },
  {
   "cell_type": "code",
   "execution_count": null,
   "id": "123ccda7",
   "metadata": {},
   "outputs": [],
   "source": [
    "processed_df = processed_df[~processed_df.job_id.isin(exclude.job_id)]"
   ]
  },
  {
   "cell_type": "code",
   "execution_count": null,
   "id": "126158c0",
   "metadata": {},
   "outputs": [],
   "source": [
    "# Eliminamos salario mensual superior a 50K USD\n",
    "exclude = processed_df[(processed_df[f\"salary_min_gpt_{VERSION_MODEL_0}\"] > 50000) & (processed_df[f\"time_lapse_gpt_{VERSION_MODEL_0}\"] == \"month\") & ((processed_df[f\"currency_gpt_{VERSION_MODEL_0}\"] == \"USD\") | (processed_df[f\"currency_gpt_{VERSION_MODEL_0}\"] == \"CAD\") | (processed_df[f\"currency_gpt_{VERSION_MODEL_0}\"] == \"EUR\"))]\n",
    "\n",
    "discarted_rows_list.append(exclude)"
   ]
  },
  {
   "cell_type": "code",
   "execution_count": null,
   "id": "519caafa",
   "metadata": {},
   "outputs": [],
   "source": [
    "processed_df = processed_df[~processed_df.job_id.isin(exclude.job_id)]"
   ]
  },
  {
   "cell_type": "code",
   "execution_count": null,
   "id": "6e7b839b",
   "metadata": {},
   "outputs": [],
   "source": [
    "# Excluimos horas extra USD\n",
    "exclude = processed_df[(processed_df[f\"salary_min_gpt_{VERSION_MODEL_0}\"] > 200) & (processed_df[f\"time_lapse_gpt_{VERSION_MODEL_0}\"] == \"hour\") & ((processed_df[f\"currency_gpt_{VERSION_MODEL_0}\"] == \"USD\") | (processed_df[f\"currency_gpt_{VERSION_MODEL_0}\"] == \"CAD\") | (processed_df[f\"currency_gpt_{VERSION_MODEL_0}\"] == \"EUR\"))]\n",
    "\n",
    "discarted_rows_list.append(exclude)"
   ]
  },
  {
   "cell_type": "code",
   "execution_count": null,
   "id": "6e4abe9b",
   "metadata": {},
   "outputs": [],
   "source": [
    "discarted_row_df = create_discarted_df(discarted_rows_list = discarted_rows_list)"
   ]
  },
  {
   "cell_type": "code",
   "execution_count": null,
   "id": "35bc36e6",
   "metadata": {},
   "outputs": [],
   "source": [
    "discarted_row_df[pd.isna(discarted_row_df[f\"time_lapse_gpt_{VERSION_MODEL_0}\"])][HEADERS].sample(n = 10)"
   ]
  },
  {
   "cell_type": "code",
   "execution_count": null,
   "id": "7be001bd",
   "metadata": {},
   "outputs": [],
   "source": [
    "# Excluimos salarios muy bajos\n",
    "exclude = processed_df[(processed_df[f\"salary_min_gpt_{VERSION_MODEL_0}\"] < 500) & (processed_df[f\"time_lapse_gpt_{VERSION_MODEL_0}\"] == \"month\") & ((processed_df[f\"currency_gpt_{VERSION_MODEL_0}\"] == \"USD\") | (processed_df[f\"currency_gpt_{VERSION_MODEL_0}\"] == \"CAD\") | (processed_df[f\"currency_gpt_{VERSION_MODEL_0}\"] == \"EUR\"))]\n",
    "processed_df = processed_df[~processed_df.job_id.isin(exclude.job_id)]\n",
    "\n",
    "exclude = processed_df[(processed_df[f\"salary_min_gpt_{VERSION_MODEL_0}\"] < 10000) & (processed_df[f\"time_lapse_gpt_{VERSION_MODEL_0}\"] == \"year\") & ((processed_df[f\"currency_gpt_{VERSION_MODEL_0}\"] == \"USD\") | (processed_df[f\"currency_gpt_{VERSION_MODEL_0}\"] == \"CAD\") | (processed_df[f\"currency_gpt_{VERSION_MODEL_0}\"] == \"EUR\"))]\n",
    "processed_df = processed_df[~processed_df.job_id.isin(exclude.job_id)]\n",
    "\n",
    "exclude = processed_df[(processed_df[f\"salary_min_gpt_{VERSION_MODEL_0}\"] < 3) & (processed_df[f\"time_lapse_gpt_{VERSION_MODEL_0}\"] == \"hour\") & ((processed_df[f\"currency_gpt_{VERSION_MODEL_0}\"] == \"USD\") | (processed_df[f\"currency_gpt_{VERSION_MODEL_0}\"] == \"CAD\") | (processed_df[f\"currency_gpt_{VERSION_MODEL_0}\"] == \"EUR\"))]\n",
    "processed_df = processed_df[~processed_df.job_id.isin(exclude.job_id)]"
   ]
  },
  {
   "cell_type": "markdown",
   "id": "fffdc402",
   "metadata": {},
   "source": [
    "##### Mantenemos solo timelapses con NaN"
   ]
  },
  {
   "cell_type": "code",
   "execution_count": null,
   "id": "e70e72d0",
   "metadata": {},
   "outputs": [],
   "source": [
    "discarted_row_df = discarted_row_df[pd.isna(discarted_row_df[f\"time_lapse_gpt_{VERSION_MODEL_0}\"])]"
   ]
  },
  {
   "cell_type": "code",
   "execution_count": null,
   "id": "7ac720cd",
   "metadata": {},
   "outputs": [],
   "source": [
    "get_discarted_sample(discarted_df = discarted_row_df, HEADERS = HEADERS)"
   ]
  },
  {
   "cell_type": "code",
   "execution_count": null,
   "id": "7c6b9daf",
   "metadata": {},
   "outputs": [],
   "source": [
    "# Testeamos que puede recuperarse con la nueva versión del modelo\n",
    "reprocessed_records_list = list()\n",
    "\n",
    "discarted_row_df[\"location\"] = discarted_row_df[\"location\"].fillna(\" \")\n",
    "discarted_row_df= discarted_row_df.dropna(subset = \"job_id\")\n",
    "total_cost = 0\n",
    "\n",
    "for _, row in tqdm(discarted_row_df.iterrows(), total=discarted_row_df.shape[0]):\n",
    "    salary_output = process_request(description = row.description, location = row.location, jobid = create_job_rerun_id(row), ngrams = NGRAMS, overlap_limit = OVERLAP)\n",
    "\n",
    "    sent_tokens = salary_output[\"token_count_sent_chat_gpt\"]\n",
    "\n",
    "    cost = float(salary_output[\"cost\"])\n",
    "    total_cost += cost\n",
    "    orignal_description_tokens = len(row.description.split(\" \"))\n",
    "    reduce_description_len = len(salary_output[\"reduce_description\"].split(\" \"))\n",
    "    ratio_sent_original_description = reduce_description_len/orignal_description_tokens\n",
    "\n",
    "    reprocessed_records_list.append((row.job_id, salary_output[\"reduce_description\"], salary_output[\"min\"], salary_output[\"max\"], salary_output[\"currency\"], salary_output[\"time_lapse\"], salary_output[\"source\"], sent_tokens, orignal_description_tokens, ratio_sent_original_description, cost))\n",
    "\n",
    "print(f\"TOTAL COST OF REPROCESSING: {total_cost}\")"
   ]
  },
  {
   "cell_type": "code",
   "execution_count": null,
   "id": "49cf2db1",
   "metadata": {},
   "outputs": [],
   "source": [
    "reprocessed_records_list[0]"
   ]
  },
  {
   "cell_type": "code",
   "execution_count": null,
   "id": "e8161abf",
   "metadata": {},
   "outputs": [],
   "source": [
    "reprocessed_records_df = pd.DataFrame(reprocessed_records_list,\n",
    "                         columns=[\n",
    "                                    \"job_id\",\n",
    "                                    \"reduce_description\",\n",
    "                                    f\"salary_min_gpt_{VERSION_MODEL_0}\",\n",
    "                                    f\"salary_max_gpt_{VERSION_MODEL_0}\",\n",
    "                                    f\"currency_gpt_{VERSION_MODEL_0}\",\n",
    "                                    f\"time_lapse_gpt_{VERSION_MODEL_0}\",\n",
    "                                    f\"source_{VERSION_MODEL_0}\",\n",
    "                                    f\"token_count_sent_chat_gpt_{VERSION_MODEL_0}\",\n",
    "                                    \"token_count_original_description\",\n",
    "                                    \"token_rate_sent_original_description\",\n",
    "                                    f\"gpt_cost_{VERSION_MODEL_0}\"\n",
    "                                ]\n",
    "            )"
   ]
  },
  {
   "cell_type": "code",
   "execution_count": null,
   "id": "22e0f522",
   "metadata": {},
   "outputs": [],
   "source": [
    "get_discarted_sample(discarted_df = reprocessed_records_df, HEADERS = HEADERS)"
   ]
  },
  {
   "cell_type": "markdown",
   "id": "a8e1f607",
   "metadata": {},
   "source": [
    "#### Todos los filtros"
   ]
  },
  {
   "cell_type": "code",
   "execution_count": null,
   "id": "b63bcce4",
   "metadata": {},
   "outputs": [],
   "source": [
    "def filter_rows(processed_df):\n",
    "    \n",
    "    processed_df = processed_df[processed_df[f\"currency_gpt_{VERSION_MODEL_0}\"].isin(allowed_currencies)]\n",
    "\n",
    "    processed_df = processed_df[processed_df[f\"time_lapse_gpt_{VERSION_MODEL_0}\"].isin(valid_time_lapses)]\n",
    "\n",
    "    processed_df = processed_df.astype({f\"salary_min_gpt_{VERSION_MODEL_0}\": \"float64\", f\"salary_max_gpt_{VERSION_MODEL_0}\":\"float64\"})\n",
    "\n",
    "    processed_df = processed_df[processed_df[f\"salary_min_gpt_{VERSION_MODEL_0}\"]>0]\n",
    "\n",
    "    processed_df = processed_df[processed_df[f\"salary_min_gpt_{VERSION_MODEL_0}\"]>1]\n",
    "\n",
    "    processed_df = processed_df[processed_df[f\"salary_min_gpt_{VERSION_MODEL_0}\"]<1000000000]\n",
    "\n",
    "    processed_df = processed_df[processed_df[f\"salary_min_gpt_{VERSION_MODEL_0}\"]<50000000]\n",
    "\n",
    "    processed_df = processed_df[processed_df[f\"salary_min_gpt_{VERSION_MODEL_0}\"]<20000000]\n",
    "\n",
    "    processed_df = processed_df[processed_df[f\"salary_min_gpt_{VERSION_MODEL_0}\"]<10000000]\n",
    "\n",
    "    osde_df = processed_df[(processed_df[\"reduce_description\"].str.contains(\"osde\"))&((processed_df[f\"salary_min_gpt_{VERSION_MODEL_0}\"]==310)|(processed_df[f\"salary_min_gpt_{VERSION_MODEL_0}\"]==210)|(processed_df[f\"salary_min_gpt_{VERSION_MODEL_0}\"]==410))]\n",
    "\n",
    "\n",
    "    processed_df = processed_df[~processed_df.job_id.isin(osde_df.job_id)]\n",
    "\n",
    "    for range_min, range_max in [(9, 18), (9, 5), (3, 5), (6, 1), (6, 12), (3, 4)]:\n",
    "        exclude_jobs_list.append(processed_df[(((processed_df[\"reduce_description\"].str.contains(str(range_min)))&(processed_df[\"reduce_description\"].str.contains(str(range_max))))\n",
    "                                            )&(processed_df[f\"salary_min_gpt_{VERSION_MODEL_0}\"]==range_min)&(processed_df[f\"salary_max_gpt_{VERSION_MODEL_0}\"]==range_max)])\n",
    "    exclude_jobs_df = pd.concat(exclude_jobs_list)\n",
    "\n",
    "    processed_df = processed_df[~processed_df.job_id.isin(exclude_jobs_df.job_id)]\n",
    "\n",
    "    exclude_jobs_df = processed_df[(processed_df[f\"salary_min_gpt_{VERSION_MODEL_0}\"]<=1)&(processed_df[f\"time_lapse_gpt_{VERSION_MODEL_0}\"]!=\"hour\")]\n",
    "    processed_df = processed_df[~processed_df.job_id.isin(exclude_jobs_df.job_id)]\n",
    "\n",
    "    exclude_jobs_df = processed_df[(processed_df[f\"salary_min_gpt_{VERSION_MODEL_0}\"]>50000)&(processed_df[f\"time_lapse_gpt_{VERSION_MODEL_0}\"]==\"month\")&(processed_df[f\"currency_gpt_{VERSION_MODEL_0}\"]==\"USD\")]\n",
    "    processed_df = processed_df[~processed_df.job_id.isin(exclude_jobs_df.job_id)]\n",
    "\n",
    "    exclude_jobs_df = processed_df[(processed_df[f\"salary_min_gpt_{VERSION_MODEL_0}\"]>200)&(processed_df[f\"time_lapse_gpt_{VERSION_MODEL_0}\"]==\"hour\")&(processed_df[f\"currency_gpt_{VERSION_MODEL_0}\"]==\"USD\")]\n",
    "    processed_df = processed_df[~processed_df.job_id.isin(exclude_jobs_df.job_id)]\n",
    "\n",
    "    # Demasiado bajo para ser un salario\n",
    "    exclude_jobs_df = processed_df[(processed_df[f\"salary_min_gpt_{VERSION_MODEL_0}\"]<2000)&(processed_df[f\"time_lapse_gpt_{VERSION_MODEL_0}\"]==\"hour\")&(processed_df[f\"currency_gpt_{VERSION_MODEL_0}\"]==\"USD\")]\n",
    "    processed_df = processed_df[~processed_df.job_id.isin(exclude_jobs_df.job_id)]\n",
    "\n",
    "    exclude = processed_df[(processed_df[f\"salary_min_gpt_{VERSION_MODEL_0}\"]<500)&(processed_df[f\"time_lapse_gpt_{VERSION_MODEL_0}\"]==\"month\")&((processed_df[f\"currency_gpt_{VERSION_MODEL_0}\"]==\"USD\")|(processed_df[f\"currency_gpt_{VERSION_MODEL_0}\"]==\"CAD\")|(processed_df[f\"currency_gpt_{VERSION_MODEL_0}\"]==\"EUR\"))]\n",
    "    processed_df = processed_df[~processed_df.job_id.isin(exclude.job_id)]\n",
    "\n",
    "    exclude = processed_df[(processed_df[f\"salary_min_gpt_{VERSION_MODEL_0}\"]<10000)&(processed_df[f\"time_lapse_gpt_{VERSION_MODEL_0}\"]==\"year\")&((processed_df[f\"currency_gpt_{VERSION_MODEL_0}\"]==\"USD\")|(processed_df[f\"currency_gpt_{VERSION_MODEL_0}\"]==\"CAD\")|(processed_df[f\"currency_gpt_{VERSION_MODEL_0}\"]==\"EUR\"))]\n",
    "    processed_df = processed_df[~processed_df.job_id.isin(exclude.job_id)]\n",
    "\n",
    "    exclude = processed_df[(processed_df[f\"salary_min_gpt_{VERSION_MODEL_0}\"]<3)&(processed_df[f\"time_lapse_gpt_{VERSION_MODEL_0}\"]==\"hour\")&((processed_df[f\"currency_gpt_{VERSION_MODEL_0}\"]==\"USD\")|(processed_df[f\"currency_gpt_{VERSION_MODEL_0}\"]==\"CAD\")|(processed_df[f\"currency_gpt_{VERSION_MODEL_0}\"]==\"EUR\"))]\n",
    "    processed_df = processed_df[~processed_df.job_id.isin(exclude.job_id)]\n",
    "\n",
    "    # 40 o 45 horas a la semana\n",
    "    for week_hours in [25, 40, 45]:\n",
    "        week_hours = processed_df[(processed_df[\"reduce_description\"].str.contains(f\"{week_hours} hours\"))&((processed_df[f\"salary_min_gpt_{VERSION_MODEL_0}\"]==week_hours)|(processed_df[f\"salary_max_gpt_{VERSION_MODEL_0}\"]==week_hours))]\n",
    "        processed_df = processed_df[~processed_df.job_id.isin(week_hours.job_id)]\n",
    "\n",
    "    # años\n",
    "    for age in range(50):\n",
    "        years_context = processed_df[(processed_df[\"reduce_description\"].str.contains(f\"{age} years\"))&((processed_df[f\"salary_min_gpt_{VERSION_MODEL_0}\"]==age)|(processed_df[f\"salary_max_gpt_{VERSION_MODEL_0}\"]==age))]\n",
    "        processed_df = processed_df[~processed_df.job_id.isin(years_context.job_id)]\n",
    "\n",
    "    for age in range(5000):\n",
    "        years_context = processed_df[(processed_df[\"reduce_description\"].str.contains(f\"{age} fastest\"))&((processed_df[f\"salary_min_gpt_{VERSION_MODEL_0}\"]==age)|(processed_df[f\"salary_max_gpt_{VERSION_MODEL_0}\"]==age))]\n",
    "        processed_df = processed_df[~processed_df.job_id.isin(years_context.job_id)]\n",
    "\n",
    "    return processed_df"
   ]
  },
  {
   "cell_type": "code",
   "execution_count": null,
   "id": "f980b117",
   "metadata": {},
   "outputs": [],
   "source": [
    "filtered_reprocessed_records_df = filter_rows(reprocessed_records_df)\n",
    "processed_df = filter_rows(processed_df)"
   ]
  },
  {
   "cell_type": "code",
   "execution_count": null,
   "id": "2977ce85",
   "metadata": {},
   "outputs": [],
   "source": [
    "try:\n",
    "    get_discarted_sample(discarted_df = filtered_reprocessed_records_df, HEADERS = HEADERS)\n",
    "\n",
    "except:\n",
    "    pass"
   ]
  },
  {
   "cell_type": "code",
   "execution_count": null,
   "id": "8f46005b",
   "metadata": {},
   "outputs": [],
   "source": [
    "processed_df = processed_df[processed_df[f\"salary_min_gpt_{VERSION_MODEL_0}\"] <= processed_df[f\"salary_max_gpt_{VERSION_MODEL_0}\"]]\n",
    "filtered_reprocessed_records_df = filtered_reprocessed_records_df[filtered_reprocessed_records_df[f\"salary_min_gpt_{VERSION_MODEL_0}\"] <= filtered_reprocessed_records_df[f\"salary_max_gpt_{VERSION_MODEL_0}\"]]"
   ]
  },
  {
   "cell_type": "code",
   "execution_count": null,
   "id": "711cb3c3",
   "metadata": {},
   "outputs": [],
   "source": [
    "preprocessed_count = processed_df.shape[0]\n",
    "rescued_count = filtered_reprocessed_records_df.shape[0]\n",
    "\n",
    "print(f\"Preprocessed: {preprocessed_count}\")\n",
    "print(f\"Rescued: {rescued_count}\")\n",
    "print(f\"% recovered: {rescued_count/preprocessed_count}\")\n",
    "print(f\"Salary %: {preprocessed_count/OG_SIZE}\")\n",
    "print(f\"Salary % with recovered: {(preprocessed_count+rescued_count)/OG_SIZE}\")"
   ]
  },
  {
   "cell_type": "code",
   "execution_count": null,
   "id": "db9aae18",
   "metadata": {},
   "outputs": [],
   "source": [
    "# Lo unimos al dataframe previamente preprocesado\n",
    "processed_df = pd.concat([processed_df, filtered_reprocessed_records_df])"
   ]
  },
  {
   "cell_type": "code",
   "execution_count": null,
   "id": "47ed01f2",
   "metadata": {},
   "outputs": [],
   "source": [
    "get_discarted_sample(discarted_df = processed_df, HEADERS = HEADERS)"
   ]
  },
  {
   "cell_type": "code",
   "execution_count": null,
   "id": "68f04c8b",
   "metadata": {},
   "outputs": [],
   "source": [
    "processed_df.to_csv(\"../data/with_salaries/spain_cleaned_data_2023-10-31_with_salaries.csv\", index = False, sep = \",\")"
   ]
  },
  {
   "cell_type": "code",
   "execution_count": null,
   "id": "107988cf",
   "metadata": {},
   "outputs": [],
   "source": [
    "################################################################################################################################"
   ]
  }
 ],
 "metadata": {
  "kernelspec": {
   "display_name": "tf",
   "language": "python",
   "name": "tf"
  },
  "language_info": {
   "codemirror_mode": {
    "name": "ipython",
    "version": 3
   },
   "file_extension": ".py",
   "mimetype": "text/x-python",
   "name": "python",
   "nbconvert_exporter": "python",
   "pygments_lexer": "ipython3",
   "version": "3.9.17"
  }
 },
 "nbformat": 4,
 "nbformat_minor": 5
}
