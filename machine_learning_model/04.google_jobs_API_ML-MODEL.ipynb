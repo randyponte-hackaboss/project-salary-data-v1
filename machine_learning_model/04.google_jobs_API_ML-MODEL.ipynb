{
 "cells": [
  {
   "cell_type": "code",
   "execution_count": null,
   "id": "29ffa25c",
   "metadata": {},
   "outputs": [],
   "source": [
    "import requests\n",
    "import pandas as pd\n",
    "import os\n",
    "from tqdm.auto import tqdm\n",
    "import json\n",
    "import math\n",
    "import numpy as np\n",
    "\n",
    "from src.textprocessing.preprocess import normalize_text, remove_punctuation"
   ]
  },
  {
   "cell_type": "markdown",
   "id": "0a35483a",
   "metadata": {},
   "source": [
    "### Extracción"
   ]
  },
  {
   "cell_type": "code",
   "execution_count": null,
   "id": "b18b76dc",
   "metadata": {},
   "outputs": [],
   "source": [
    "VERSION_MODEL_0 = \"0.8.0\"\n",
    "VERSION_DATA_0 = \"001\""
   ]
  },
  {
   "cell_type": "code",
   "execution_count": null,
   "id": "a545e8bd",
   "metadata": {},
   "outputs": [],
   "source": [
    "df = pd.read_csv(\"../data/cleaned/latam_cleaned_data_2023-10-31.csv\")\n",
    "df = df.sample(frac = 0.1).reset_index(drop = True)\n",
    "\n",
    "df[[\"salary_min_form\", \"salary_max_form\", \"currency_form\", \"time_lapse_form\"]] = \"\""
   ]
  },
  {
   "cell_type": "code",
   "execution_count": null,
   "id": "2f3e3837",
   "metadata": {},
   "outputs": [],
   "source": [
    "def extract_salary(description, job_id, location):\n",
    "    response = requests.post('http://localhost:3000/predict',\n",
    "                             data = json.dumps({\"description\" : description,\n",
    "                                                \"jobid\" : job_id,\n",
    "                                                \"location\" : location\n",
    "                                               }),\n",
    "                             headers = {\"Content-Type\" : \"application/json\"})\n",
    "\n",
    "    if response.status_code == 200:\n",
    "        return response.json()\n",
    "    \n",
    "    return {'max': 0, 'min': 0, 'error_status_code': response.status_code}"
   ]
  },
  {
   "cell_type": "code",
   "execution_count": null,
   "id": "91bc9d76",
   "metadata": {
    "scrolled": true
   },
   "outputs": [],
   "source": [
    "salary_info = list()\n",
    "total_tokens = 0\n",
    "accumulate_cost = 0\n",
    "progress_steps = math.ceil(df.shape[0]*0.15)\n",
    "\n",
    "for index, row in tqdm(df.iterrows(), total = df.shape[0]):\n",
    "    \n",
    "    try:\n",
    "        \n",
    "        salary_output = extract_salary(description = row.description, job_id = row.job_id, location = row.country)\n",
    "        sent_tokens = salary_output[\"token_count_sent_chat_gpt\"]\n",
    "        total_tokens += sent_tokens\n",
    "\n",
    "        cost = float(salary_output[\"cost\"])\n",
    "        accumulate_cost += cost\n",
    "\n",
    "        orignal_description_tokens = len(row.description.split(\" \"))\n",
    "        reduce_description_len = len(salary_output[\"reduce_description\"].split(\" \"))\n",
    "        ratio_sent_original_description = reduce_description_len/orignal_description_tokens\n",
    "\n",
    "        salary_info.append((row.job_id, salary_output[\"reduce_description\"], salary_output[\"min\"], salary_output[\"max\"], salary_output[\"currency\"], salary_output[\"time_lapse\"], salary_output[\"source\"], sent_tokens, orignal_description_tokens, ratio_sent_original_description, cost))\n",
    "\n",
    "        if (index%progress_steps) == 0:\n",
    "            \n",
    "            print(f\"[output salary: {salary_output}]\")\n",
    "            print(\"[------- Full Description -------]\")\n",
    "            print(row.description)\n",
    "            print(\"[------- Reduce description -------]\")\n",
    "            print(salary_output[\"reduce_description\"])\n",
    "            print(f\"==== Tokens sent for this JD:{sent_tokens} - Total sent tokens: {total_tokens} - tokens in complete description:{orignal_description_tokens} = Ratio sent/original description so far:{ratio_sent_original_description} | Cost for this JD:{cost} - Total cost so far: {accumulate_cost} ====\")\n",
    "\n",
    "    except Exception as e:\n",
    "        \n",
    "        print(f\"error: {e}\")\n",
    "\n",
    "print(f\"estimated_cost: {accumulate_cost} per: {df.shape[0]} jobs description | Total sent tokens: {total_tokens}\")"
   ]
  },
  {
   "cell_type": "code",
   "execution_count": null,
   "id": "65414242",
   "metadata": {},
   "outputs": [],
   "source": [
    "salary_df = pd.DataFrame(salary_info,\n",
    "                         columns=[\n",
    "                                    \"job_id\",\n",
    "                                    \"reduce_description\",\n",
    "                                    f\"salary_min_gpt_{VERSION_MODEL_0}\",\n",
    "                                    f\"salary_max_gpt_{VERSION_MODEL_0}\",\n",
    "                                    f\"currency_gpt_{VERSION_MODEL_0}\",\n",
    "                                    f\"time_lapse_gpt_{VERSION_MODEL_0}\",\n",
    "                                    f\"source_{VERSION_MODEL_0}\",\n",
    "                                    f\"token_count_sent_chat_gpt_{VERSION_MODEL_0}\",\n",
    "                                    \"token_count_original_description\",\n",
    "                                    \"token_rate_sent_original_description\",\n",
    "                                    f\"gpt_cost_{VERSION_MODEL_0}\"\n",
    "                                ])"
   ]
  },
  {
   "cell_type": "markdown",
   "id": "870b948e",
   "metadata": {},
   "source": [
    "#### Agregamos faltantes"
   ]
  },
  {
   "cell_type": "code",
   "execution_count": null,
   "id": "e0f5a3fa",
   "metadata": {},
   "outputs": [],
   "source": [
    "jobs_with_salary = pd.merge(df, salary_df, on = \"job_id\", how = \"left\")"
   ]
  },
  {
   "cell_type": "markdown",
   "id": "5187bd01",
   "metadata": {},
   "source": [
    "#### ¿Cuántas ofertas de empleo con salarios tenemos?"
   ]
  },
  {
   "cell_type": "code",
   "execution_count": null,
   "id": "2ae5c0bf",
   "metadata": {},
   "outputs": [],
   "source": [
    "all_jobs_count = jobs_with_salary.shape[0]\n",
    "jobs_with_salary_count = jobs_with_salary[jobs_with_salary[f\"salary_min_gpt_{VERSION_MODEL_0}\"] > 0].shape[0]\n",
    "\n",
    "print(f\"Salary jobs count: {all_jobs_count} | {jobs_with_salary_count} - jobs with salary {round(jobs_with_salary_count/all_jobs_count, 3)}%\")"
   ]
  },
  {
   "cell_type": "code",
   "execution_count": null,
   "id": "befade14",
   "metadata": {},
   "outputs": [],
   "source": [
    "all_jobs_by_country = df.groupby(by = [\"country\"]).size().sort_values(ascending=False).reset_index(name = \"count_all\")\n",
    "\n",
    "all_jobs_by_country"
   ]
  },
  {
   "cell_type": "code",
   "execution_count": null,
   "id": "ce7b30ff",
   "metadata": {},
   "outputs": [],
   "source": [
    "# jobs_with_salary = jobs_with_salary[[\"job_id\", \"country\", \"experience\", \"experience_levels\", \"description\", \"email\",\n",
    "#                                      \"Especialidad\", \"Perfil\", \"remote_work\", \"tech_skills\", \"title\", \"company_name\",\n",
    "#                                      \"location\", \"source\", \"date_posted\", \"contract_type\", \"salary_min_gpt_0.8.0\",\n",
    "#                                      \"salary_max_gpt_0.8.0\", \"currency_gpt_0.8.0\", \"time_lapse_gpt_0.8.0\"]]\n",
    "\n",
    "# jobs_with_salary = jobs_with_salary.rename(columns = {\"salary_min_gpt_0.8.0\" : \"salary_min\",\n",
    "#                                                       \"salary_max_gpt_0.8.0\" : \"salary_max\",\n",
    "#                                                       \"currency_gpt_0.8.0\" : \"currency\",\n",
    "#                                                       \"time_lapse_gpt_0.8.0\" : \"time_lapse\"})\n",
    "\n",
    "# jobs_with_salary[\"currency\"].replace(\" \", np.nan, inplace = True)\n",
    "# jobs_with_salary[\"time_lapse\"].replace(\" \", np.nan, inplace = True)\n",
    "\n",
    "jobs_with_salary"
   ]
  },
  {
   "cell_type": "code",
   "execution_count": null,
   "id": "59e575ed",
   "metadata": {},
   "outputs": [],
   "source": [
    "jobs_with_salary.to_csv(\"../data/with_salaries/latam_cleaned_data_2023-10-31_with_salaries.csv\", index = False, sep = \",\")"
   ]
  },
  {
   "cell_type": "markdown",
   "id": "ca6d6ea2",
   "metadata": {},
   "source": [
    "### Limpieza"
   ]
  },
  {
   "cell_type": "code",
   "execution_count": null,
   "id": "1d70b0a8",
   "metadata": {},
   "outputs": [],
   "source": [
    "# Set up chatgpt model\n",
    "# My token\n",
    "\n",
    "with open(file = \"openai_key.txt\", mode = \"r\") as file:\n",
    "    os.environ['CHAT_GPT_API_KEY'] = file.read()\n",
    "\n",
    "from src.api import process_request\n",
    "\n",
    "NGRAMS = 5\n",
    "OVERLAP = 0.3"
   ]
  },
  {
   "cell_type": "code",
   "execution_count": null,
   "id": "f7dc6e23",
   "metadata": {},
   "outputs": [],
   "source": [
    "def create_job_rerun_id(row):\n",
    "    return \"rerun_\" + row.job_id"
   ]
  },
  {
   "cell_type": "code",
   "execution_count": null,
   "id": "e9911931",
   "metadata": {},
   "outputs": [],
   "source": [
    "EXPORT_NAME = \"spain_000\"\n",
    "HEADERS = [\"reduce_description\", \n",
    "           f\"salary_min_gpt_{VERSION_MODEL_0}\", \n",
    "           f\"salary_max_gpt_{VERSION_MODEL_0}\", \n",
    "           f\"currency_gpt_{VERSION_MODEL_0}\", \n",
    "           f\"time_lapse_gpt_{VERSION_MODEL_0}\"]\n",
    "\n",
    "# Para concatenar\n",
    "discarted_rows_list = list()"
   ]
  },
  {
   "cell_type": "code",
   "execution_count": null,
   "id": "e7f8080e",
   "metadata": {},
   "outputs": [],
   "source": [
    "processed_df = pd.read_csv(\"../data/with_salaries/spain_cleaned_data_2023-10-31_with_salaries.csv\")\n",
    "\n",
    "processed_df = processed_df.dropna(subset = \"job_id\")\n",
    "processed_df = processed_df.dropna(subset = \"description\")\n",
    "processed_df[\"description_normalized\"] = processed_df.description.apply(normalize_text)\n",
    "processed_df[\"description_normalized\"] = processed_df.description.apply(remove_punctuation)\n",
    "processed_df = processed_df.drop_duplicates(subset=[\"description_normalized\"])\n",
    "print(f\"Preprocessed jobs: \", processed_df.shape[0])\n",
    "\n",
    "OG_SIZE = processed_df.shape[0]"
   ]
  },
  {
   "cell_type": "code",
   "execution_count": null,
   "id": "b7c135ed",
   "metadata": {},
   "outputs": [],
   "source": [
    "processed_df[processed_df[F\"salary_min_gpt_{VERSION_MODEL_0}\"] != 0].shape"
   ]
  },
  {
   "cell_type": "code",
   "execution_count": null,
   "id": "6aabde3c",
   "metadata": {},
   "outputs": [],
   "source": [
    "INIT_PERCENTAJE_JOBS_WITH_SALARIES = processed_df[processed_df[f\"salary_min_gpt_{VERSION_MODEL_0}\"] != 0].shape[0] / processed_df.shape[0]"
   ]
  },
  {
   "cell_type": "code",
   "execution_count": null,
   "id": "93d40b67",
   "metadata": {},
   "outputs": [],
   "source": [
    "processed_df.columns"
   ]
  },
  {
   "cell_type": "code",
   "execution_count": null,
   "id": "1872c7bf",
   "metadata": {},
   "outputs": [],
   "source": [
    "processed_df[f\"currency_gpt_{VERSION_MODEL_0}\"].unique()"
   ]
  },
  {
   "cell_type": "markdown",
   "id": "bb463f81",
   "metadata": {},
   "source": [
    "#### El modelo entiende currency como una unidad de cantidad"
   ]
  },
  {
   "cell_type": "code",
   "execution_count": null,
   "id": "a637f620",
   "metadata": {},
   "outputs": [],
   "source": [
    "processed_df[processed_df[f\"currency_gpt_{VERSION_MODEL_0}\"] == \"UTC\"].head()[HEADERS]"
   ]
  },
  {
   "cell_type": "code",
   "execution_count": null,
   "id": "a9049269",
   "metadata": {},
   "outputs": [],
   "source": [
    "processed_df[processed_df[f\"currency_gpt_{VERSION_MODEL_0}\"] == \"REQ\"].head()[HEADERS]"
   ]
  },
  {
   "cell_type": "code",
   "execution_count": null,
   "id": "ad7fdc17",
   "metadata": {},
   "outputs": [],
   "source": [
    "processed_df[processed_df[f\"currency_gpt_{VERSION_MODEL_0}\"] == \"Percentage\"].head()[HEADERS]"
   ]
  },
  {
   "cell_type": "code",
   "execution_count": null,
   "id": "fe25d54b",
   "metadata": {},
   "outputs": [],
   "source": [
    "processed_df[processed_df[f\"currency_gpt_{VERSION_MODEL_0}\"] == \"Salarios mínimos\"].head()[HEADERS]"
   ]
  },
  {
   "cell_type": "code",
   "execution_count": null,
   "id": "af95d297",
   "metadata": {},
   "outputs": [],
   "source": [
    "processed_df[processed_df[f\"currency_gpt_{VERSION_MODEL_0}\"] == \"PLN\"].head()[HEADERS]"
   ]
  },
  {
   "cell_type": "code",
   "execution_count": null,
   "id": "935dee11",
   "metadata": {},
   "outputs": [],
   "source": [
    "processed_df[processed_df[f\"currency_gpt_{VERSION_MODEL_0}\"] == \"preferred\"].head()[HEADERS]"
   ]
  },
  {
   "cell_type": "code",
   "execution_count": null,
   "id": "2b145e16",
   "metadata": {},
   "outputs": [],
   "source": [
    "processed_df[processed_df[f\"currency_gpt_{VERSION_MODEL_0}\"] == \"Unknown\"].head()[HEADERS]"
   ]
  },
  {
   "cell_type": "markdown",
   "id": "84ee84ce",
   "metadata": {},
   "source": [
    "#### currencies"
   ]
  },
  {
   "cell_type": "code",
   "execution_count": null,
   "id": "0c1139c3",
   "metadata": {},
   "outputs": [],
   "source": [
    "# El primer filtro deberían ser con las currencies que representan dinero\n",
    "allowed_currencies = ['MXN', 'CLP', 'USD', 'COP', 'MVC', 'DOP', 'EUR', 'GTQ', 'CRC', 'KRW', 'SVC', 'HNL', 'UYU', 'PEN',\n",
    "                     'BRL', 'ARS', 'NTQ', 'HRS', 'QAR', 'GBP', 'PHP', 'CAD', 'JMD', 'BMD', 'MMK',\n",
    "                     'ZAR', 'NIO', 'PAB', 'PYG', 'MYR', 'PLN', 'AED', 'INR', 'CST', 'CHF', 'BOB']"
   ]
  },
  {
   "cell_type": "code",
   "execution_count": null,
   "id": "b904a3a0",
   "metadata": {},
   "outputs": [],
   "source": [
    "processed_df = processed_df[processed_df[f\"currency_gpt_{VERSION_MODEL_0}\"].isin(allowed_currencies)]\n",
    "\n",
    "print(processed_df.shape)"
   ]
  },
  {
   "cell_type": "code",
   "execution_count": null,
   "id": "dc162fcd",
   "metadata": {},
   "outputs": [],
   "source": [
    "def create_discarted_df(discarted_rows_list):\n",
    "    return pd.concat([pd.DataFrame(df) for df in discarted_rows_list])\n",
    "\n",
    "def get_discarted_sample(discarted_df, HEADERS):\n",
    "    return discarted_df[discarted_df[f\"salary_min_gpt_{VERSION_MODEL_0}\"] != 0].sample(n = 10)[HEADERS]"
   ]
  },
  {
   "cell_type": "code",
   "execution_count": null,
   "id": "b278a52e",
   "metadata": {},
   "outputs": [],
   "source": [
    "# Ejemplo para visualizar\n",
    "processed_df.sample(n = 0)[[\"reduce_description\", f\"salary_min_gpt_{VERSION_MODEL_0}\", f\"salary_max_gpt_{VERSION_MODEL_0}\", f\"currency_gpt_{VERSION_MODEL_0}\", f\"time_lapse_gpt_{VERSION_MODEL_0}\"]]"
   ]
  },
  {
   "cell_type": "markdown",
   "id": "394ec126",
   "metadata": {},
   "source": [
    "#### time_lapse"
   ]
  },
  {
   "cell_type": "code",
   "execution_count": null,
   "id": "faceae76",
   "metadata": {},
   "outputs": [],
   "source": [
    "# El segundo filtro sería time_lapse para reducir alguna incoherencia\n",
    "processed_df[f\"time_lapse_gpt_{VERSION_MODEL_0}\"].unique()"
   ]
  },
  {
   "cell_type": "code",
   "execution_count": null,
   "id": "81f568db",
   "metadata": {},
   "outputs": [],
   "source": [
    "valid_time_lapses = ['month','year', 'hour', 'annual']"
   ]
  },
  {
   "cell_type": "code",
   "execution_count": null,
   "id": "79d93b54",
   "metadata": {},
   "outputs": [],
   "source": [
    "discarted_rows_list.append(processed_df[~processed_df[f\"time_lapse_gpt_{VERSION_MODEL_0}\"].isin(valid_time_lapses)])\n",
    "\n",
    "processed_df = processed_df[processed_df[f\"time_lapse_gpt_{VERSION_MODEL_0}\"].isin(valid_time_lapses)]\n",
    "\n",
    "print(processed_df.shape)"
   ]
  },
  {
   "cell_type": "code",
   "execution_count": null,
   "id": "519787e8",
   "metadata": {},
   "outputs": [],
   "source": [
    "# Ejemplo para visualizar\n",
    "processed_df.sample(n = 10)[HEADERS]"
   ]
  },
  {
   "cell_type": "markdown",
   "id": "b0833733",
   "metadata": {},
   "source": [
    "#### General"
   ]
  },
  {
   "cell_type": "code",
   "execution_count": null,
   "id": "a6aad017",
   "metadata": {},
   "outputs": [],
   "source": [
    "processed_df = processed_df.astype({f\"salary_min_gpt_{VERSION_MODEL_0}\": \"float64\", f\"salary_max_gpt_{VERSION_MODEL_0}\":\"float64\"})"
   ]
  },
  {
   "cell_type": "code",
   "execution_count": null,
   "id": "939d0f01",
   "metadata": {},
   "outputs": [],
   "source": [
    "processed_df = processed_df[processed_df[f\"salary_min_gpt_{VERSION_MODEL_0}\"] > 0]\n",
    "\n",
    "print(processed_df.shape)"
   ]
  },
  {
   "cell_type": "code",
   "execution_count": null,
   "id": "b8fd613b",
   "metadata": {},
   "outputs": [],
   "source": [
    "# 40 o 45 horas a la semana\n",
    "for week_hours in [25, 40, 45]:\n",
    "    week_hours = processed_df[(processed_df[\"reduce_description\"].str.contains(f\"{week_hours} hours\"))&((processed_df[f\"salary_min_gpt_{VERSION_MODEL_0}\"] == week_hours)|(processed_df[f\"salary_max_gpt_{VERSION_MODEL_0}\"] == week_hours))]\n",
    "    processed_df = processed_df[~processed_df.job_id.isin(week_hours.job_id)]\n",
    "\n",
    "# años\n",
    "for age in range(50):\n",
    "    years_context = processed_df[(processed_df[\"reduce_description\"].str.contains(f\"{age} years\"))&((processed_df[f\"salary_min_gpt_{VERSION_MODEL_0}\"] == age)|(processed_df[f\"salary_max_gpt_{VERSION_MODEL_0}\"] == age))]\n",
    "    processed_df = processed_df[~processed_df.job_id.isin(years_context.job_id)]\n",
    "\n",
    "for age in range(5000):\n",
    "    years_context = processed_df[(processed_df[\"reduce_description\"].str.contains(f\"{age} fastest\"))&((processed_df[f\"salary_min_gpt_{VERSION_MODEL_0}\"] == age)|(processed_df[f\"salary_max_gpt_{VERSION_MODEL_0}\"] == age))]\n",
    "    processed_df = processed_df[~processed_df.job_id.isin(years_context.job_id)]"
   ]
  },
  {
   "cell_type": "markdown",
   "id": "25f7ae94",
   "metadata": {},
   "source": [
    "#### Números que representan ganancias u otras cosas"
   ]
  },
  {
   "cell_type": "code",
   "execution_count": null,
   "id": "932fdc97",
   "metadata": {},
   "outputs": [],
   "source": [
    "processed_df[processed_df[f\"salary_min_gpt_{VERSION_MODEL_0}\"] >= 1000000000].head()[HEADERS]"
   ]
  },
  {
   "cell_type": "code",
   "execution_count": null,
   "id": "f45ff4eb",
   "metadata": {},
   "outputs": [],
   "source": [
    "processed_df = processed_df[processed_df[f\"salary_min_gpt_{VERSION_MODEL_0}\"] < 1000000000]\n",
    "\n",
    "print(processed_df.shape)"
   ]
  },
  {
   "cell_type": "code",
   "execution_count": null,
   "id": "d0ae8993",
   "metadata": {},
   "outputs": [],
   "source": [
    "try:\n",
    "    processed_df[processed_df[f\"salary_min_gpt_{VERSION_MODEL_0}\"] >= 50000000].sample(n = 10)[HEADERS]\n",
    "    \n",
    "except:\n",
    "    pass"
   ]
  },
  {
   "cell_type": "code",
   "execution_count": null,
   "id": "99a5a618",
   "metadata": {},
   "outputs": [],
   "source": [
    "processed_df = processed_df[processed_df[f\"salary_min_gpt_{VERSION_MODEL_0}\"] < 50000000]\n",
    "\n",
    "print(processed_df.shape)"
   ]
  },
  {
   "cell_type": "code",
   "execution_count": null,
   "id": "a1ad8588",
   "metadata": {},
   "outputs": [],
   "source": [
    "processed_df = processed_df[processed_df[f\"salary_min_gpt_{VERSION_MODEL_0}\"] < 10000000]\n",
    "\n",
    "print(processed_df.shape)"
   ]
  },
  {
   "cell_type": "code",
   "execution_count": null,
   "id": "7a460b44",
   "metadata": {},
   "outputs": [],
   "source": [
    "# Ejemplo para visualizar\n",
    "processed_df.sample(n = 10)[HEADERS + [\"location\"]]"
   ]
  },
  {
   "cell_type": "markdown",
   "id": "a660e0f1",
   "metadata": {},
   "source": [
    "#### Filtros finales"
   ]
  },
  {
   "cell_type": "code",
   "execution_count": null,
   "id": "547aed7a",
   "metadata": {},
   "outputs": [],
   "source": [
    "# Si contiene \"osde 210\", \"osde 310\", \"osde 410\"\n",
    "osde_df = processed_df[(processed_df[\"reduce_description\"].str.contains(\"osde\")) & ((processed_df[f\"salary_min_gpt_{VERSION_MODEL_0}\"] == 310)|(processed_df[f\"salary_min_gpt_{VERSION_MODEL_0}\"] == 210)|(processed_df[f\"salary_min_gpt_{VERSION_MODEL_0}\"] == 410))]"
   ]
  },
  {
   "cell_type": "code",
   "execution_count": null,
   "id": "ca137595",
   "metadata": {},
   "outputs": [],
   "source": [
    "osde_df[HEADERS + [\"location\"]]"
   ]
  },
  {
   "cell_type": "code",
   "execution_count": null,
   "id": "aa1e8236",
   "metadata": {},
   "outputs": [],
   "source": [
    "processed_df = processed_df[~processed_df.job_id.isin(osde_df.job_id)]"
   ]
  },
  {
   "cell_type": "code",
   "execution_count": null,
   "id": "a3de59e7",
   "metadata": {},
   "outputs": [],
   "source": [
    "# Ejemplo para visualizar\n",
    "processed_df[processed_df[\"reduce_description\"].str.contains(\"osde\")][HEADERS + [\"location\"]]"
   ]
  },
  {
   "cell_type": "code",
   "execution_count": null,
   "id": "0a16270f",
   "metadata": {},
   "outputs": [],
   "source": [
    "exclude_jobs_id = processed_df[(processed_df[\"reduce_description\"].str.contains(\"6 months to months to 1 year\")) & (processed_df[f\"salary_min_gpt_{VERSION_MODEL_0}\"] == 6) & (processed_df[f\"salary_max_gpt_{VERSION_MODEL_0}\"] == 12)].job_id"
   ]
  },
  {
   "cell_type": "code",
   "execution_count": null,
   "id": "b9d425be",
   "metadata": {},
   "outputs": [],
   "source": [
    "exclude_jobs_list = list()\n",
    "\n",
    "for range_min, range_max in [(9, 18), (9, 5), (3, 5), (6, 1), (6, 12), (3, 4)]:\n",
    "    exclude_jobs_list.append(processed_df[(((processed_df[\"reduce_description\"].str.contains(str(range_min))) & (processed_df[\"reduce_description\"].str.contains(str(range_max))))\n",
    "                                           ) & (processed_df[f\"salary_min_gpt_{VERSION_MODEL_0}\"] == range_min) & (processed_df[f\"salary_max_gpt_{VERSION_MODEL_0}\"] == range_max)])"
   ]
  },
  {
   "cell_type": "code",
   "execution_count": null,
   "id": "cc68b11b",
   "metadata": {},
   "outputs": [],
   "source": [
    "# Añade todos los trabajos excluidos, OSDE y rango horario\n",
    "exclude_jobs_df = pd.concat(exclude_jobs_list)\n",
    "\n",
    "discarted_rows_list.append(exclude_jobs_list)"
   ]
  },
  {
   "cell_type": "code",
   "execution_count": null,
   "id": "26004150",
   "metadata": {},
   "outputs": [],
   "source": [
    "exclude_jobs_df[HEADERS+[\"location\"]]"
   ]
  },
  {
   "cell_type": "code",
   "execution_count": null,
   "id": "42058a7e",
   "metadata": {},
   "outputs": [],
   "source": [
    "processed_df = processed_df[~processed_df.job_id.isin(exclude_jobs_df.job_id)]"
   ]
  },
  {
   "cell_type": "markdown",
   "id": "ce863d5e",
   "metadata": {},
   "source": [
    "##### Salarios de 1$ mensual o anual"
   ]
  },
  {
   "cell_type": "code",
   "execution_count": null,
   "id": "133ecc3e",
   "metadata": {},
   "outputs": [],
   "source": [
    "try:\n",
    "    processed_df[(processed_df[f\"salary_min_gpt_{VERSION_MODEL_0}\"] <= 1) & (processed_df[f\"salary_min_gpt_{VERSION_MODEL_0}\"] != \"hour\")].sample(n = 10)[HEADERS+[\"location\"]]\n",
    "\n",
    "except:\n",
    "    pass"
   ]
  },
  {
   "cell_type": "code",
   "execution_count": null,
   "id": "1d0cc3b8",
   "metadata": {},
   "outputs": [],
   "source": [
    "exclude = processed_df[(processed_df[f\"salary_min_gpt_{VERSION_MODEL_0}\"] <= 1) & (processed_df[f\"time_lapse_gpt_{VERSION_MODEL_0}\"] != \"hour\")]"
   ]
  },
  {
   "cell_type": "code",
   "execution_count": null,
   "id": "123ccda7",
   "metadata": {},
   "outputs": [],
   "source": [
    "processed_df = processed_df[~processed_df.job_id.isin(exclude.job_id)]"
   ]
  },
  {
   "cell_type": "code",
   "execution_count": null,
   "id": "126158c0",
   "metadata": {},
   "outputs": [],
   "source": [
    "# Eliminamos salario mensual superior a 50K USD\n",
    "exclude = processed_df[(processed_df[f\"salary_min_gpt_{VERSION_MODEL_0}\"] > 50000) & (processed_df[f\"time_lapse_gpt_{VERSION_MODEL_0}\"] == \"month\") & ((processed_df[f\"currency_gpt_{VERSION_MODEL_0}\"] == \"USD\") | (processed_df[f\"currency_gpt_{VERSION_MODEL_0}\"] == \"CAD\") | (processed_df[f\"currency_gpt_{VERSION_MODEL_0}\"] == \"EUR\"))]\n",
    "\n",
    "discarted_rows_list.append(exclude)"
   ]
  },
  {
   "cell_type": "code",
   "execution_count": null,
   "id": "519caafa",
   "metadata": {},
   "outputs": [],
   "source": [
    "processed_df = processed_df[~processed_df.job_id.isin(exclude.job_id)]"
   ]
  },
  {
   "cell_type": "code",
   "execution_count": null,
   "id": "6e7b839b",
   "metadata": {},
   "outputs": [],
   "source": [
    "# Excluimos horas extra USD\n",
    "exclude = processed_df[(processed_df[f\"salary_min_gpt_{VERSION_MODEL_0}\"] > 200) & (processed_df[f\"time_lapse_gpt_{VERSION_MODEL_0}\"] == \"hour\") & ((processed_df[f\"currency_gpt_{VERSION_MODEL_0}\"] == \"USD\") | (processed_df[f\"currency_gpt_{VERSION_MODEL_0}\"] == \"CAD\") | (processed_df[f\"currency_gpt_{VERSION_MODEL_0}\"] == \"EUR\"))]\n",
    "\n",
    "discarted_rows_list.append(exclude)"
   ]
  },
  {
   "cell_type": "code",
   "execution_count": null,
   "id": "6e4abe9b",
   "metadata": {},
   "outputs": [],
   "source": [
    "discarted_row_df = create_discarted_df(discarted_rows_list = discarted_rows_list)"
   ]
  },
  {
   "cell_type": "code",
   "execution_count": null,
   "id": "35bc36e6",
   "metadata": {},
   "outputs": [],
   "source": [
    "discarted_row_df[pd.isna(discarted_row_df[f\"time_lapse_gpt_{VERSION_MODEL_0}\"])][HEADERS].sample(n = 10)"
   ]
  },
  {
   "cell_type": "code",
   "execution_count": null,
   "id": "7be001bd",
   "metadata": {},
   "outputs": [],
   "source": [
    "# Excluimos salarios muy bajos\n",
    "exclude = processed_df[(processed_df[f\"salary_min_gpt_{VERSION_MODEL_0}\"] < 500) & (processed_df[f\"time_lapse_gpt_{VERSION_MODEL_0}\"] == \"month\") & ((processed_df[f\"currency_gpt_{VERSION_MODEL_0}\"] == \"USD\") | (processed_df[f\"currency_gpt_{VERSION_MODEL_0}\"] == \"CAD\") | (processed_df[f\"currency_gpt_{VERSION_MODEL_0}\"] == \"EUR\"))]\n",
    "processed_df = processed_df[~processed_df.job_id.isin(exclude.job_id)]\n",
    "\n",
    "exclude = processed_df[(processed_df[f\"salary_min_gpt_{VERSION_MODEL_0}\"] < 10000) & (processed_df[f\"time_lapse_gpt_{VERSION_MODEL_0}\"] == \"year\") & ((processed_df[f\"currency_gpt_{VERSION_MODEL_0}\"] == \"USD\") | (processed_df[f\"currency_gpt_{VERSION_MODEL_0}\"] == \"CAD\") | (processed_df[f\"currency_gpt_{VERSION_MODEL_0}\"] == \"EUR\"))]\n",
    "processed_df = processed_df[~processed_df.job_id.isin(exclude.job_id)]\n",
    "\n",
    "exclude = processed_df[(processed_df[f\"salary_min_gpt_{VERSION_MODEL_0}\"] < 3) & (processed_df[f\"time_lapse_gpt_{VERSION_MODEL_0}\"] == \"hour\") & ((processed_df[f\"currency_gpt_{VERSION_MODEL_0}\"] == \"USD\") | (processed_df[f\"currency_gpt_{VERSION_MODEL_0}\"] == \"CAD\") | (processed_df[f\"currency_gpt_{VERSION_MODEL_0}\"] == \"EUR\"))]\n",
    "processed_df = processed_df[~processed_df.job_id.isin(exclude.job_id)]"
   ]
  },
  {
   "cell_type": "markdown",
   "id": "fffdc402",
   "metadata": {},
   "source": [
    "##### Mantenemos solo timelapses con NaN"
   ]
  },
  {
   "cell_type": "code",
   "execution_count": null,
   "id": "e70e72d0",
   "metadata": {},
   "outputs": [],
   "source": [
    "discarted_row_df = discarted_row_df[pd.isna(discarted_row_df[f\"time_lapse_gpt_{VERSION_MODEL_0}\"])]"
   ]
  },
  {
   "cell_type": "code",
   "execution_count": null,
   "id": "7ac720cd",
   "metadata": {},
   "outputs": [],
   "source": [
    "get_discarted_sample(discarted_df = discarted_row_df, HEADERS = HEADERS)"
   ]
  },
  {
   "cell_type": "code",
   "execution_count": null,
   "id": "7c6b9daf",
   "metadata": {},
   "outputs": [],
   "source": [
    "# Testeamos que puede recuperarse con la nueva versión del modelo\n",
    "reprocessed_records_list = list()\n",
    "\n",
    "discarted_row_df[\"location\"] = discarted_row_df[\"location\"].fillna(\" \")\n",
    "discarted_row_df= discarted_row_df.dropna(subset = \"job_id\")\n",
    "total_cost = 0\n",
    "\n",
    "for _, row in tqdm(discarted_row_df.iterrows(), total=discarted_row_df.shape[0]):\n",
    "    salary_output = process_request(description = row.description, location = row.location, jobid = create_job_rerun_id(row), ngrams = NGRAMS, overlap_limit = OVERLAP)\n",
    "\n",
    "    sent_tokens = salary_output[\"token_count_sent_chat_gpt\"]\n",
    "\n",
    "    cost = float(salary_output[\"cost\"])\n",
    "    total_cost += cost\n",
    "    orignal_description_tokens = len(row.description.split(\" \"))\n",
    "    reduce_description_len = len(salary_output[\"reduce_description\"].split(\" \"))\n",
    "    ratio_sent_original_description = reduce_description_len/orignal_description_tokens\n",
    "\n",
    "    reprocessed_records_list.append((row.job_id, salary_output[\"reduce_description\"], salary_output[\"min\"], salary_output[\"max\"], salary_output[\"currency\"], salary_output[\"time_lapse\"], salary_output[\"source\"], sent_tokens, orignal_description_tokens, ratio_sent_original_description, cost))\n",
    "\n",
    "print(f\"TOTAL COST OF REPROCESSING: {total_cost}\")"
   ]
  },
  {
   "cell_type": "code",
   "execution_count": null,
   "id": "49cf2db1",
   "metadata": {},
   "outputs": [],
   "source": [
    "reprocessed_records_list[0]"
   ]
  },
  {
   "cell_type": "code",
   "execution_count": null,
   "id": "e8161abf",
   "metadata": {},
   "outputs": [],
   "source": [
    "reprocessed_records_df = pd.DataFrame(reprocessed_records_list,\n",
    "                         columns=[\n",
    "                                    \"job_id\",\n",
    "                                    \"reduce_description\",\n",
    "                                    f\"salary_min_gpt_{VERSION_MODEL_0}\",\n",
    "                                    f\"salary_max_gpt_{VERSION_MODEL_0}\",\n",
    "                                    f\"currency_gpt_{VERSION_MODEL_0}\",\n",
    "                                    f\"time_lapse_gpt_{VERSION_MODEL_0}\",\n",
    "                                    f\"source_{VERSION_MODEL_0}\",\n",
    "                                    f\"token_count_sent_chat_gpt_{VERSION_MODEL_0}\",\n",
    "                                    \"token_count_original_description\",\n",
    "                                    \"token_rate_sent_original_description\",\n",
    "                                    f\"gpt_cost_{VERSION_MODEL_0}\"\n",
    "                                ]\n",
    "            )"
   ]
  },
  {
   "cell_type": "code",
   "execution_count": null,
   "id": "22e0f522",
   "metadata": {},
   "outputs": [],
   "source": [
    "get_discarted_sample(discarted_df = reprocessed_records_df, HEADERS = HEADERS)"
   ]
  },
  {
   "cell_type": "markdown",
   "id": "a8e1f607",
   "metadata": {},
   "source": [
    "#### Todos los filtros"
   ]
  },
  {
   "cell_type": "code",
   "execution_count": null,
   "id": "b63bcce4",
   "metadata": {},
   "outputs": [],
   "source": [
    "def filter_rows(processed_df):\n",
    "    \n",
    "    processed_df = processed_df[processed_df[f\"currency_gpt_{VERSION_MODEL_0}\"].isin(allowed_currencies)]\n",
    "\n",
    "    processed_df = processed_df[processed_df[f\"time_lapse_gpt_{VERSION_MODEL_0}\"].isin(valid_time_lapses)]\n",
    "\n",
    "    processed_df = processed_df.astype({f\"salary_min_gpt_{VERSION_MODEL_0}\": \"float64\", f\"salary_max_gpt_{VERSION_MODEL_0}\":\"float64\"})\n",
    "\n",
    "    processed_df = processed_df[processed_df[f\"salary_min_gpt_{VERSION_MODEL_0}\"]>0]\n",
    "\n",
    "    processed_df = processed_df[processed_df[f\"salary_min_gpt_{VERSION_MODEL_0}\"]>1]\n",
    "\n",
    "    processed_df = processed_df[processed_df[f\"salary_min_gpt_{VERSION_MODEL_0}\"]<1000000000]\n",
    "\n",
    "    processed_df = processed_df[processed_df[f\"salary_min_gpt_{VERSION_MODEL_0}\"]<50000000]\n",
    "\n",
    "    processed_df = processed_df[processed_df[f\"salary_min_gpt_{VERSION_MODEL_0}\"]<20000000]\n",
    "\n",
    "    processed_df = processed_df[processed_df[f\"salary_min_gpt_{VERSION_MODEL_0}\"]<10000000]\n",
    "\n",
    "    osde_df = processed_df[(processed_df[\"reduce_description\"].str.contains(\"osde\"))&((processed_df[f\"salary_min_gpt_{VERSION_MODEL_0}\"]==310)|(processed_df[f\"salary_min_gpt_{VERSION_MODEL_0}\"]==210)|(processed_df[f\"salary_min_gpt_{VERSION_MODEL_0}\"]==410))]\n",
    "\n",
    "\n",
    "    processed_df = processed_df[~processed_df.job_id.isin(osde_df.job_id)]\n",
    "\n",
    "    for range_min, range_max in [(9, 18), (9, 5), (3, 5), (6, 1), (6, 12), (3, 4)]:\n",
    "        exclude_jobs_list.append(processed_df[(((processed_df[\"reduce_description\"].str.contains(str(range_min)))&(processed_df[\"reduce_description\"].str.contains(str(range_max))))\n",
    "                                            )&(processed_df[f\"salary_min_gpt_{VERSION_MODEL_0}\"]==range_min)&(processed_df[f\"salary_max_gpt_{VERSION_MODEL_0}\"]==range_max)])\n",
    "    exclude_jobs_df = pd.concat(exclude_jobs_list)\n",
    "\n",
    "    processed_df = processed_df[~processed_df.job_id.isin(exclude_jobs_df.job_id)]\n",
    "\n",
    "    exclude_jobs_df = processed_df[(processed_df[f\"salary_min_gpt_{VERSION_MODEL_0}\"]<=1)&(processed_df[f\"time_lapse_gpt_{VERSION_MODEL_0}\"]!=\"hour\")]\n",
    "    processed_df = processed_df[~processed_df.job_id.isin(exclude_jobs_df.job_id)]\n",
    "\n",
    "    exclude_jobs_df = processed_df[(processed_df[f\"salary_min_gpt_{VERSION_MODEL_0}\"]>50000)&(processed_df[f\"time_lapse_gpt_{VERSION_MODEL_0}\"]==\"month\")&(processed_df[f\"currency_gpt_{VERSION_MODEL_0}\"]==\"USD\")]\n",
    "    processed_df = processed_df[~processed_df.job_id.isin(exclude_jobs_df.job_id)]\n",
    "\n",
    "    exclude_jobs_df = processed_df[(processed_df[f\"salary_min_gpt_{VERSION_MODEL_0}\"]>200)&(processed_df[f\"time_lapse_gpt_{VERSION_MODEL_0}\"]==\"hour\")&(processed_df[f\"currency_gpt_{VERSION_MODEL_0}\"]==\"USD\")]\n",
    "    processed_df = processed_df[~processed_df.job_id.isin(exclude_jobs_df.job_id)]\n",
    "\n",
    "    # Demasiado bajo para ser un salario\n",
    "    exclude_jobs_df = processed_df[(processed_df[f\"salary_min_gpt_{VERSION_MODEL_0}\"]<2000)&(processed_df[f\"time_lapse_gpt_{VERSION_MODEL_0}\"]==\"hour\")&(processed_df[f\"currency_gpt_{VERSION_MODEL_0}\"]==\"USD\")]\n",
    "    processed_df = processed_df[~processed_df.job_id.isin(exclude_jobs_df.job_id)]\n",
    "\n",
    "    exclude = processed_df[(processed_df[f\"salary_min_gpt_{VERSION_MODEL_0}\"]<500)&(processed_df[f\"time_lapse_gpt_{VERSION_MODEL_0}\"]==\"month\")&((processed_df[f\"currency_gpt_{VERSION_MODEL_0}\"]==\"USD\")|(processed_df[f\"currency_gpt_{VERSION_MODEL_0}\"]==\"CAD\")|(processed_df[f\"currency_gpt_{VERSION_MODEL_0}\"]==\"EUR\"))]\n",
    "    processed_df = processed_df[~processed_df.job_id.isin(exclude.job_id)]\n",
    "\n",
    "    exclude = processed_df[(processed_df[f\"salary_min_gpt_{VERSION_MODEL_0}\"]<10000)&(processed_df[f\"time_lapse_gpt_{VERSION_MODEL_0}\"]==\"year\")&((processed_df[f\"currency_gpt_{VERSION_MODEL_0}\"]==\"USD\")|(processed_df[f\"currency_gpt_{VERSION_MODEL_0}\"]==\"CAD\")|(processed_df[f\"currency_gpt_{VERSION_MODEL_0}\"]==\"EUR\"))]\n",
    "    processed_df = processed_df[~processed_df.job_id.isin(exclude.job_id)]\n",
    "\n",
    "    exclude = processed_df[(processed_df[f\"salary_min_gpt_{VERSION_MODEL_0}\"]<3)&(processed_df[f\"time_lapse_gpt_{VERSION_MODEL_0}\"]==\"hour\")&((processed_df[f\"currency_gpt_{VERSION_MODEL_0}\"]==\"USD\")|(processed_df[f\"currency_gpt_{VERSION_MODEL_0}\"]==\"CAD\")|(processed_df[f\"currency_gpt_{VERSION_MODEL_0}\"]==\"EUR\"))]\n",
    "    processed_df = processed_df[~processed_df.job_id.isin(exclude.job_id)]\n",
    "\n",
    "    # 40 o 45 horas a la semana\n",
    "    for week_hours in [25, 40, 45]:\n",
    "        week_hours = processed_df[(processed_df[\"reduce_description\"].str.contains(f\"{week_hours} hours\"))&((processed_df[f\"salary_min_gpt_{VERSION_MODEL_0}\"]==week_hours)|(processed_df[f\"salary_max_gpt_{VERSION_MODEL_0}\"]==week_hours))]\n",
    "        processed_df = processed_df[~processed_df.job_id.isin(week_hours.job_id)]\n",
    "\n",
    "    # años\n",
    "    for age in range(50):\n",
    "        years_context = processed_df[(processed_df[\"reduce_description\"].str.contains(f\"{age} years\"))&((processed_df[f\"salary_min_gpt_{VERSION_MODEL_0}\"]==age)|(processed_df[f\"salary_max_gpt_{VERSION_MODEL_0}\"]==age))]\n",
    "        processed_df = processed_df[~processed_df.job_id.isin(years_context.job_id)]\n",
    "\n",
    "    for age in range(5000):\n",
    "        years_context = processed_df[(processed_df[\"reduce_description\"].str.contains(f\"{age} fastest\"))&((processed_df[f\"salary_min_gpt_{VERSION_MODEL_0}\"]==age)|(processed_df[f\"salary_max_gpt_{VERSION_MODEL_0}\"]==age))]\n",
    "        processed_df = processed_df[~processed_df.job_id.isin(years_context.job_id)]\n",
    "\n",
    "    return processed_df"
   ]
  },
  {
   "cell_type": "code",
   "execution_count": null,
   "id": "f980b117",
   "metadata": {},
   "outputs": [],
   "source": [
    "filtered_reprocessed_records_df = filter_rows(reprocessed_records_df)\n",
    "processed_df = filter_rows(processed_df)"
   ]
  },
  {
   "cell_type": "code",
   "execution_count": null,
   "id": "2977ce85",
   "metadata": {},
   "outputs": [],
   "source": [
    "try:\n",
    "    get_discarted_sample(discarted_df = filtered_reprocessed_records_df, HEADERS = HEADERS)\n",
    "\n",
    "except:\n",
    "    pass"
   ]
  },
  {
   "cell_type": "code",
   "execution_count": null,
   "id": "8f46005b",
   "metadata": {},
   "outputs": [],
   "source": [
    "processed_df = processed_df[processed_df[f\"salary_min_gpt_{VERSION_MODEL_0}\"] <= processed_df[f\"salary_max_gpt_{VERSION_MODEL_0}\"]]\n",
    "filtered_reprocessed_records_df = filtered_reprocessed_records_df[filtered_reprocessed_records_df[f\"salary_min_gpt_{VERSION_MODEL_0}\"] <= filtered_reprocessed_records_df[f\"salary_max_gpt_{VERSION_MODEL_0}\"]]"
   ]
  },
  {
   "cell_type": "code",
   "execution_count": null,
   "id": "711cb3c3",
   "metadata": {},
   "outputs": [],
   "source": [
    "preprocessed_count = processed_df.shape[0]\n",
    "rescued_count = filtered_reprocessed_records_df.shape[0]\n",
    "\n",
    "print(f\"Preprocessed: {preprocessed_count}\")\n",
    "print(f\"Rescued: {rescued_count}\")\n",
    "print(f\"% recovered: {rescued_count/preprocessed_count}\")\n",
    "print(f\"Salary %: {preprocessed_count/OG_SIZE}\")\n",
    "print(f\"Salary % with recovered: {(preprocessed_count+rescued_count)/OG_SIZE}\")"
   ]
  },
  {
   "cell_type": "code",
   "execution_count": null,
   "id": "db9aae18",
   "metadata": {},
   "outputs": [],
   "source": [
    "# Lo unimos al dataframe previamente preprocesado\n",
    "processed_df = pd.concat([processed_df, filtered_reprocessed_records_df])"
   ]
  },
  {
   "cell_type": "code",
   "execution_count": null,
   "id": "47ed01f2",
   "metadata": {},
   "outputs": [],
   "source": [
    "get_discarted_sample(discarted_df = processed_df, HEADERS = HEADERS)"
   ]
  },
  {
   "cell_type": "code",
   "execution_count": null,
   "id": "68f04c8b",
   "metadata": {},
   "outputs": [],
   "source": [
    "processed_df.to_csv(\"../data/with_salaries/spain_cleaned_data_2023-10-31_with_salaries.csv\", index = False, sep = \",\")"
   ]
  },
  {
   "cell_type": "code",
   "execution_count": null,
   "id": "107988cf",
   "metadata": {},
   "outputs": [],
   "source": [
    "################################################################################################################################"
   ]
  }
 ],
 "metadata": {
  "kernelspec": {
   "display_name": "tf",
   "language": "python",
   "name": "tf"
  },
  "language_info": {
   "codemirror_mode": {
    "name": "ipython",
    "version": 3
   },
   "file_extension": ".py",
   "mimetype": "text/x-python",
   "name": "python",
   "nbconvert_exporter": "python",
   "pygments_lexer": "ipython3",
   "version": "3.9.17"
  }
 },
 "nbformat": 4,
 "nbformat_minor": 5
}
