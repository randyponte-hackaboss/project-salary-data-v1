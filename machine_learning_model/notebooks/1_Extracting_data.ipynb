{
 "cells": [
  {
   "cell_type": "code",
   "execution_count": null,
   "metadata": {},
   "outputs": [],
   "source": [
    "import requests\n",
    "import pandas as pd\n",
    "import os\n",
    "from tqdm.auto import tqdm\n",
    "import json\n",
    "import math"
   ]
  },
  {
   "cell_type": "code",
   "execution_count": null,
   "metadata": {},
   "outputs": [],
   "source": [
    "SOURCE_BASE_DIR = \"./datasets\"\n",
    "EVALUATION_BASE_DIR = SOURCE_BASE_DIR+os.sep+\"/evaluation\"\n",
    "VERSION_MODEL = \"0.8.0\"\n",
    "VERSION_DATA = \"_001\"\n",
    "FILE_NAME = f\"latam{VERSION_DATA}.csv\"\n",
    "FILE_PATH = SOURCE_BASE_DIR+os.sep+FILE_NAME"
   ]
  },
  {
   "cell_type": "code",
   "execution_count": null,
   "metadata": {},
   "outputs": [],
   "source": [
    "# use the same sample\n",
    "jobs_df = pd.read_csv(FILE_PATH)\n",
    "jobs_df = jobs_df.drop_duplicates(subset=[\"description\", \"salary_min_form\", \"salary_max_form\", \"currency_form\", \"time_lapse_form\"])"
   ]
  },
  {
   "cell_type": "code",
   "execution_count": null,
   "metadata": {},
   "outputs": [],
   "source": [
    "jobs_df.shape"
   ]
  },
  {
   "cell_type": "code",
   "execution_count": null,
   "metadata": {},
   "outputs": [],
   "source": [
    "jobs_df.groupby(by=[\"country\"]).size().sort_values(ascending=False)"
   ]
  },
  {
   "cell_type": "code",
   "execution_count": null,
   "metadata": {},
   "outputs": [],
   "source": [
    "def extract_salary(description, job_id):\n",
    "    response = requests.post('http://localhost:3000/predict', data=json.dumps({\"description\": description, \"jobid\":job_id}), headers={\"Content-Type\": \"application/json\"})\n",
    "\n",
    "    if response.status_code == 200:\n",
    "        return response.json()\n",
    "    \n",
    "    return {'max': 0, 'min': 0, 'error_status_code': response.status_code}"
   ]
  },
  {
   "cell_type": "code",
   "execution_count": null,
   "metadata": {},
   "outputs": [],
   "source": [
    "salary_info = []\n",
    "total_tokens = 0\n",
    "accumulate_cost = 0\n",
    "progress_steps = math.ceil(jobs_df.shape[0]*0.15)\n",
    "\n",
    "for index, row in tqdm(jobs_df.iterrows(), total=jobs_df.shape[0]):\n",
    "    try:\n",
    "        salary_output = extract_salary(row.description, row.job_id)\n",
    "        sent_tokens = salary_output[\"token_count_sent_chat_gpt\"]\n",
    "        total_tokens += sent_tokens\n",
    "\n",
    "        cost = float(salary_output[\"cost\"])\n",
    "        accumulate_cost += cost\n",
    "\n",
    "        orignal_description_tokens = len(row.description.split(\" \"))\n",
    "        reduce_description_len = len(salary_output[\"reduce_description\"].split(\" \"))\n",
    "        ratio_sent_original_description = reduce_description_len/orignal_description_tokens\n",
    "\n",
    "        salary_info.append((row.job_id, salary_output[\"reduce_description\"], salary_output[\"min\"], salary_output[\"max\"], salary_output[\"currency\"], salary_output[\"time_lapse\"], salary_output[\"source\"], sent_tokens, orignal_description_tokens, ratio_sent_original_description, cost))\n",
    "\n",
    "        if (index%progress_steps)==0:\n",
    "            print(f\"[output salary: {salary_output}]\")\n",
    "            print(\"[------- Full Description -------]\")\n",
    "            print(row.description)\n",
    "            print(\"[------- Reduce description -------]\")\n",
    "            print(salary_output[\"reduce_description\"])\n",
    "            print(f\"==== Tokens sent for this JD:{sent_tokens} - Total sent tokens: {total_tokens} - tokens in complete description:{orignal_description_tokens} = Ratio sent/original description so far:{ratio_sent_original_description} | Cost for this JD:{cost} - Total cost so far: {accumulate_cost} ====\")\n",
    "\n",
    "    except Exception as e:\n",
    "        print(f\"error: {e}\")\n",
    "\n",
    "print(f\"estimated_cost: {accumulate_cost} per: {jobs_df.shape[0]} jobs description | Total sent tokens: {total_tokens}\")"
   ]
  },
  {
   "cell_type": "code",
   "execution_count": null,
   "metadata": {},
   "outputs": [],
   "source": [
    "salary_df = pd.DataFrame(salary_info,\n",
    "                         columns=[\n",
    "                                    \"job_id\",\n",
    "                                    \"reduce_description\",\n",
    "                                    f\"salary_min_gpt_{VERSION_MODEL}\",\n",
    "                                    f\"salary_max_gpt_{VERSION_MODEL}\",\n",
    "                                    f\"currency_gpt_{VERSION_MODEL}\",\n",
    "                                    f\"time_lapse_gpt_{VERSION_MODEL}\",\n",
    "                                    f\"source_{VERSION_MODEL}\",\n",
    "                                    f\"token_count_sent_chat_gpt_{VERSION_MODEL}\",\n",
    "                                    \"token_count_original_description\",\n",
    "                                    \"token_rate_sent_original_description\",\n",
    "                                    f\"gpt_cost_{VERSION_MODEL}\"\n",
    "                                ]\n",
    "            )"
   ]
  },
  {
   "cell_type": "code",
   "execution_count": null,
   "metadata": {},
   "outputs": [],
   "source": [
    "salary_df.sample(n=10)"
   ]
  },
  {
   "cell_type": "markdown",
   "metadata": {},
   "source": [
    "# Add missing fields"
   ]
  },
  {
   "cell_type": "code",
   "execution_count": null,
   "metadata": {},
   "outputs": [],
   "source": [
    "jobs_with_salary = pd.merge(jobs_df, salary_df, on=\"job_id\", how=\"left\")"
   ]
  },
  {
   "cell_type": "markdown",
   "metadata": {},
   "source": [
    "# How many jobs with salary did we got"
   ]
  },
  {
   "cell_type": "code",
   "execution_count": null,
   "metadata": {},
   "outputs": [],
   "source": [
    "all_jobs_count = jobs_with_salary.shape[0]\n",
    "jobs_with_salary_count = jobs_with_salary[jobs_with_salary[f\"salary_min_gpt_{VERSION_MODEL}\"]>0].shape[0]\n",
    "\n",
    "print(f\"Salary jobs count: {all_jobs_count} | {jobs_with_salary_count} - jobs with salary {round(jobs_with_salary_count/all_jobs_count, 3)}%\")"
   ]
  },
  {
   "cell_type": "code",
   "execution_count": null,
   "metadata": {},
   "outputs": [],
   "source": [
    "# Total rows\n",
    "all_jobs_by_country = jobs_df.groupby(by=[\"country\"]).size().sort_values(ascending=False).reset_index(name=\"count_all\")\n",
    "\n",
    "all_jobs_by_country"
   ]
  },
  {
   "cell_type": "code",
   "execution_count": null,
   "metadata": {},
   "outputs": [],
   "source": [
    "#By country\n",
    "salary_count_by_country_df = jobs_with_salary[jobs_with_salary[f\"salary_min_gpt_{VERSION_MODEL}\"]>0].groupby(by=[\"country\"]).size().sort_values(ascending=False).reset_index(name=\"count_with_salary\")"
   ]
  },
  {
   "cell_type": "code",
   "execution_count": null,
   "metadata": {},
   "outputs": [],
   "source": [
    "salary_count_by_country_df"
   ]
  },
  {
   "cell_type": "code",
   "execution_count": null,
   "metadata": {},
   "outputs": [],
   "source": [
    "all_jobs_count_df = pd.merge(salary_count_by_country_df, all_jobs_by_country, on=\"country\", how=\"left\")"
   ]
  },
  {
   "cell_type": "code",
   "execution_count": null,
   "metadata": {},
   "outputs": [],
   "source": [
    "all_jobs_count_df[\"%\"] = all_jobs_count_df.apply(lambda row: round(row[\"count_with_salary\"]/row[\"count_all\"], 2), axis=1)"
   ]
  },
  {
   "cell_type": "code",
   "execution_count": null,
   "metadata": {},
   "outputs": [],
   "source": [
    "all_jobs_count_df.sort_values(by=\"%\", ascending=False)"
   ]
  },
  {
   "cell_type": "code",
   "execution_count": null,
   "metadata": {},
   "outputs": [],
   "source": [
    "jobs_with_salary.to_csv(EVALUATION_BASE_DIR+os.sep+f\"jobs_with_salaries_v_{VERSION_MODEL}_val_set_v_{VERSION_DATA}.csv\")"
   ]
  }
 ],
 "metadata": {
  "kernelspec": {
   "display_name": "Python 3 (ipykernel)",
   "language": "python",
   "name": "python3"
  },
  "language_info": {
   "codemirror_mode": {
    "name": "ipython",
    "version": 3
   },
   "file_extension": ".py",
   "mimetype": "text/x-python",
   "name": "python",
   "nbconvert_exporter": "python",
   "pygments_lexer": "ipython3",
   "version": "3.11.3"
  }
 },
 "nbformat": 4,
 "nbformat_minor": 2
}
