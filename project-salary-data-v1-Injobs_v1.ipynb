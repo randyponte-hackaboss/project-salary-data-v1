{
 "cells": [
  {
   "cell_type": "markdown",
   "id": "44a9587c",
   "metadata": {},
   "source": [
    "## __Bot que extrae datos de Airtable y busca en Infojobs__"
   ]
  },
  {
   "cell_type": "markdown",
   "id": "070cb7d4",
   "metadata": {},
   "source": [
    "1. Buscar datos roles en tabla de Airtable"
   ]
  },
  {
   "cell_type": "code",
   "execution_count": 1,
   "id": "be57c899",
   "metadata": {},
   "outputs": [
    {
     "name": "stdout",
     "output_type": "stream",
     "text": [
      "El salario mínimo es: 22.500€\n",
      "El salario máximo es: 56.000€\n",
      "El salario promedio es: 33.000€\n",
      "El salario mínimo es: 16.500€\n",
      "El salario máximo es: 39.000€\n",
      "El salario promedio es: 25.500€\n",
      "El salario mínimo es: 6.000€\n",
      "El salario máximo es: 27.350€\n",
      "El salario promedio es: 18.000€\n",
      "El salario mínimo es: 19.500€\n",
      "El salario máximo es: 51.250€\n",
      "El salario promedio es: 30.000€\n",
      "El salario mínimo es: 15.600€\n",
      "El salario máximo es: 56.600€\n",
      "El salario promedio es: 33.500€\n"
     ]
    }
   ],
   "source": [
    "import time\n",
    "import requests\n",
    "from selenium import webdriver\n",
    "from selenium.webdriver.chrome.service import Service\n",
    "from webdriver_manager.chrome import ChromeDriverManager\n",
    "from selenium.webdriver.common.keys import Keys\n",
    "from selenium.webdriver.common.by import By\n",
    "\n",
    "##Constants\n",
    "url_infojobs = \"https://salarios.infojobs.net\"\n",
    "\n",
    "##Constants from Roles Table\n",
    "API_KEY = 'keyA2EaieuyxoDxAX'\n",
    "ENDPOINT = 'https://api.airtable.com/v0/appCvdylY2cao6SmM/roles_table?api_key=keyA2EaieuyxoDxAX'\n",
    "AIRTABLE_BASE_ID = 'appCvdylY2cao6SmM'\n",
    "TABLE_NAME = 'roles_table'\n",
    "ROL_SELECTION = 'fldX9Rtp8mrDaTrh6'\n",
    "TABLE_ID = 'tbl869H8uRKZFrWQv'\n",
    "RECORD_ID = 'recX8yHOzKyPIqoXg'\n",
    "\n",
    "#Variables\n",
    "s = []\n",
    "\n",
    "##Automation open Chrome\n",
    "driver = webdriver.Chrome(service=Service(ChromeDriverManager().install()))\n",
    "\n",
    "##Response from Airtable\n",
    "response = f'https://api.airtable.com/v0/{AIRTABLE_BASE_ID}/{TABLE_ID}?api_key={API_KEY}'\n",
    "request = requests.get(response)\n",
    "\n",
    "##Filter by Rol-Selection  \n",
    "request_list = [r[\"fields\"][\"Rol_Selection\"] for r in request.json()[\"records\"]]\n",
    "for r in request_list:\n",
    "    url_infojobs_profession_region = f'{url_infojobs}/{r}/barcelona'\n",
    "    driver.get(url_infojobs_profession_region)\n",
    "    avgr_salary = driver.find_element(By.ID,\"avgred\").text\n",
    "    min_salary = driver.find_element(By.ID,\"min\").text\n",
    "    max_salary = driver.find_element(By.ID,\"max\").text\n",
    "    #n_salary = driver.find_element(By.ID,\"avgred\").text\n",
    "    print(\"El salario mínimo es: \" + min_salary)\n",
    "    print(\"El salario máximo es: \" + max_salary)\n",
    "    print(\"El salario promedio es: \" + avgr_salary)\n",
    "     \n",
    "    \n",
    "    \n",
    "    time.sleep(5)\n",
    "    \n"
   ]
  },
  {
   "cell_type": "code",
   "execution_count": null,
   "id": "3f8a1e65",
   "metadata": {},
   "outputs": [],
   "source": []
  }
 ],
 "metadata": {
  "kernelspec": {
   "display_name": "Python 3 (ipykernel)",
   "language": "python",
   "name": "python3"
  },
  "language_info": {
   "codemirror_mode": {
    "name": "ipython",
    "version": 3
   },
   "file_extension": ".py",
   "mimetype": "text/x-python",
   "name": "python",
   "nbconvert_exporter": "python",
   "pygments_lexer": "ipython3",
   "version": "3.9.12"
  }
 },
 "nbformat": 4,
 "nbformat_minor": 5
}
