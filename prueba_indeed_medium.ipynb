{
 "cells": [
  {
   "cell_type": "code",
   "execution_count": 1,
   "id": "a7ee2811",
   "metadata": {},
   "outputs": [],
   "source": [
    "from bs4 import BeautifulSoup\n",
    "import pandas as pd\n",
    "import requests\n",
    "import os\n",
    "import argparse\n",
    "from tqdm import tqdm"
   ]
  },
  {
   "cell_type": "code",
   "execution_count": 8,
   "id": "1d161b5e",
   "metadata": {},
   "outputs": [],
   "source": [
    "headers = {\"user-agent\"      : \"Mozilla/5.0 (Windows NT 10.0; Win64; x64) AppleWebKit/537.36 (KHTML, like Gecko) Chrome/72.0.3626.121 Safari/537.36\",\n",
    "           \"accept\"          : \"text/html,application/xhtml+xml,application/xml;q=0.9,image/webp,image/apng,*/*;q=0.8\",\n",
    "           \"referer\"         : \"https://play.google.com/store/apps\",\n",
    "           \"accept-language\" : \"en-US,en;q=0.9,\",\n",
    "           \"cookie\"          : \"prov=6bb44cc9-dfe4-1b95-a65d-5250b3b4c9fb; _ga=GA1.2.1363624981.1550767314; __qca=P0-1074700243-1550767314392; notice-ctt=4%3B1550784035760; _gid=GA1.2.1415061800.1552935051; acct=t=4CnQ70qSwPMzOe6jigQlAR28TSW%2fMxzx&s=32zlYt1%2b3TBwWVaCHxH%2bl5aDhLjmq4Xr\"}\n",
    "\n",
    "def get_job_urls(URL: str) -> list:\n",
    "    \"\"\"\n",
    "    Extracts job urls from the search result page given by URL\n",
    "    \"\"\"\n",
    "    res = requests.get(URL, headers = headers).content\n",
    "    \n",
    "    print(res)\n",
    "    \n",
    "    soup = BeautifulSoup(res, \"html.parser\")\n",
    "    \n",
    "    job_urls = [a[\"href\"] for a in soup.find_all(\"a\", {\"id\": lambda x: x and x.startswith(\"job_\")})]\n",
    "    \n",
    "    return job_urls"
   ]
  },
  {
   "cell_type": "code",
   "execution_count": null,
   "id": "e4013fa9",
   "metadata": {},
   "outputs": [],
   "source": [
    "title = soup.find('h1').text"
   ]
  },
  {
   "cell_type": "code",
   "execution_count": null,
   "id": "abe9af85",
   "metadata": {},
   "outputs": [],
   "source": [
    "job_info = job_info_main.find(\"div\", {\"class\": lambda x : x and x.startswith(\"jobsearch-CompanyInfoWithoutHeaderImage\")}"
   ]
  },
  {
   "cell_type": "code",
   "execution_count": 4,
   "id": "4ae3cf8b",
   "metadata": {},
   "outputs": [],
   "source": [
    "def get_job_info(job_url: str) -> tuple:\n",
    "    \n",
    "    \"\"\"\n",
    "    Extracts job info from the job URL\n",
    "    \"\"\"\n",
    "    \n",
    "    job_url = f\"https://www.indeed.com{job_url}\"\n",
    "    \n",
    "    res = requests.get(job_url, headers = headers).content\n",
    "    \n",
    "    soup = BeautifulSoup(res, \"html.parser\")\n",
    "    \n",
    "    title = soup.find(\"h1\").text\n",
    "    \n",
    "    job_info_main = soup.find(\"div\", {\"class\" : lambda x : x and x.startswith(\"jobsearch\")})\n",
    "    \n",
    "    job_info = job_info_main.find(\"div\", {\"class\" : lambda x : x and x.startswith(\"jobsearch-CompanyInfoWithoutHeaderImage\")})\n",
    "    \n",
    "    company = job_info.find(\"div\", {\"class\" : lambda x : x and x.startswith(\"icl-u\")}).text\n",
    "    \n",
    "    job = job_info.find_all(\"div\", {\"class\" : None})\n",
    "    \n",
    "    location = [i.text for i in job][-1]\n",
    "    \n",
    "    try:\n",
    "        salary_emp, salary_est = [li.text for li in job_info_main.find(\"ul\", {\"class\" : lambda x : x and x.startswith(\"css-1lyr5hv\")}).find_all(\"li\")]\n",
    "    \n",
    "    except AttributeError:\n",
    "        salary_emp, salary_est = \"\", \"\"\n",
    "        \n",
    "    job_description = job_info_main.find(\"div\", {\"id\" : \"jobDescriptionText\"})\n",
    "    \n",
    "    description = [d.text.lstrip() for d in job_description.find_all([\"p\", \"div\"])]\n",
    "    \n",
    "    description = \" \".join(description)\n",
    "    \n",
    "    return title, company, location, salary_emp, salary_est, description"
   ]
  },
  {
   "cell_type": "code",
   "execution_count": 9,
   "id": "35f6b41a",
   "metadata": {},
   "outputs": [
    {
     "name": "stdout",
     "output_type": "stream",
     "text": [
      "b'<!DOCTYPE html>\\n<html lang=\"en-US\">\\n<head>\\n    <title>Just a moment...</title>\\n    <meta http-equiv=\"Content-Type\" content=\"text/html; charset=UTF-8\">\\n    <meta http-equiv=\"X-UA-Compatible\" content=\"IE=Edge\">\\n    <meta name=\"robots\" content=\"noindex,nofollow\">\\n    <meta name=\"viewport\" content=\"width=device-width,initial-scale=1\">\\n    <link href=\"/cdn-cgi/styles/challenges.css\" rel=\"stylesheet\">\\n    \\n\\n</head>\\n<body class=\"no-js\">\\n    <div class=\"main-wrapper\" role=\"main\">\\n    <div class=\"main-content\">\\n        <noscript>\\n            <div id=\"challenge-error-title\">\\n                <div class=\"h2\">\\n                    <span class=\"icon-wrapper\">\\n                        <div class=\"heading-icon warning-icon\"></div>\\n                    </span>\\n                    <span id=\"challenge-error-text\">\\n                        Enable JavaScript and cookies to continue\\n                    </span>\\n                </div>\\n            </div>\\n        </noscript>\\n        <div id=\"trk_jschal_js\" style=\"display:none;background-image:url(\\'/cdn-cgi/images/trace/managed/nojs/transparent.gif?ray=7dad5856eb12d67d\\')\"></div>\\n        <form id=\"challenge-form\" action=\"/jobs?q=data+scientist&amp;l=&amp;vjk=4517b451dab574bc&amp;__cf_chl_f_tk=rtrf3JBzqya4lYeB07XQRTdsJvxowLPG1Jq4qgci0jE-1687361974-0-gaNycGzNDKU\" method=\"POST\" enctype=\"application/x-www-form-urlencoded\">\\n            <input type=\"hidden\" name=\"md\" value=\"ebFzt7_NQu86t55v1VYqcI3ODE5ZhCVT_TS3ru3KSQ0-1687361974-0-Af-wIAZ1SAbIhoGhAy62Wwaycz7PcuyiF2g1MzssIPJ0BhUNUrLg4f_DcsK6EzXBesphaP1ygfnaWxkWXdi7eb1ghSHWxErpN0YI8WwxZJJetS2NrG5IrkHm-9fPFhtm983q5ue0tV_8kpr9TPCC_a-pVpcgRwsZn_mh0M-eymG-BapR3Np-I7XJ6HapqTXsaEAc6DfDlEEaCGbEpW2JEJCqNxDfGYrDVmzwQ06yyQaN6mUQHU-1V9R65skYn_sn33QKuzmTBPHHgxG98DKWGUHqJkHPdczd4ElQjVq7pcwy48ZQLBAVfus2DVPrn8eYQv6chM8jpicQChDxkV5cK3hhJwVqhTF219CTYDlDgt85DPaGJamNcWCRtRCWVTUkJqx2gOBu_Oc5oDOa6oQZMVE3WhRSJHTyAEN6a1VlD8cV6A-mbnz_-sIKTxsKVVyAqgGbGjzTp88LpBA9VTovpWDZhEdw8-Rz2OQOjodX768QA7dBlpQZz0CcsWBro41hpVzJmk9ZUx_Gf626x43TJabdlTJhAsjnqVJM1GNW10SW39iR7lUaOqBCMJSCGbwN1ftI16lUsD6sDgEVk_9EKz4IU1ET2kAC4s3nCVJ1tTBYqBiqKnPHVFQoqEXzAC0vIVspezX3xpKCL2NuHq_j4IhUYrRMa8Hu4tz56a0CnccvbfVHQFHchz47fchvKi5n3iY2p0flBoCoi6qiGQGyvgxjCxLzxI0p4lYfnxp2aUzLr7Pn7Rh2h6gYy9raOiBzu6NDd4KttysMIobWPhpFx7qy8qGyJYSTJ8S4qOeNPKMKMtof_bGDjaSfmKQTNRWw1OV0D5i_EFSqOonJe-hn_jb-_IxUNzqLjx9tsHin4qRYnwFOyy13M7njoF-mJNOAuJrmhxm1Z601CZPpXshkkkpp-zk9_UpeR8uR6bdTJq7SKZOgqA6wK3bMIJoV-CC9mZ5-puI_JBXaEu8vezcXnAVLs5K78lVKhCDk85B6rpWZMuOBR2bNju31h5chkrOqpY5XUZRwBvg5HGsj1OGc8NkHAWw0Z5I0BBfpFlRsM9GXNaQJ4G8UMpusUseqpFRy-xzuFIfB4sBvO0L8uA_9uP63H-BGGbGDQOEyYbqACXQiRxfha0iwNXCzup2d6bureSVcb_LtWsb-vgAAmOiQRSwPewRUCO2Fq02oTCuBKWcgFtqHyiTYDqFouKd8gw_4ceuF5py-Nfc2ci4xh3RR_smkY2qo9zRWzTK6Asacp-x5u-UllFS2xBp9sd9HeQNdBfgOhzyxxo4vr3FOt7BePP5wAZGDAfntfPVq4opSa6oLAttKYQk9obMDfK1-CsNUgNw4DUAwxwOKrCQQMlHVZ3JgAnhC30AzkmD8Y66UcYnZ_qhsuUW9ACTYI6ZTXntHuQmV1s1CI-Eutr-t74MYE0WYl-2T-a2kxT4d3KdDfcO14jZuXxPKkL7s8YEcPKR9NSFJCvVNqZu_ndNaS_cb9k5CZCTQtpJ_W76BcZv3tjoaYFQBCEsz201xxfKJHo0oVxH7zK6YSJNwKYWl1cxri1hF1bFM8zNlY_YVu24gH3s3Pde5XrRmLxRoG684XCsTAkPGKA1miRXfG4UH1YDQ8wlYivR1Dfva1a8zsbZlsgpPgWBGel6yIX9AnFIXW4lnSdB1AJvSPNgE2HigDmwmpoQZzt6WyJt08rkaHa2RjwhwrIy7qVfzb20EXsLac3tEccShqfbEKMUpgBiR4dPK2QUsFYXN86ka6jkndEba0MDPWzNG3DlqnYKES_nruSeTlML23ZPkWKi4gnJwh1e5BZRBbmGFfV80yzWpCCvGS7ZVdfPnikuKA-5iO2C7zxg_NQR_6lVt0SKdMtL1bsapAArlz7slRuGmhpxCu5Dm8doPyu9XkI-uoKxDbrOONpYq7-CqyGYq9H8xUTkcLwhs5WWRLeIc53rmXzYoSLQUnmlYGnlN4DxWLqeZ-mhjedhrIbhT4ZriWH90FxtzE7ovjRp549AZWz2vJwDg4IKHk5VXWFXleN-t8LP0A6ygDQxXee6b9W9d6amBWHdq95XyvioRAYC29bFQYsy_uJsYqA8uDPw6C0PqvuC1f2Yxy4u-kt5XGGDsUsqyO_f-k8ZgR-BBJw2IRKV0-1WrDIjO2FF7Vank1Nxhs4K3g78Gb74IrxBkAyPg_T5GZhXnUWE0Ezl6z5q_JLHezCW2g74kW4y7bjdCzP6LmYotYUoVCoyMmN79FmbFfs-cECAgmc6p54dwkvxtLtQA_bQpwGO7OHUn3Hz9XJ0Bwoaip8kgnaZs_YVsAWTeVpXdLxtaFkhlftWb4YwthqPuSOSED0pZBHmnZLMvChQ21awGvlofICPehM3H_ySRxE8x1f5Ky0HTKQdGe4V87AyoTGZvKjlkyIFa9rD6zCDO0Ccan24pbaVTSiD5kFlX0pvDjPxdpSUTgn_bngf_L-7NN9c7Q-7tKmYFsyIfZm2czFlvfu_-FuQjoL2MWPdZb0dcYgoxtSO9GciWOMi11yaeUAJ-xOhSAZqb1kF4tcgpK9Y8vH4GfYw7kXE6tIx-dm2PS_GhQBTxxarHpmdYEyjtu2wmeq2K_JtDjO7kOk4yy3MMrJJ0Mu9B7ojgzkC81oZap6JVE36XxcX1OZx8ecuskJex_TiQz2ht4LEqg1FKuVze4rVdeWke9sWk9RpDiEWf4JR649WEytpoO7TtGECMbW14jOauqZJY1icG9_6BWOZObprxo_OmumH7VGoN8uBeEy1C0ULmmYo9x50zWeJbodkYNDpRm_WtfmLfh31W5jgaQtg-zI7r94Z_csYBq83n5iqb-_iIafr26BiC2GdBU2hgA63Enf7XouqLR9nofZpMuJhb7trQZ2TmOt4TjR5__YL2d3ud5pMlGptW0sO9Gfk5UaXDq_knFZfH47Xj8PIfpj3j05zxM-V7B61eiO0yHGCqSOVVHjftn3EM_sOe-hhEo3jJKQ9RV0BEuQhe594Qco5jfnbc9glMCmF6WzgwFd3FF1OUdhtxnTQWsBkR6XRs-0td09ddD8fFBSF3yzwITMViuS-aFSMdrKP6GAbqMv6xGzW-1t_BDlJGshDyYANYfWb9Dw9TEy7tLXaV9uRIN4yx1Cm9qaZfIWRJYi7yMhfzR7j283M4Diq4IIrW6efNACXYr3Fe\">\\n        </form>\\n    </div>\\n</div>\\n<script>\\n    (function(){\\n        window._cf_chl_opt={\\n            cvId: \\'2\\',\\n            cZone: \\'es.indeed.com\\',\\n            cType: \\'managed\\',\\n            cNounce: \\'20954\\',\\n            cRay: \\'7dad5856eb12d67d\\',\\n            cHash: \\'61601383c479abc\\',\\n            cUPMDTk: \"\\\\/jobs?q=data+scientist&l=&vjk=4517b451dab574bc&__cf_chl_tk=rtrf3JBzqya4lYeB07XQRTdsJvxowLPG1Jq4qgci0jE-1687361974-0-gaNycGzNDKU\",\\n            cFPWv: \\'b\\',\\n            cTTimeMs: \\'1000\\',\\n            cMTimeMs: \\'0\\',\\n            cTplV: 5,\\n            cTplB: \\'cf\\',\\n            cK: \"\",\\n            cRq: {\\n                ru: \\'aHR0cHM6Ly9lcy5pbmRlZWQuY29tL2pvYnM/cT1kYXRhK3NjaWVudGlzdCZsPSZ2ams9NDUxN2I0NTFkYWI1NzRiYw==\\',\\n                ra: \\'TW96aWxsYS81LjAgKFdpbmRvd3MgTlQgMTAuMDsgV2luNjQ7IHg2NCkgQXBwbGVXZWJLaXQvNTM3LjM2IChLSFRNTCwgbGlrZSBHZWNrbykgQ2hyb21lLzcyLjAuMzYyNi4xMjEgU2FmYXJpLzUzNy4zNg==\\',\\n                rm: \\'R0VU\\',\\n                d: \\'+12XVDDwUbatm68CQ/1rw8VRM57s8ZEua+6jzU36eCkH3xHs/oFSNkiaXcJZ2fVSd11vQkcywQVkHOubsbz9NpZWnx0kH8Z5ZKg7UGWnfoaR43AKNkLvcakCme7lpCa465VAdMxwg67KxAmUH+P6n2fbx632FQYjIitX4VVvPQPN+fG+NzRKgVaF3jpvXzC8JAZP3G860mNbDsREbJ6wKJuAchWYEBvMwfMQZD2bL998XxSnuD9xNJncW3VtLw5jNmeaZbwgTgDf2W5ByCmuXuZ3ZRm8gKbeVjhqIzCFBT7TaGKbihMQk6lEYeeRb5vtGRQkC57UVofAqhG3lmNQJnBy/dyZQmxfFf9bsFsML++QfndrmaCkKsPgZgLwdEdCOt9LIhPxwWPdop3Ho3CuBHZvCMlku9PZJAnV0jEi3iHByEYmm5lYKl4FxuCd+WeA9TMgHojzZizLTOMUhtIEuCbhGpbcXIV1szm6eVyke4iGX/UJRlFXSmvj/eEhFEMS+FypDWrHDRg3w83NuHwKrqu6SxE4F/IUO/HGbTC7vj8Mw0hlK8d72v4zRKtCnx8P7XCc4oE9Pit40WqOo02ds/3UPgWWB86jid5Tc1XtUKnGwx2inVNWozghLJtIMUrO\\',\\n                t: \\'MTY4NzM2MTk3NC44NzcwMDA=\\',\\n                cT: Math.floor(Date.now() / 1000),\\n                m: \\'0orxL+gtdQOWdEV6K/mVnDdnpsVwhfaLc6sGCtcgwhc=\\',\\n                i1: \\'HuPaO+0RqPHBPC0c5UPOdQ==\\',\\n                i2: \\'+wmaM1i8MJBbd+gHM7Zz3g==\\',\\n                zh: \\'2kfjrLYfAVNem19Lin3oP+VKo7ladb55se1eVtiLLnQ=\\',\\n                uh: \\'8up6gHANwg8GgTF/xFtL67z32p3rEEXC0Rmu4vvSlXQ=\\',\\n                hh: \\'92FRvm8YMZ8xQYGUv24yRo+xXx68fJblah4QyLpNPSo=\\',\\n            }\\n        };\\n        var trkjs = document.createElement(\\'img\\');\\n        trkjs.setAttribute(\\'src\\', \\'/cdn-cgi/images/trace/managed/js/transparent.gif?ray=7dad5856eb12d67d\\');\\n        trkjs.setAttribute(\\'alt\\', \\'\\');\\n        trkjs.setAttribute(\\'style\\', \\'display: none\\');\\n        document.body.appendChild(trkjs);\\n        var cpo = document.createElement(\\'script\\');\\n        cpo.src = \\'/cdn-cgi/challenge-platform/h/b/orchestrate/managed/v1?ray=7dad5856eb12d67d\\';\\n        window._cf_chl_opt.cOgUHash = location.hash === \\'\\' && location.href.indexOf(\\'#\\') !== -1 ? \\'#\\' : location.hash;\\n        window._cf_chl_opt.cOgUQuery = location.search === \\'\\' && location.href.slice(0, location.href.length - window._cf_chl_opt.cOgUHash.length).indexOf(\\'?\\') !== -1 ? \\'?\\' : location.search;\\n        if (window.history && window.history.replaceState) {\\n            var ogU = location.pathname + window._cf_chl_opt.cOgUQuery + window._cf_chl_opt.cOgUHash;\\n            history.replaceState(null, null, \"\\\\/jobs?q=data+scientist&l=&vjk=4517b451dab574bc&__cf_chl_rt_tk=rtrf3JBzqya4lYeB07XQRTdsJvxowLPG1Jq4qgci0jE-1687361974-0-gaNycGzNDKU\" + window._cf_chl_opt.cOgUHash);\\n            cpo.onload = function() {\\n                history.replaceState(null, null, ogU);\\n            };\\n        }\\n        document.getElementsByTagName(\\'head\\')[0].appendChild(cpo);\\n    }());\\n</script>\\n\\n\\n</body>\\n</html>\\n'\n"
     ]
    },
    {
     "data": {
      "text/plain": [
       "[]"
      ]
     },
     "execution_count": 9,
     "metadata": {},
     "output_type": "execute_result"
    }
   ],
   "source": [
    "get_job_urls(\"https://es.indeed.com/jobs?q=data+scientist&l=&vjk=4517b451dab574bc\")"
   ]
  },
  {
   "cell_type": "code",
   "execution_count": null,
   "id": "5b1666c7",
   "metadata": {},
   "outputs": [],
   "source": []
  },
  {
   "cell_type": "code",
   "execution_count": null,
   "id": "816c4743",
   "metadata": {},
   "outputs": [],
   "source": [
    "################################################################################################################################"
   ]
  }
 ],
 "metadata": {
  "kernelspec": {
   "display_name": "Python 3 (ipykernel)",
   "language": "python",
   "name": "python3"
  },
  "language_info": {
   "codemirror_mode": {
    "name": "ipython",
    "version": 3
   },
   "file_extension": ".py",
   "mimetype": "text/x-python",
   "name": "python",
   "nbconvert_exporter": "python",
   "pygments_lexer": "ipython3",
   "version": "3.9.12"
  }
 },
 "nbformat": 4,
 "nbformat_minor": 5
}
